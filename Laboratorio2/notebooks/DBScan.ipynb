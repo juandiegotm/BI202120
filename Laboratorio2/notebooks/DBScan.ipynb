{
  "nbformat": 4,
  "nbformat_minor": 2,
  "metadata": {
    "colab": {
      "name": "Limpieza Lab2.ipynb",
      "provenance": []
    },
    "kernelspec": {
      "name": "python3",
      "display_name": "Python 3.8.1 64-bit"
    },
    "language_info": {
      "name": "python",
      "version": "3.8.1",
      "mimetype": "text/x-python",
      "codemirror_mode": {
        "name": "ipython",
        "version": 3
      },
      "pygments_lexer": "ipython3",
      "nbconvert_exporter": "python",
      "file_extension": ".py"
    },
    "interpreter": {
      "hash": "334e7cfdb5f36cf88af300aea7d9fda061952b89f99f1cf5cc79ac4cbb4cb1a0"
    }
  },
  "cells": [
    {
      "cell_type": "code",
      "execution_count": 79,
      "source": [
        "import pandas as pd\r\n",
        "import numpy as np\r\n",
        "from matplotlib import cm\r\n",
        "import matplotlib.pyplot as plt\r\n",
        "import seaborn as sns; sns.set()  # for plot styling\r\n",
        "from sklearn.cluster import MeanShift, DBSCAN\r\n",
        "from sklearn.preprocessing import StandardScaler\r\n",
        "from sklearn.cluster import KMeans\r\n",
        "from sklearn.metrics import silhouette_samples, silhouette_score\r\n",
        "from sklearn.preprocessing import MinMaxScaler\r\n",
        "from sklearn import metrics # for calculating Silhouette score\r\n",
        "from yellowbrick.cluster import SilhouetteVisualizer\r\n",
        "\r\n",
        "import plotly.graph_objects as ob # For data visualization\r\n",
        "import plotly.express as px # For data visualization.\r\n"
      ],
      "outputs": [],
      "metadata": {
        "id": "UVaoVAMGdHSD"
      }
    },
    {
      "cell_type": "code",
      "execution_count": 80,
      "source": [
        "\r\n",
        "\r\n",
        "# Leer los datos\r\n",
        "# Se cargan los datos. \r\n",
        "df_bank=pd.read_csv('BancAlpes_credit_card_data.csv', sep=';', encoding = 'utf-8', index_col=0)"
      ],
      "outputs": [],
      "metadata": {
        "id": "bXYdIQ2UdWfh"
      }
    },
    {
      "cell_type": "code",
      "execution_count": 81,
      "source": [
        "# Miramos el número de columnas y filas\r\n",
        "df_bank.shape"
      ],
      "outputs": [
        {
          "output_type": "execute_result",
          "data": {
            "text/plain": [
              "(660, 10)"
            ]
          },
          "metadata": {},
          "execution_count": 81
        }
      ],
      "metadata": {
        "id": "__BeS4YQdh1W",
        "colab": {
          "base_uri": "https://localhost:8080/"
        },
        "outputId": "bc3017f4-be22-4acd-a60b-64eeeaee829f"
      }
    },
    {
      "cell_type": "code",
      "execution_count": 82,
      "source": [
        "df_bank.head()"
      ],
      "outputs": [
        {
          "output_type": "execute_result",
          "data": {
            "text/html": [
              "<div>\n",
              "<style scoped>\n",
              "    .dataframe tbody tr th:only-of-type {\n",
              "        vertical-align: middle;\n",
              "    }\n",
              "\n",
              "    .dataframe tbody tr th {\n",
              "        vertical-align: top;\n",
              "    }\n",
              "\n",
              "    .dataframe thead th {\n",
              "        text-align: right;\n",
              "    }\n",
              "</style>\n",
              "<table border=\"1\" class=\"dataframe\">\n",
              "  <thead>\n",
              "    <tr style=\"text-align: right;\">\n",
              "      <th></th>\n",
              "      <th>Customer</th>\n",
              "      <th>Limit_bal</th>\n",
              "      <th>Sex</th>\n",
              "      <th>Education</th>\n",
              "      <th>Marriage</th>\n",
              "      <th>Age</th>\n",
              "      <th>Total_Credit_Cards</th>\n",
              "      <th>Total_visits_bank</th>\n",
              "      <th>Total_visits_online</th>\n",
              "      <th>Total_calls_made</th>\n",
              "    </tr>\n",
              "    <tr>\n",
              "      <th>Id</th>\n",
              "      <th></th>\n",
              "      <th></th>\n",
              "      <th></th>\n",
              "      <th></th>\n",
              "      <th></th>\n",
              "      <th></th>\n",
              "      <th></th>\n",
              "      <th></th>\n",
              "      <th></th>\n",
              "      <th></th>\n",
              "    </tr>\n",
              "  </thead>\n",
              "  <tbody>\n",
              "    <tr>\n",
              "      <th>1</th>\n",
              "      <td>87073</td>\n",
              "      <td>20000</td>\n",
              "      <td>Female</td>\n",
              "      <td>2</td>\n",
              "      <td>Married</td>\n",
              "      <td>24</td>\n",
              "      <td>2</td>\n",
              "      <td>1</td>\n",
              "      <td>1</td>\n",
              "      <td>0</td>\n",
              "    </tr>\n",
              "    <tr>\n",
              "      <th>2</th>\n",
              "      <td>38414</td>\n",
              "      <td>120000</td>\n",
              "      <td>Female</td>\n",
              "      <td>2</td>\n",
              "      <td>Single</td>\n",
              "      <td>26</td>\n",
              "      <td>3</td>\n",
              "      <td>0</td>\n",
              "      <td>10</td>\n",
              "      <td>9</td>\n",
              "    </tr>\n",
              "    <tr>\n",
              "      <th>3</th>\n",
              "      <td>17341</td>\n",
              "      <td>90000</td>\n",
              "      <td>Female</td>\n",
              "      <td>2</td>\n",
              "      <td>Single</td>\n",
              "      <td>34</td>\n",
              "      <td>7</td>\n",
              "      <td>1</td>\n",
              "      <td>3</td>\n",
              "      <td>4</td>\n",
              "    </tr>\n",
              "    <tr>\n",
              "      <th>4</th>\n",
              "      <td>40496</td>\n",
              "      <td>50000</td>\n",
              "      <td>Female</td>\n",
              "      <td>2</td>\n",
              "      <td>Married</td>\n",
              "      <td>37</td>\n",
              "      <td>5</td>\n",
              "      <td>1</td>\n",
              "      <td>1</td>\n",
              "      <td>?</td>\n",
              "    </tr>\n",
              "    <tr>\n",
              "      <th>5</th>\n",
              "      <td>47437</td>\n",
              "      <td>50000</td>\n",
              "      <td>Male</td>\n",
              "      <td>2</td>\n",
              "      <td>Married</td>\n",
              "      <td>57</td>\n",
              "      <td>6</td>\n",
              "      <td>0</td>\n",
              "      <td>12</td>\n",
              "      <td>3</td>\n",
              "    </tr>\n",
              "  </tbody>\n",
              "</table>\n",
              "</div>"
            ],
            "text/plain": [
              "   Customer Limit_bal     Sex Education Marriage Age Total_Credit_Cards  \\\n",
              "Id                                                                        \n",
              "1     87073     20000  Female         2  Married  24                  2   \n",
              "2     38414    120000  Female         2   Single  26                  3   \n",
              "3     17341     90000  Female         2   Single  34                  7   \n",
              "4     40496     50000  Female         2  Married  37                  5   \n",
              "5     47437     50000    Male         2  Married  57                  6   \n",
              "\n",
              "   Total_visits_bank Total_visits_online Total_calls_made  \n",
              "Id                                                         \n",
              "1                  1                   1                0  \n",
              "2                  0                  10                9  \n",
              "3                  1                   3                4  \n",
              "4                  1                   1                ?  \n",
              "5                  0                  12                3  "
            ]
          },
          "metadata": {},
          "execution_count": 82
        }
      ],
      "metadata": {
        "colab": {
          "base_uri": "https://localhost:8080/",
          "height": 204
        },
        "id": "7zreAR1WiO5u",
        "outputId": "f14a115a-8ef0-424d-c47e-4804c94551a3"
      }
    },
    {
      "cell_type": "code",
      "execution_count": 83,
      "source": [
        "df_testing=df_bank[df_bank['Customer']!='-']\r\n",
        "df_testing= df_testing[df_testing['Education'] != 'ABC']\r\n",
        "df_testing=df_testing[df_testing['Total_Credit_Cards']!='-']\r\n",
        "df_testing=df_testing[df_testing['Total_visits_bank']!='?']\r\n",
        "df_testing=df_testing[df_testing['Total_calls_made']!='?']\r\n",
        "df_testing=df_testing[df_testing['Marriage']!='?']"
      ],
      "outputs": [],
      "metadata": {
        "id": "AtAeP9B2iVdE"
      }
    },
    {
      "cell_type": "code",
      "execution_count": 84,
      "source": [
        "# Resumen de los estadisticos de las variables numéricas\r\n",
        "df_testing.describe()"
      ],
      "outputs": [
        {
          "output_type": "execute_result",
          "data": {
            "text/html": [
              "<div>\n",
              "<style scoped>\n",
              "    .dataframe tbody tr th:only-of-type {\n",
              "        vertical-align: middle;\n",
              "    }\n",
              "\n",
              "    .dataframe tbody tr th {\n",
              "        vertical-align: top;\n",
              "    }\n",
              "\n",
              "    .dataframe thead th {\n",
              "        text-align: right;\n",
              "    }\n",
              "</style>\n",
              "<table border=\"1\" class=\"dataframe\">\n",
              "  <thead>\n",
              "    <tr style=\"text-align: right;\">\n",
              "      <th></th>\n",
              "      <th>Customer</th>\n",
              "      <th>Limit_bal</th>\n",
              "      <th>Sex</th>\n",
              "      <th>Education</th>\n",
              "      <th>Marriage</th>\n",
              "      <th>Age</th>\n",
              "      <th>Total_Credit_Cards</th>\n",
              "      <th>Total_visits_bank</th>\n",
              "      <th>Total_visits_online</th>\n",
              "      <th>Total_calls_made</th>\n",
              "    </tr>\n",
              "  </thead>\n",
              "  <tbody>\n",
              "    <tr>\n",
              "      <th>count</th>\n",
              "      <td>652</td>\n",
              "      <td>652</td>\n",
              "      <td>652</td>\n",
              "      <td>652</td>\n",
              "      <td>652</td>\n",
              "      <td>652</td>\n",
              "      <td>652</td>\n",
              "      <td>652</td>\n",
              "      <td>652</td>\n",
              "      <td>652</td>\n",
              "    </tr>\n",
              "    <tr>\n",
              "      <th>unique</th>\n",
              "      <td>647</td>\n",
              "      <td>54</td>\n",
              "      <td>8</td>\n",
              "      <td>6</td>\n",
              "      <td>6</td>\n",
              "      <td>47</td>\n",
              "      <td>11</td>\n",
              "      <td>6</td>\n",
              "      <td>16</td>\n",
              "      <td>11</td>\n",
              "    </tr>\n",
              "    <tr>\n",
              "      <th>top</th>\n",
              "      <td>96929</td>\n",
              "      <td>50000</td>\n",
              "      <td>Female</td>\n",
              "      <td>2</td>\n",
              "      <td>Single</td>\n",
              "      <td>29</td>\n",
              "      <td>4</td>\n",
              "      <td>2</td>\n",
              "      <td>2</td>\n",
              "      <td>4</td>\n",
              "    </tr>\n",
              "    <tr>\n",
              "      <th>freq</th>\n",
              "      <td>2</td>\n",
              "      <td>80</td>\n",
              "      <td>370</td>\n",
              "      <td>287</td>\n",
              "      <td>377</td>\n",
              "      <td>37</td>\n",
              "      <td>149</td>\n",
              "      <td>158</td>\n",
              "      <td>187</td>\n",
              "      <td>105</td>\n",
              "    </tr>\n",
              "  </tbody>\n",
              "</table>\n",
              "</div>"
            ],
            "text/plain": [
              "       Customer Limit_bal     Sex Education Marriage  Age Total_Credit_Cards  \\\n",
              "count       652       652     652       652      652  652                652   \n",
              "unique      647        54       8         6        6   47                 11   \n",
              "top       96929     50000  Female         2   Single   29                  4   \n",
              "freq          2        80     370       287      377   37                149   \n",
              "\n",
              "       Total_visits_bank Total_visits_online Total_calls_made  \n",
              "count                652                 652              652  \n",
              "unique                 6                  16               11  \n",
              "top                    2                   2                4  \n",
              "freq                 158                 187              105  "
            ]
          },
          "metadata": {},
          "execution_count": 84
        }
      ],
      "metadata": {
        "colab": {
          "base_uri": "https://localhost:8080/",
          "height": 172
        },
        "id": "lT-mbcmziS8I",
        "outputId": "bd6452b2-ea7d-427d-f6f6-4270ebae54ba"
      }
    },
    {
      "cell_type": "code",
      "execution_count": 85,
      "source": [
        "\r\n",
        "df_testing=df_testing[df_testing['Total_Credit_Cards']!='123456789']\r\n",
        "df_testing['Total_Credit_Cards'].value_counts()"
      ],
      "outputs": [
        {
          "output_type": "execute_result",
          "data": {
            "text/plain": [
              "4     149\n",
              "6     117\n",
              "7     101\n",
              "5      73\n",
              "2      60\n",
              "1      59\n",
              "3      51\n",
              "10     19\n",
              "9      11\n",
              "8      11\n",
              "Name: Total_Credit_Cards, dtype: int64"
            ]
          },
          "metadata": {},
          "execution_count": 85
        }
      ],
      "metadata": {
        "colab": {
          "base_uri": "https://localhost:8080/"
        },
        "id": "LGzsSMaVs-cd",
        "outputId": "43aeace1-50f6-4dc2-d8a5-ac6d12d58e99"
      }
    },
    {
      "cell_type": "code",
      "execution_count": 86,
      "source": [
        "\r\n",
        "df_testing['Customer']=df_testing['Customer'].astype(int)\r\n",
        "df_testing['Limit_bal']=df_testing['Limit_bal'].astype(int)\r\n",
        "df_testing['Education']=df_testing['Education'].astype(int)\r\n",
        "df_testing['Age']=df_testing['Age'].astype(int)\r\n",
        "df_testing['Total_Credit_Cards']=df_testing['Total_Credit_Cards'].astype(int)\r\n",
        "df_testing['Total_visits_bank']=df_testing['Total_visits_bank'].astype(int)\r\n",
        "df_testing['Total_visits_online']=df_testing['Total_visits_online'].astype(int)\r\n",
        "df_testing['Total_calls_made']=df_testing['Total_calls_made'].astype(int)"
      ],
      "outputs": [],
      "metadata": {
        "id": "Rfgo1AseibYR"
      }
    },
    {
      "cell_type": "code",
      "execution_count": 87,
      "source": [
        "# Revisar las características de los datos: completitud y tipo de dato\r\n",
        "df_testing.info()"
      ],
      "outputs": [
        {
          "output_type": "stream",
          "name": "stdout",
          "text": [
            "<class 'pandas.core.frame.DataFrame'>\n",
            "Int64Index: 651 entries, 1 to 660\n",
            "Data columns (total 10 columns):\n",
            " #   Column               Non-Null Count  Dtype \n",
            "---  ------               --------------  ----- \n",
            " 0   Customer             651 non-null    int32 \n",
            " 1   Limit_bal            651 non-null    int32 \n",
            " 2   Sex                  651 non-null    object\n",
            " 3   Education            651 non-null    int32 \n",
            " 4   Marriage             651 non-null    object\n",
            " 5   Age                  651 non-null    int32 \n",
            " 6   Total_Credit_Cards   651 non-null    int32 \n",
            " 7   Total_visits_bank    651 non-null    int32 \n",
            " 8   Total_visits_online  651 non-null    int32 \n",
            " 9   Total_calls_made     651 non-null    int32 \n",
            "dtypes: int32(8), object(2)\n",
            "memory usage: 35.6+ KB\n"
          ]
        }
      ],
      "metadata": {
        "colab": {
          "base_uri": "https://localhost:8080/"
        },
        "id": "5mnnZybursJs",
        "outputId": "4c76cbf2-a8c6-4ccd-f0f5-872b9720006d"
      }
    },
    {
      "cell_type": "code",
      "execution_count": 88,
      "source": [
        "df_statistic = df_testing.copy()\r\n",
        "df_statistic.pop(\"Customer\")\r\n",
        "df_statistic.describe()"
      ],
      "outputs": [
        {
          "output_type": "execute_result",
          "data": {
            "text/html": [
              "<div>\n",
              "<style scoped>\n",
              "    .dataframe tbody tr th:only-of-type {\n",
              "        vertical-align: middle;\n",
              "    }\n",
              "\n",
              "    .dataframe tbody tr th {\n",
              "        vertical-align: top;\n",
              "    }\n",
              "\n",
              "    .dataframe thead th {\n",
              "        text-align: right;\n",
              "    }\n",
              "</style>\n",
              "<table border=\"1\" class=\"dataframe\">\n",
              "  <thead>\n",
              "    <tr style=\"text-align: right;\">\n",
              "      <th></th>\n",
              "      <th>Limit_bal</th>\n",
              "      <th>Education</th>\n",
              "      <th>Age</th>\n",
              "      <th>Total_Credit_Cards</th>\n",
              "      <th>Total_visits_bank</th>\n",
              "      <th>Total_visits_online</th>\n",
              "      <th>Total_calls_made</th>\n",
              "    </tr>\n",
              "  </thead>\n",
              "  <tbody>\n",
              "    <tr>\n",
              "      <th>count</th>\n",
              "      <td>651.000000</td>\n",
              "      <td>651.000000</td>\n",
              "      <td>651.000000</td>\n",
              "      <td>651.000000</td>\n",
              "      <td>651.000000</td>\n",
              "      <td>651.000000</td>\n",
              "      <td>651.000000</td>\n",
              "    </tr>\n",
              "    <tr>\n",
              "      <th>mean</th>\n",
              "      <td>169646.697389</td>\n",
              "      <td>1.788018</td>\n",
              "      <td>95.929339</td>\n",
              "      <td>4.729647</td>\n",
              "      <td>2.428571</td>\n",
              "      <td>2.597542</td>\n",
              "      <td>3.540707</td>\n",
              "    </tr>\n",
              "    <tr>\n",
              "      <th>std</th>\n",
              "      <td>129147.612268</td>\n",
              "      <td>0.779296</td>\n",
              "      <td>1441.435098</td>\n",
              "      <td>2.169870</td>\n",
              "      <td>1.627376</td>\n",
              "      <td>2.950503</td>\n",
              "      <td>2.849473</td>\n",
              "    </tr>\n",
              "    <tr>\n",
              "      <th>min</th>\n",
              "      <td>10000.000000</td>\n",
              "      <td>1.000000</td>\n",
              "      <td>21.000000</td>\n",
              "      <td>1.000000</td>\n",
              "      <td>0.000000</td>\n",
              "      <td>0.000000</td>\n",
              "      <td>0.000000</td>\n",
              "    </tr>\n",
              "    <tr>\n",
              "      <th>25%</th>\n",
              "      <td>60000.000000</td>\n",
              "      <td>1.000000</td>\n",
              "      <td>28.000000</td>\n",
              "      <td>3.000000</td>\n",
              "      <td>1.000000</td>\n",
              "      <td>1.000000</td>\n",
              "      <td>1.000000</td>\n",
              "    </tr>\n",
              "    <tr>\n",
              "      <th>50%</th>\n",
              "      <td>140000.000000</td>\n",
              "      <td>2.000000</td>\n",
              "      <td>33.000000</td>\n",
              "      <td>5.000000</td>\n",
              "      <td>2.000000</td>\n",
              "      <td>2.000000</td>\n",
              "      <td>3.000000</td>\n",
              "    </tr>\n",
              "    <tr>\n",
              "      <th>75%</th>\n",
              "      <td>240000.000000</td>\n",
              "      <td>2.000000</td>\n",
              "      <td>41.000000</td>\n",
              "      <td>6.000000</td>\n",
              "      <td>4.000000</td>\n",
              "      <td>4.000000</td>\n",
              "      <td>5.000000</td>\n",
              "    </tr>\n",
              "    <tr>\n",
              "      <th>max</th>\n",
              "      <td>630000.000000</td>\n",
              "      <td>6.000000</td>\n",
              "      <td>36745.000000</td>\n",
              "      <td>10.000000</td>\n",
              "      <td>5.000000</td>\n",
              "      <td>15.000000</td>\n",
              "      <td>10.000000</td>\n",
              "    </tr>\n",
              "  </tbody>\n",
              "</table>\n",
              "</div>"
            ],
            "text/plain": [
              "           Limit_bal   Education           Age  Total_Credit_Cards  \\\n",
              "count     651.000000  651.000000    651.000000          651.000000   \n",
              "mean   169646.697389    1.788018     95.929339            4.729647   \n",
              "std    129147.612268    0.779296   1441.435098            2.169870   \n",
              "min     10000.000000    1.000000     21.000000            1.000000   \n",
              "25%     60000.000000    1.000000     28.000000            3.000000   \n",
              "50%    140000.000000    2.000000     33.000000            5.000000   \n",
              "75%    240000.000000    2.000000     41.000000            6.000000   \n",
              "max    630000.000000    6.000000  36745.000000           10.000000   \n",
              "\n",
              "       Total_visits_bank  Total_visits_online  Total_calls_made  \n",
              "count         651.000000           651.000000        651.000000  \n",
              "mean            2.428571             2.597542          3.540707  \n",
              "std             1.627376             2.950503          2.849473  \n",
              "min             0.000000             0.000000          0.000000  \n",
              "25%             1.000000             1.000000          1.000000  \n",
              "50%             2.000000             2.000000          3.000000  \n",
              "75%             4.000000             4.000000          5.000000  \n",
              "max             5.000000            15.000000         10.000000  "
            ]
          },
          "metadata": {},
          "execution_count": 88
        }
      ],
      "metadata": {}
    },
    {
      "cell_type": "code",
      "execution_count": 89,
      "source": [
        "df_testing.loc[df_testing['Age'] >= 100 ]"
      ],
      "outputs": [
        {
          "output_type": "execute_result",
          "data": {
            "text/html": [
              "<div>\n",
              "<style scoped>\n",
              "    .dataframe tbody tr th:only-of-type {\n",
              "        vertical-align: middle;\n",
              "    }\n",
              "\n",
              "    .dataframe tbody tr th {\n",
              "        vertical-align: top;\n",
              "    }\n",
              "\n",
              "    .dataframe thead th {\n",
              "        text-align: right;\n",
              "    }\n",
              "</style>\n",
              "<table border=\"1\" class=\"dataframe\">\n",
              "  <thead>\n",
              "    <tr style=\"text-align: right;\">\n",
              "      <th></th>\n",
              "      <th>Customer</th>\n",
              "      <th>Limit_bal</th>\n",
              "      <th>Sex</th>\n",
              "      <th>Education</th>\n",
              "      <th>Marriage</th>\n",
              "      <th>Age</th>\n",
              "      <th>Total_Credit_Cards</th>\n",
              "      <th>Total_visits_bank</th>\n",
              "      <th>Total_visits_online</th>\n",
              "      <th>Total_calls_made</th>\n",
              "    </tr>\n",
              "    <tr>\n",
              "      <th>Id</th>\n",
              "      <th></th>\n",
              "      <th></th>\n",
              "      <th></th>\n",
              "      <th></th>\n",
              "      <th></th>\n",
              "      <th></th>\n",
              "      <th></th>\n",
              "      <th></th>\n",
              "      <th></th>\n",
              "      <th></th>\n",
              "    </tr>\n",
              "  </thead>\n",
              "  <tbody>\n",
              "    <tr>\n",
              "      <th>43</th>\n",
              "      <td>52363</td>\n",
              "      <td>10000</td>\n",
              "      <td>Male</td>\n",
              "      <td>2</td>\n",
              "      <td>Single</td>\n",
              "      <td>2202</td>\n",
              "      <td>4</td>\n",
              "      <td>2</td>\n",
              "      <td>3</td>\n",
              "      <td>4</td>\n",
              "    </tr>\n",
              "    <tr>\n",
              "      <th>47</th>\n",
              "      <td>83326</td>\n",
              "      <td>20000</td>\n",
              "      <td>Female</td>\n",
              "      <td>1</td>\n",
              "      <td>Single</td>\n",
              "      <td>36745</td>\n",
              "      <td>1</td>\n",
              "      <td>2</td>\n",
              "      <td>2</td>\n",
              "      <td>5</td>\n",
              "    </tr>\n",
              "    <tr>\n",
              "      <th>51</th>\n",
              "      <td>51182</td>\n",
              "      <td>70000</td>\n",
              "      <td>Male</td>\n",
              "      <td>3</td>\n",
              "      <td>2</td>\n",
              "      <td>789</td>\n",
              "      <td>1</td>\n",
              "      <td>0</td>\n",
              "      <td>5</td>\n",
              "      <td>9</td>\n",
              "    </tr>\n",
              "  </tbody>\n",
              "</table>\n",
              "</div>"
            ],
            "text/plain": [
              "    Customer  Limit_bal     Sex  Education Marriage    Age  \\\n",
              "Id                                                           \n",
              "43     52363      10000    Male          2   Single   2202   \n",
              "47     83326      20000  Female          1   Single  36745   \n",
              "51     51182      70000    Male          3        2    789   \n",
              "\n",
              "    Total_Credit_Cards  Total_visits_bank  Total_visits_online  \\\n",
              "Id                                                               \n",
              "43                   4                  2                    3   \n",
              "47                   1                  2                    2   \n",
              "51                   1                  0                    5   \n",
              "\n",
              "    Total_calls_made  \n",
              "Id                    \n",
              "43                 4  \n",
              "47                 5  \n",
              "51                 9  "
            ]
          },
          "metadata": {},
          "execution_count": 89
        }
      ],
      "metadata": {}
    },
    {
      "cell_type": "code",
      "execution_count": 90,
      "source": [
        "# Transformamos la columna Sex a valores enteros\r\n",
        "df_testing['Sex'] = [s.replace(\"Female\", \"0\") for s in df_testing['Sex']]\r\n",
        "df_testing['Sex'] = [s.replace(\"Femael\", \"0\") for s in df_testing['Sex']]\r\n",
        "df_testing['Sex'] = [s.replace(\"f\", \"0\") for s in df_testing['Sex']]\r\n",
        "df_testing['Sex'] = [s.replace(\"F\", \"0\") for s in df_testing['Sex']]\r\n",
        "df_testing['Sex'] = [s.replace(\"Male\", \"1\") for s in df_testing['Sex']]\r\n",
        "df_testing['Sex'] = [s.replace(\"Mael\", \"1\") for s in df_testing['Sex']]\r\n",
        "df_testing['Sex'] = [s.replace(\"M\", \"1\") for s in df_testing['Sex']]\r\n",
        "\r\n",
        "df_testing['Sex'] = df_testing['Sex'].astype(int)\r\n"
      ],
      "outputs": [],
      "metadata": {
        "id": "0elUpC5lrukh"
      }
    },
    {
      "cell_type": "code",
      "execution_count": 91,
      "source": [
        "df_testing=df_testing[df_testing['Sex']!=9]\r\n",
        "df_testing['Sex'].value_counts()"
      ],
      "outputs": [
        {
          "output_type": "execute_result",
          "data": {
            "text/plain": [
              "0    376\n",
              "1    274\n",
              "Name: Sex, dtype: int64"
            ]
          },
          "metadata": {},
          "execution_count": 91
        }
      ],
      "metadata": {
        "colab": {
          "base_uri": "https://localhost:8080/"
        },
        "id": "oEe_yTTIrwop",
        "outputId": "d25e19ca-a30b-48fd-a6a4-a47264299899"
      }
    },
    {
      "cell_type": "code",
      "execution_count": 92,
      "source": [
        "df_testing['Marriage'] = [s.replace(\"Married\", \"0\") for s in df_testing['Marriage']]\r\n",
        "df_testing['Marriage'] = [s.replace(\"Single\", \"1\") for s in df_testing['Marriage']]\r\n",
        "df_testing['Marriage'] = [s.replace(\"Others\", \"2\") for s in df_testing['Marriage']]\r\n",
        "\r\n",
        "df_testing['Marriage'] = df_testing['Marriage'].astype(int)"
      ],
      "outputs": [],
      "metadata": {
        "id": "2WeeaFw4ryXj"
      }
    },
    {
      "cell_type": "code",
      "execution_count": 93,
      "source": [
        "df_testing['Marriage'].value_counts()"
      ],
      "outputs": [
        {
          "output_type": "execute_result",
          "data": {
            "text/plain": [
              "1    380\n",
              "0    259\n",
              "2     11\n",
              "Name: Marriage, dtype: int64"
            ]
          },
          "metadata": {},
          "execution_count": 93
        }
      ],
      "metadata": {
        "colab": {
          "base_uri": "https://localhost:8080/"
        },
        "id": "DcDzy1Qfr0Gj",
        "outputId": "5106b9bd-e3ac-4605-bcac-7cd777625ee5"
      }
    },
    {
      "cell_type": "code",
      "execution_count": 94,
      "source": [
        "#Normalización\r\n",
        "df_testing_pru = df_testing.copy()\r\n",
        "df_testing_normalized=(df_testing_pru-df_testing_pru.min())/(df_testing_pru.max()-df_testing_pru.min())"
      ],
      "outputs": [],
      "metadata": {
        "id": "GC4ebzFBr1dZ"
      }
    },
    {
      "cell_type": "code",
      "execution_count": 95,
      "source": [
        "df_testing_normalized.describe()"
      ],
      "outputs": [
        {
          "output_type": "execute_result",
          "data": {
            "text/html": [
              "<div>\n",
              "<style scoped>\n",
              "    .dataframe tbody tr th:only-of-type {\n",
              "        vertical-align: middle;\n",
              "    }\n",
              "\n",
              "    .dataframe tbody tr th {\n",
              "        vertical-align: top;\n",
              "    }\n",
              "\n",
              "    .dataframe thead th {\n",
              "        text-align: right;\n",
              "    }\n",
              "</style>\n",
              "<table border=\"1\" class=\"dataframe\">\n",
              "  <thead>\n",
              "    <tr style=\"text-align: right;\">\n",
              "      <th></th>\n",
              "      <th>Customer</th>\n",
              "      <th>Limit_bal</th>\n",
              "      <th>Sex</th>\n",
              "      <th>Education</th>\n",
              "      <th>Marriage</th>\n",
              "      <th>Age</th>\n",
              "      <th>Total_Credit_Cards</th>\n",
              "      <th>Total_visits_bank</th>\n",
              "      <th>Total_visits_online</th>\n",
              "      <th>Total_calls_made</th>\n",
              "    </tr>\n",
              "  </thead>\n",
              "  <tbody>\n",
              "    <tr>\n",
              "      <th>count</th>\n",
              "      <td>650.000000</td>\n",
              "      <td>650.000000</td>\n",
              "      <td>650.000000</td>\n",
              "      <td>650.000000</td>\n",
              "      <td>650.000000</td>\n",
              "      <td>650.000000</td>\n",
              "      <td>650.000000</td>\n",
              "      <td>650.000000</td>\n",
              "      <td>650.000000</td>\n",
              "      <td>650.000000</td>\n",
              "    </tr>\n",
              "    <tr>\n",
              "      <th>mean</th>\n",
              "      <td>0.496666</td>\n",
              "      <td>0.257717</td>\n",
              "      <td>0.421538</td>\n",
              "      <td>0.157846</td>\n",
              "      <td>0.309231</td>\n",
              "      <td>0.002043</td>\n",
              "      <td>0.415043</td>\n",
              "      <td>0.485846</td>\n",
              "      <td>0.173026</td>\n",
              "      <td>0.353538</td>\n",
              "    </tr>\n",
              "    <tr>\n",
              "      <th>std</th>\n",
              "      <td>0.289917</td>\n",
              "      <td>0.208386</td>\n",
              "      <td>0.494186</td>\n",
              "      <td>0.155856</td>\n",
              "      <td>0.259918</td>\n",
              "      <td>0.039281</td>\n",
              "      <td>0.240733</td>\n",
              "      <td>0.325708</td>\n",
              "      <td>0.196817</td>\n",
              "      <td>0.284843</td>\n",
              "    </tr>\n",
              "    <tr>\n",
              "      <th>min</th>\n",
              "      <td>0.000000</td>\n",
              "      <td>0.000000</td>\n",
              "      <td>0.000000</td>\n",
              "      <td>0.000000</td>\n",
              "      <td>0.000000</td>\n",
              "      <td>0.000000</td>\n",
              "      <td>0.000000</td>\n",
              "      <td>0.000000</td>\n",
              "      <td>0.000000</td>\n",
              "      <td>0.000000</td>\n",
              "    </tr>\n",
              "    <tr>\n",
              "      <th>25%</th>\n",
              "      <td>0.256881</td>\n",
              "      <td>0.080645</td>\n",
              "      <td>0.000000</td>\n",
              "      <td>0.000000</td>\n",
              "      <td>0.000000</td>\n",
              "      <td>0.000191</td>\n",
              "      <td>0.222222</td>\n",
              "      <td>0.200000</td>\n",
              "      <td>0.066667</td>\n",
              "      <td>0.100000</td>\n",
              "    </tr>\n",
              "    <tr>\n",
              "      <th>50%</th>\n",
              "      <td>0.481598</td>\n",
              "      <td>0.209677</td>\n",
              "      <td>0.000000</td>\n",
              "      <td>0.200000</td>\n",
              "      <td>0.500000</td>\n",
              "      <td>0.000340</td>\n",
              "      <td>0.444444</td>\n",
              "      <td>0.400000</td>\n",
              "      <td>0.133333</td>\n",
              "      <td>0.300000</td>\n",
              "    </tr>\n",
              "    <tr>\n",
              "      <th>75%</th>\n",
              "      <td>0.748380</td>\n",
              "      <td>0.370968</td>\n",
              "      <td>1.000000</td>\n",
              "      <td>0.200000</td>\n",
              "      <td>0.500000</td>\n",
              "      <td>0.000545</td>\n",
              "      <td>0.555556</td>\n",
              "      <td>0.800000</td>\n",
              "      <td>0.266667</td>\n",
              "      <td>0.500000</td>\n",
              "    </tr>\n",
              "    <tr>\n",
              "      <th>max</th>\n",
              "      <td>1.000000</td>\n",
              "      <td>1.000000</td>\n",
              "      <td>1.000000</td>\n",
              "      <td>1.000000</td>\n",
              "      <td>1.000000</td>\n",
              "      <td>1.000000</td>\n",
              "      <td>1.000000</td>\n",
              "      <td>1.000000</td>\n",
              "      <td>1.000000</td>\n",
              "      <td>1.000000</td>\n",
              "    </tr>\n",
              "  </tbody>\n",
              "</table>\n",
              "</div>"
            ],
            "text/plain": [
              "         Customer   Limit_bal         Sex   Education    Marriage         Age  \\\n",
              "count  650.000000  650.000000  650.000000  650.000000  650.000000  650.000000   \n",
              "mean     0.496666    0.257717    0.421538    0.157846    0.309231    0.002043   \n",
              "std      0.289917    0.208386    0.494186    0.155856    0.259918    0.039281   \n",
              "min      0.000000    0.000000    0.000000    0.000000    0.000000    0.000000   \n",
              "25%      0.256881    0.080645    0.000000    0.000000    0.000000    0.000191   \n",
              "50%      0.481598    0.209677    0.000000    0.200000    0.500000    0.000340   \n",
              "75%      0.748380    0.370968    1.000000    0.200000    0.500000    0.000545   \n",
              "max      1.000000    1.000000    1.000000    1.000000    1.000000    1.000000   \n",
              "\n",
              "       Total_Credit_Cards  Total_visits_bank  Total_visits_online  \\\n",
              "count          650.000000         650.000000           650.000000   \n",
              "mean             0.415043           0.485846             0.173026   \n",
              "std              0.240733           0.325708             0.196817   \n",
              "min              0.000000           0.000000             0.000000   \n",
              "25%              0.222222           0.200000             0.066667   \n",
              "50%              0.444444           0.400000             0.133333   \n",
              "75%              0.555556           0.800000             0.266667   \n",
              "max              1.000000           1.000000             1.000000   \n",
              "\n",
              "       Total_calls_made  \n",
              "count        650.000000  \n",
              "mean           0.353538  \n",
              "std            0.284843  \n",
              "min            0.000000  \n",
              "25%            0.100000  \n",
              "50%            0.300000  \n",
              "75%            0.500000  \n",
              "max            1.000000  "
            ]
          },
          "metadata": {},
          "execution_count": 95
        }
      ],
      "metadata": {
        "colab": {
          "base_uri": "https://localhost:8080/",
          "height": 315
        },
        "id": "b91Yq1ptr3FR",
        "outputId": "fffb458f-ef99-4a95-a0b3-0653eb0c6599"
      }
    },
    {
      "cell_type": "code",
      "execution_count": 113,
      "source": [
        "#Visualización de todas las variables numéricas\r\n",
        "fig=plt.figure(figsize=(20,8))\r\n",
        "ax = sns.boxplot(data=df_testing_normalized, orient=\"v\")"
      ],
      "outputs": [
        {
          "output_type": "display_data",
          "data": {
            "image/png": "[encoded data removed]",
            "text/plain": [
              "<Figure size 1440x576 with 1 Axes>"
            ]
          },
          "metadata": {}
        }
      ],
      "metadata": {
        "colab": {
          "base_uri": "https://localhost:8080/",
          "height": 468
        },
        "id": "84AlqTRMr6wa",
        "outputId": "784852b6-1415-413f-ad87-4b3437662bcc"
      }
    },
    {
      "cell_type": "code",
      "execution_count": 97,
      "source": [
        "df_testing.boxplot(column=['Total_Credit_Cards'], return_type='axes')"
      ],
      "outputs": [
        {
          "output_type": "execute_result",
          "data": {
            "text/plain": [
              "<AxesSubplot:>"
            ]
          },
          "metadata": {},
          "execution_count": 97
        },
        {
          "output_type": "display_data",
          "data": {
            "image/png": "[encoded data removed]",
            "text/plain": [
              "<Figure size 576x396 with 1 Axes>"
            ]
          },
          "metadata": {}
        }
      ],
      "metadata": {}
    },
    {
      "cell_type": "code",
      "execution_count": 117,
      "source": [
        "# Create a 3D scatter plot\r\n",
        "fig = px.scatter_3d(df_bank, x = df_testing_normalized[\"Total_Credit_Cards\"], y = df_testing_normalized[\"Total_visits_bank\"], z = df_testing_normalized[\"Total_visits_online\"], opacity=1, color_discrete_sequence=['black'], height=900, width=900)\r\n",
        "\r\n",
        "# Update chart looks\r\n",
        "fig.update_layout(#title_text=\"Scatter 3D Plot\",\r\n",
        "                  scene_camera=dict(up=dict(x=0, y=0, z=1), \r\n",
        "                                        center=dict(x=0, y=0, z=-0.2),\r\n",
        "                                        eye=dict(x=1.5, y=1.5, z=0.5)),\r\n",
        "                                        margin=dict(l=0, r=0, b=0, t=0),\r\n",
        "                  scene = dict(xaxis=dict(backgroundcolor='white',\r\n",
        "                                          color='black',\r\n",
        "                                          gridcolor='#f0f0f0',\r\n",
        "                                          title=\"Total Credit Cards\",\r\n",
        "                                          title_font=dict(size=10),\r\n",
        "                                          tickfont=dict(size=10),\r\n",
        "                                         ),\r\n",
        "                               yaxis=dict(backgroundcolor='white',\r\n",
        "                                          color='black',\r\n",
        "                                          gridcolor='#f0f0f0',\r\n",
        "                                          title='Total visits bank',\r\n",
        "                                          title_font=dict(size=10),\r\n",
        "                                          tickfont=dict(size=10),\r\n",
        "                                          ),\r\n",
        "                               zaxis=dict(backgroundcolor='lightgrey',\r\n",
        "                                          color='black', \r\n",
        "                                          gridcolor='#f0f0f0',\r\n",
        "                                          title=\"Total visits online\",\r\n",
        "                                          title_font=dict(size=10),\r\n",
        "                                          tickfont=dict(size=10),\r\n",
        "                                         )))\r\n",
        "\r\n",
        "         \r\n",
        "# Update marker size\r\n",
        "fig.update_traces(marker=dict(size=2))\r\n",
        "\r\n",
        "fig.show()"
      ],
      "outputs": [
        {
          "output_type": "display_data",
          "data": {
            "application/vnd.plotly.v1+json": {
              "config": {
                "plotlyServerURL": "https://plot.ly"
              },
              "data": [
                {
                  "hovertemplate": "x=%{x}<br>y=%{y}<br>z=%{z}<extra></extra>",
                  "legendgroup": "",
                  "marker": {
                    "color": "black",
                    "opacity": 1,
                    "size": 2,
                    "symbol": "circle"
                  },
                  "mode": "markers",
                  "name": "",
                  "scene": "scene",
                  "showlegend": false,
                  "type": "scatter3d",
                  "x": [
                    0.1111111111111111,
                    0.7777777777777778,
                    0.6666666666666666,
                    1,
                    0.8888888888888888,
                    0.6666666666666666,
                    0.6666666666666666,
                    0.7777777777777778,
                    1,
                    0.8888888888888888,
                    0.8888888888888888,
                    0.8888888888888888,
                    0.8888888888888888,
                    0.6666666666666666,
                    0.2222222222222222,
                    0.2222222222222222,
                    0.1111111111111111,
                    0.2222222222222222,
                    0,
                    0.1111111111111111,
                    0.3333333333333333,
                    0.2222222222222222,
                    0.2222222222222222,
                    0.6666666666666666,
                    1,
                    0.8888888888888888,
                    0.7777777777777778,
                    0.7777777777777778,
                    1,
                    1,
                    1,
                    0.7777777777777778,
                    0.8888888888888888,
                    1,
                    1,
                    0.8888888888888888,
                    0.6666666666666666,
                    0.8888888888888888,
                    1,
                    1,
                    0.7777777777777778,
                    0.6666666666666666,
                    0.8888888888888888,
                    1,
                    1,
                    0.7777777777777778,
                    0.6666666666666666,
                    0.6666666666666666,
                    0.7777777777777778,
                    1,
                    0.2222222222222222,
                    0,
                    0.8888888888888888,
                    0.3333333333333333,
                    0.3333333333333333,
                    0.2222222222222222,
                    0,
                    0.4444444444444444,
                    0.3333333333333333,
                    0.5555555555555556,
                    0.2222222222222222,
                    0.6666666666666666,
                    0.2222222222222222,
                    0,
                    0.1111111111111111,
                    0.1111111111111111,
                    0.1111111111111111,
                    0.1111111111111111,
                    0,
                    0,
                    0,
                    0,
                    0,
                    0,
                    0,
                    0,
                    0,
                    0.1111111111111111,
                    0.1111111111111111,
                    0.1111111111111111,
                    0.1111111111111111,
                    0.1111111111111111,
                    0.1111111111111111,
                    0.1111111111111111,
                    0.1111111111111111,
                    0.1111111111111111,
                    0.1111111111111111,
                    0.3333333333333333,
                    0.3333333333333333,
                    0.3333333333333333,
                    0.3333333333333333,
                    0.3333333333333333,
                    0.2222222222222222,
                    0.2222222222222222,
                    0.2222222222222222,
                    0.2222222222222222,
                    0.1111111111111111,
                    0.1111111111111111,
                    0.1111111111111111,
                    0.1111111111111111,
                    0.1111111111111111,
                    0.1111111111111111,
                    0.3333333333333333,
                    0.3333333333333333,
                    0.3333333333333333,
                    0.3333333333333333,
                    0.3333333333333333,
                    0.3333333333333333,
                    0.3333333333333333,
                    0.3333333333333333,
                    0.2222222222222222,
                    0.2222222222222222,
                    0.2222222222222222,
                    0.2222222222222222,
                    0.1111111111111111,
                    0.1111111111111111,
                    0.1111111111111111,
                    0.1111111111111111,
                    0.1111111111111111,
                    0.1111111111111111,
                    0.1111111111111111,
                    0.1111111111111111,
                    0.1111111111111111,
                    0.3333333333333333,
                    0.3333333333333333,
                    0.3333333333333333,
                    0.3333333333333333,
                    0.3333333333333333,
                    0.3333333333333333,
                    0.2222222222222222,
                    0.2222222222222222,
                    0.2222222222222222,
                    0.2222222222222222,
                    0.2222222222222222,
                    0.2222222222222222,
                    0.2222222222222222,
                    0,
                    0,
                    0,
                    0,
                    0,
                    0,
                    0.2222222222222222,
                    0.2222222222222222,
                    0.2222222222222222,
                    0.2222222222222222,
                    0.2222222222222222,
                    0.2222222222222222,
                    0.2222222222222222,
                    0,
                    0,
                    0,
                    0,
                    0,
                    0.3333333333333333,
                    0.3333333333333333,
                    0.3333333333333333,
                    0.3333333333333333,
                    0.3333333333333333,
                    0.3333333333333333,
                    0.3333333333333333,
                    0.3333333333333333,
                    0.3333333333333333,
                    0.3333333333333333,
                    0.3333333333333333,
                    0,
                    0,
                    0,
                    0,
                    0,
                    0,
                    0,
                    0.3333333333333333,
                    0.3333333333333333,
                    0.3333333333333333,
                    0.3333333333333333,
                    0.2222222222222222,
                    0.2222222222222222,
                    0.2222222222222222,
                    0.2222222222222222,
                    0.2222222222222222,
                    0.1111111111111111,
                    0.1111111111111111,
                    0.1111111111111111,
                    0.1111111111111111,
                    0.1111111111111111,
                    0.1111111111111111,
                    0.1111111111111111,
                    0,
                    0,
                    0,
                    0,
                    0,
                    0,
                    0.2222222222222222,
                    0.2222222222222222,
                    0.2222222222222222,
                    0.2222222222222222,
                    0.2222222222222222,
                    0.2222222222222222,
                    0,
                    0,
                    0,
                    0,
                    0,
                    0,
                    0,
                    0,
                    0,
                    0,
                    0,
                    0.3333333333333333,
                    0.3333333333333333,
                    0.3333333333333333,
                    0.3333333333333333,
                    0.3333333333333333,
                    0.3333333333333333,
                    0.3333333333333333,
                    0.3333333333333333,
                    0,
                    0,
                    0,
                    0.3333333333333333,
                    0.3333333333333333,
                    0.3333333333333333,
                    0.3333333333333333,
                    0.3333333333333333,
                    0.3333333333333333,
                    0.3333333333333333,
                    0.1111111111111111,
                    0.1111111111111111,
                    0.1111111111111111,
                    0.1111111111111111,
                    0.2222222222222222,
                    0.2222222222222222,
                    0.2222222222222222,
                    0.2222222222222222,
                    0.1111111111111111,
                    0.1111111111111111,
                    0.1111111111111111,
                    0,
                    0,
                    0,
                    0,
                    0,
                    0,
                    0,
                    0.1111111111111111,
                    0.1111111111111111,
                    0.1111111111111111,
                    0.1111111111111111,
                    0.1111111111111111,
                    0.1111111111111111,
                    0.1111111111111111,
                    0.1111111111111111,
                    0.1111111111111111,
                    0.1111111111111111,
                    0.2222222222222222,
                    0.2222222222222222,
                    0.2222222222222222,
                    0.2222222222222222,
                    0.2222222222222222,
                    0.1111111111111111,
                    0.1111111111111111,
                    0.1111111111111111,
                    0.1111111111111111,
                    0.6666666666666666,
                    0.6666666666666666,
                    0.6666666666666666,
                    0.6666666666666666,
                    0.6666666666666666,
                    0.6666666666666666,
                    0.6666666666666666,
                    0.6666666666666666,
                    0.6666666666666666,
                    0.6666666666666666,
                    0.6666666666666666,
                    0.6666666666666666,
                    0.6666666666666666,
                    0.6666666666666666,
                    0.6666666666666666,
                    0.6666666666666666,
                    0.6666666666666666,
                    0.6666666666666666,
                    0.6666666666666666,
                    0.6666666666666666,
                    0.6666666666666666,
                    0.6666666666666666,
                    0.3333333333333333,
                    0.3333333333333333,
                    0.3333333333333333,
                    0.3333333333333333,
                    0.3333333333333333,
                    0.3333333333333333,
                    0.3333333333333333,
                    0.3333333333333333,
                    0.3333333333333333,
                    0.3333333333333333,
                    0.3333333333333333,
                    0.3333333333333333,
                    0.3333333333333333,
                    0.3333333333333333,
                    0.3333333333333333,
                    0.3333333333333333,
                    0.3333333333333333,
                    0.3333333333333333,
                    0.5555555555555556,
                    0.5555555555555556,
                    0.5555555555555556,
                    0.5555555555555556,
                    0.5555555555555556,
                    0.5555555555555556,
                    0.5555555555555556,
                    0.5555555555555556,
                    0.5555555555555556,
                    0.4444444444444444,
                    0.4444444444444444,
                    0.4444444444444444,
                    0.4444444444444444,
                    0.4444444444444444,
                    0.4444444444444444,
                    0.4444444444444444,
                    0.4444444444444444,
                    0.5555555555555556,
                    0.5555555555555556,
                    0.5555555555555556,
                    0.5555555555555556,
                    0.5555555555555556,
                    0.5555555555555556,
                    0.5555555555555556,
                    0.5555555555555556,
                    0.6666666666666666,
                    0.6666666666666666,
                    0.6666666666666666,
                    0.6666666666666666,
                    0.6666666666666666,
                    0.6666666666666666,
                    0.6666666666666666,
                    0.6666666666666666,
                    0.6666666666666666,
                    0.6666666666666666,
                    0.6666666666666666,
                    0.6666666666666666,
                    0.6666666666666666,
                    0.6666666666666666,
                    0.6666666666666666,
                    0.6666666666666666,
                    0.6666666666666666,
                    0.6666666666666666,
                    0.6666666666666666,
                    0.6666666666666666,
                    0.6666666666666666,
                    0.5555555555555556,
                    0.5555555555555556,
                    0.5555555555555556,
                    0.5555555555555556,
                    0.5555555555555556,
                    0.5555555555555556,
                    0.5555555555555556,
                    0.5555555555555556,
                    0.5555555555555556,
                    0.4444444444444444,
                    0.4444444444444444,
                    0.4444444444444444,
                    0.4444444444444444,
                    0.4444444444444444,
                    0.4444444444444444,
                    0.4444444444444444,
                    0.4444444444444444,
                    0.4444444444444444,
                    0.4444444444444444,
                    0.4444444444444444,
                    0.4444444444444444,
                    0.4444444444444444,
                    0.4444444444444444,
                    0.4444444444444444,
                    0.4444444444444444,
                    0.4444444444444444,
                    0.4444444444444444,
                    0.4444444444444444,
                    0.4444444444444444,
                    0.3333333333333333,
                    0.3333333333333333,
                    0.3333333333333333,
                    0.3333333333333333,
                    0.3333333333333333,
                    0.3333333333333333,
                    0.3333333333333333,
                    0.3333333333333333,
                    0.3333333333333333,
                    0.3333333333333333,
                    0.3333333333333333,
                    0.3333333333333333,
                    0.3333333333333333,
                    0.3333333333333333,
                    0.3333333333333333,
                    0.5555555555555556,
                    0.5555555555555556,
                    0.5555555555555556,
                    0.5555555555555556,
                    0.5555555555555556,
                    0.5555555555555556,
                    0.5555555555555556,
                    0.5555555555555556,
                    0.5555555555555556,
                    0.5555555555555556,
                    0.5555555555555556,
                    0.6666666666666666,
                    0.6666666666666666,
                    0.6666666666666666,
                    0.6666666666666666,
                    0.6666666666666666,
                    0.6666666666666666,
                    0.6666666666666666,
                    0.6666666666666666,
                    0.6666666666666666,
                    0.6666666666666666,
                    0.3333333333333333,
                    0.3333333333333333,
                    0.3333333333333333,
                    0.3333333333333333,
                    0.3333333333333333,
                    0.3333333333333333,
                    0.3333333333333333,
                    0.6666666666666666,
                    0.6666666666666666,
                    0.6666666666666666,
                    0.6666666666666666,
                    0.6666666666666666,
                    0.6666666666666666,
                    0.6666666666666666,
                    0.6666666666666666,
                    0.5555555555555556,
                    0.5555555555555556,
                    0.5555555555555556,
                    0.5555555555555556,
                    0.5555555555555556,
                    0.5555555555555556,
                    0.5555555555555556,
                    0.5555555555555556,
                    0.5555555555555556,
                    0.5555555555555556,
                    0.5555555555555556,
                    0.5555555555555556,
                    0.5555555555555556,
                    0.5555555555555556,
                    0.5555555555555556,
                    0.5555555555555556,
                    0.5555555555555556,
                    0.5555555555555556,
                    0.5555555555555556,
                    0.5555555555555556,
                    0.5555555555555556,
                    0.5555555555555556,
                    0.5555555555555556,
                    0.5555555555555556,
                    0.5555555555555556,
                    0.5555555555555556,
                    0.5555555555555556,
                    0.5555555555555556,
                    0.5555555555555556,
                    0.5555555555555556,
                    0.5555555555555556,
                    0.5555555555555556,
                    0.5555555555555556,
                    0.5555555555555556,
                    0.5555555555555556,
                    0.5555555555555556,
                    0.5555555555555556,
                    0.5555555555555556,
                    0.5555555555555556,
                    0.5555555555555556,
                    0.5555555555555556,
                    0.5555555555555556,
                    0.5555555555555556,
                    0.5555555555555556,
                    0.5555555555555556,
                    0.5555555555555556,
                    0.5555555555555556,
                    0.5555555555555556,
                    0.5555555555555556,
                    0.5555555555555556,
                    0.5555555555555556,
                    0.3333333333333333,
                    0.3333333333333333,
                    0.3333333333333333,
                    0.3333333333333333,
                    0.3333333333333333,
                    0.4444444444444444,
                    0.4444444444444444,
                    0.4444444444444444,
                    0.4444444444444444,
                    0.3333333333333333,
                    0.3333333333333333,
                    0.3333333333333333,
                    0.3333333333333333,
                    0.3333333333333333,
                    0.3333333333333333,
                    0.3333333333333333,
                    0.4444444444444444,
                    0.4444444444444444,
                    0.4444444444444444,
                    0.4444444444444444,
                    0.4444444444444444,
                    0.4444444444444444,
                    0.4444444444444444,
                    0.4444444444444444,
                    0.4444444444444444,
                    0.4444444444444444,
                    0.4444444444444444,
                    0.4444444444444444,
                    0.3333333333333333,
                    0.3333333333333333,
                    0.3333333333333333,
                    0.3333333333333333,
                    0.3333333333333333,
                    0.3333333333333333,
                    0.3333333333333333,
                    0.3333333333333333,
                    0.6666666666666666,
                    0.6666666666666666,
                    0.6666666666666666,
                    0.6666666666666666,
                    0.6666666666666666,
                    0.6666666666666666,
                    0.6666666666666666,
                    0.6666666666666666,
                    0.6666666666666666,
                    0.6666666666666666,
                    0.6666666666666666,
                    0.6666666666666666,
                    0.6666666666666666,
                    0.6666666666666666,
                    0.6666666666666666,
                    0.6666666666666666,
                    0.6666666666666666,
                    0.6666666666666666,
                    0.6666666666666666,
                    0.4444444444444444,
                    0.4444444444444444,
                    0.4444444444444444,
                    0.4444444444444444,
                    0.4444444444444444,
                    0.4444444444444444,
                    0.4444444444444444,
                    0.3333333333333333,
                    0.3333333333333333,
                    0.3333333333333333,
                    0.3333333333333333,
                    0.3333333333333333,
                    0.5555555555555556,
                    0.5555555555555556,
                    0.5555555555555556,
                    0.5555555555555556,
                    0.5555555555555556,
                    0.5555555555555556,
                    0.5555555555555556,
                    0.5555555555555556,
                    0.5555555555555556,
                    0.5555555555555556,
                    0.3333333333333333,
                    0.3333333333333333,
                    0.3333333333333333,
                    0.3333333333333333,
                    0.3333333333333333,
                    0.3333333333333333,
                    0.3333333333333333,
                    0.3333333333333333,
                    0.3333333333333333,
                    0.3333333333333333,
                    0.3333333333333333,
                    0.4444444444444444,
                    0.4444444444444444,
                    0.4444444444444444,
                    0.4444444444444444,
                    0.3333333333333333,
                    0.3333333333333333,
                    0.3333333333333333,
                    0.3333333333333333,
                    0.3333333333333333,
                    0.3333333333333333,
                    0.3333333333333333,
                    0.3333333333333333,
                    0.3333333333333333,
                    0.3333333333333333,
                    0.3333333333333333,
                    0.3333333333333333,
                    0.3333333333333333,
                    0.3333333333333333,
                    0.3333333333333333,
                    0.3333333333333333,
                    0.3333333333333333,
                    0.3333333333333333,
                    0.3333333333333333,
                    0.3333333333333333,
                    0.5555555555555556,
                    0.5555555555555556,
                    0.5555555555555556,
                    0.5555555555555556,
                    0.5555555555555556,
                    0.5555555555555556,
                    0.5555555555555556,
                    0.5555555555555556,
                    0.4444444444444444,
                    0.4444444444444444,
                    0.4444444444444444,
                    0.4444444444444444,
                    0.4444444444444444,
                    0.4444444444444444,
                    0.4444444444444444,
                    0.4444444444444444,
                    0.4444444444444444,
                    0.4444444444444444,
                    0.5555555555555556,
                    0.5555555555555556,
                    0.5555555555555556,
                    0.5555555555555556,
                    0.5555555555555556,
                    0.5555555555555556,
                    0.5555555555555556,
                    0.5555555555555556,
                    0.5555555555555556,
                    0.5555555555555556,
                    0.4444444444444444,
                    0.4444444444444444,
                    0.4444444444444444,
                    0.6666666666666666,
                    0.6666666666666666,
                    0.6666666666666666,
                    0.6666666666666666,
                    0.6666666666666666,
                    0.6666666666666666,
                    0.6666666666666666,
                    0.4444444444444444,
                    0.4444444444444444,
                    0.4444444444444444,
                    0.4444444444444444,
                    0.6666666666666666,
                    0.6666666666666666,
                    0.6666666666666666,
                    0.6666666666666666,
                    0.7777777777777778,
                    0.7777777777777778,
                    0.7777777777777778,
                    1,
                    1,
                    1,
                    1,
                    1,
                    1
                  ],
                  "y": [
                    0.2,
                    0.2,
                    0,
                    0,
                    0.2,
                    0,
                    0,
                    0,
                    0.2,
                    0.2,
                    0.2,
                    0.2,
                    0.2,
                    0.4,
                    0.2,
                    0,
                    0.2,
                    0,
                    0,
                    0.2,
                    0,
                    0.4,
                    0.2,
                    0.4,
                    0,
                    0.2,
                    0,
                    0.2,
                    0.2,
                    0.2,
                    0.2,
                    0.2,
                    0.2,
                    0.2,
                    0.2,
                    0,
                    0,
                    0,
                    0.2,
                    0,
                    0.2,
                    0.2,
                    0.2,
                    0.2,
                    0.2,
                    0,
                    0.2,
                    0.2,
                    0,
                    0,
                    0.2,
                    0.4,
                    0,
                    0,
                    0.4,
                    0,
                    0,
                    0,
                    0,
                    0,
                    0,
                    0.2,
                    0,
                    0.2,
                    0,
                    0,
                    0,
                    0,
                    0.4,
                    0.4,
                    0.4,
                    0.4,
                    0.4,
                    0.2,
                    0.2,
                    0.2,
                    0.2,
                    0.4,
                    0.4,
                    0.4,
                    0.4,
                    0.4,
                    0.4,
                    0.4,
                    0.4,
                    0.4,
                    0.4,
                    0.2,
                    0.2,
                    0.2,
                    0.2,
                    0.2,
                    0.4,
                    0.4,
                    0.4,
                    0.4,
                    0,
                    0,
                    0,
                    0,
                    0,
                    0,
                    0.2,
                    0.2,
                    0.2,
                    0.2,
                    0.2,
                    0.2,
                    0.2,
                    0.2,
                    0,
                    0,
                    0,
                    0,
                    0,
                    0,
                    0,
                    0,
                    0,
                    0,
                    0,
                    0,
                    0,
                    0,
                    0,
                    0,
                    0,
                    0,
                    0,
                    0.2,
                    0.2,
                    0.2,
                    0.2,
                    0.2,
                    0.2,
                    0.2,
                    0,
                    0,
                    0,
                    0,
                    0,
                    0,
                    0.2,
                    0.2,
                    0.2,
                    0.2,
                    0.2,
                    0.2,
                    0.2,
                    0.2,
                    0.2,
                    0.2,
                    0.2,
                    0.2,
                    0.4,
                    0.4,
                    0.4,
                    0.4,
                    0.4,
                    0.4,
                    0.4,
                    0.4,
                    0.4,
                    0.4,
                    0.4,
                    0.4,
                    0.4,
                    0.4,
                    0.4,
                    0.4,
                    0.4,
                    0.4,
                    0,
                    0,
                    0,
                    0,
                    0.4,
                    0.4,
                    0.4,
                    0.4,
                    0.4,
                    0.2,
                    0.2,
                    0.2,
                    0.2,
                    0.2,
                    0.2,
                    0.2,
                    0,
                    0,
                    0,
                    0,
                    0,
                    0,
                    0,
                    0,
                    0,
                    0,
                    0,
                    0,
                    0.2,
                    0.2,
                    0.2,
                    0.2,
                    0.2,
                    0.2,
                    0.2,
                    0.2,
                    0.2,
                    0.2,
                    0.2,
                    0.4,
                    0.4,
                    0.4,
                    0.4,
                    0.4,
                    0.4,
                    0.4,
                    0.4,
                    0.4,
                    0.4,
                    0.4,
                    0.2,
                    0.2,
                    0.2,
                    0.2,
                    0.2,
                    0.2,
                    0.2,
                    0.2,
                    0.2,
                    0.2,
                    0.2,
                    0.4,
                    0.4,
                    0.4,
                    0.4,
                    0,
                    0,
                    0,
                    0,
                    0,
                    0,
                    0,
                    0,
                    0,
                    0,
                    0.2,
                    0.2,
                    0.2,
                    0.2,
                    0.4,
                    0.4,
                    0.4,
                    0.4,
                    0.4,
                    0.4,
                    0,
                    0,
                    0,
                    0,
                    0,
                    0.4,
                    0.4,
                    0.4,
                    0.4,
                    0.4,
                    0.4,
                    0.4,
                    0.4,
                    0.4,
                    0.4,
                    0.4,
                    0.4,
                    0.4,
                    0.4,
                    0.4,
                    0.4,
                    0.4,
                    0.4,
                    0.4,
                    0.4,
                    0.4,
                    0.4,
                    0.4,
                    0.4,
                    0.4,
                    0.4,
                    1,
                    1,
                    1,
                    1,
                    1,
                    1,
                    1,
                    1,
                    1,
                    1,
                    1,
                    1,
                    1,
                    1,
                    1,
                    1,
                    1,
                    1,
                    0.6,
                    0.6,
                    0.6,
                    0.6,
                    0.6,
                    0.6,
                    0.6,
                    0.6,
                    0.6,
                    0.8,
                    0.8,
                    0.8,
                    0.8,
                    0.8,
                    0.8,
                    0.8,
                    0.8,
                    1,
                    1,
                    1,
                    1,
                    1,
                    1,
                    1,
                    1,
                    0.8,
                    0.8,
                    0.8,
                    0.8,
                    0.8,
                    0.8,
                    0.8,
                    0.8,
                    0.8,
                    0.8,
                    0.8,
                    1,
                    1,
                    1,
                    1,
                    1,
                    1,
                    1,
                    1,
                    1,
                    1,
                    0.8,
                    0.8,
                    0.8,
                    0.8,
                    0.8,
                    0.8,
                    0.8,
                    0.8,
                    0.8,
                    0.4,
                    0.4,
                    0.4,
                    0.4,
                    0.4,
                    0.4,
                    0.4,
                    0.4,
                    0.4,
                    0.4,
                    0.4,
                    0.4,
                    0.4,
                    0.4,
                    0.4,
                    0.4,
                    0.4,
                    0.4,
                    0.4,
                    0.4,
                    1,
                    1,
                    1,
                    1,
                    1,
                    0.6,
                    0.6,
                    0.6,
                    0.6,
                    0.6,
                    0.6,
                    0.6,
                    0.6,
                    0.6,
                    0.6,
                    0.8,
                    0.8,
                    0.8,
                    0.8,
                    0.8,
                    0.8,
                    0.8,
                    0.8,
                    0.8,
                    0.8,
                    0.8,
                    0.6,
                    0.6,
                    0.6,
                    0.6,
                    0.6,
                    0.6,
                    0.6,
                    0.6,
                    0.6,
                    0.6,
                    0.4,
                    0.4,
                    0.4,
                    0.4,
                    0.4,
                    0.4,
                    0.4,
                    0.6,
                    0.6,
                    0.6,
                    0.6,
                    0.6,
                    0.6,
                    0.6,
                    0.6,
                    1,
                    1,
                    1,
                    1,
                    1,
                    1,
                    1,
                    1,
                    1,
                    1,
                    1,
                    1,
                    1,
                    1,
                    1,
                    1,
                    1,
                    1,
                    1,
                    1,
                    1,
                    1,
                    1,
                    1,
                    1,
                    1,
                    0.6,
                    0.6,
                    0.6,
                    0.6,
                    0.6,
                    0.6,
                    0.6,
                    0.6,
                    0.6,
                    0.6,
                    0.6,
                    0.6,
                    0.6,
                    0.6,
                    0.6,
                    0.6,
                    0.6,
                    0.4,
                    0.4,
                    0.4,
                    0.4,
                    0.4,
                    0.4,
                    0.4,
                    0.4,
                    0.6,
                    0.6,
                    0.6,
                    0.6,
                    0.6,
                    1,
                    1,
                    1,
                    1,
                    0.8,
                    0.8,
                    0.8,
                    0.8,
                    0.8,
                    0.8,
                    0.8,
                    0.6,
                    0.6,
                    0.6,
                    0.6,
                    0.6,
                    0.6,
                    0.8,
                    0.8,
                    0.8,
                    0.8,
                    0.8,
                    0.8,
                    0.4,
                    0.4,
                    0.4,
                    0.4,
                    0.4,
                    0.4,
                    0.4,
                    0.4,
                    0.8,
                    0.8,
                    0.8,
                    0.8,
                    0.8,
                    0.8,
                    0.8,
                    0.8,
                    1,
                    1,
                    1,
                    1,
                    1,
                    1,
                    1,
                    1,
                    1,
                    1,
                    1,
                    1,
                    1,
                    1,
                    1,
                    1,
                    1,
                    1,
                    1,
                    1,
                    1,
                    1,
                    1,
                    0.4,
                    0.4,
                    0.4,
                    0.4,
                    0.4,
                    0.4,
                    0.8,
                    0.8,
                    0.8,
                    0.8,
                    0.6,
                    0.6,
                    0.6,
                    0.6,
                    0.6,
                    0.6,
                    0.6,
                    0.6,
                    0.6,
                    0.6,
                    0.6,
                    0.4,
                    0.4,
                    0.4,
                    0.4,
                    0.8,
                    0.8,
                    0.8,
                    0.8,
                    0.8,
                    0.8,
                    0.8,
                    0.8,
                    0.8,
                    0.8,
                    0.8,
                    0.8,
                    0.8,
                    0.8,
                    0.8,
                    0.8,
                    0.8,
                    0.8,
                    0.8,
                    0.8,
                    0.6,
                    0.6,
                    0.6,
                    0.6,
                    0.6,
                    0.6,
                    0.6,
                    0.6,
                    0.6,
                    0.6,
                    0.6,
                    0.6,
                    0.6,
                    0.6,
                    1,
                    1,
                    1,
                    1,
                    0.4,
                    0.4,
                    0.4,
                    0.4,
                    0.4,
                    0.4,
                    0.4,
                    0.4,
                    0.4,
                    0.4,
                    0.6,
                    0.6,
                    0.6,
                    0.6,
                    0.6,
                    0.6,
                    0.6,
                    0.6,
                    0.6,
                    0.6,
                    0.8,
                    0.8,
                    0.8,
                    0.8,
                    0.8,
                    0.8,
                    0.8,
                    0.8,
                    0.2,
                    0.2,
                    0.2,
                    0,
                    0,
                    0,
                    0.2,
                    0.2,
                    0.2
                  ],
                  "z": [
                    0.06666666666666667,
                    0.4,
                    0.7333333333333333,
                    0.4666666666666667,
                    0.8,
                    0.8666666666666667,
                    0.8666666666666667,
                    0.8666666666666667,
                    0.7333333333333333,
                    0.6666666666666666,
                    0.7333333333333333,
                    0.6666666666666666,
                    0.9333333333333333,
                    0.13333333333333333,
                    0.2,
                    0.2,
                    0.2,
                    0.2,
                    0.26666666666666666,
                    0.2,
                    0.2,
                    0.26666666666666666,
                    0.2,
                    0.13333333333333333,
                    0.8,
                    1,
                    0.4666666666666667,
                    0.6,
                    0.8666666666666667,
                    0.6666666666666666,
                    0.6,
                    0.5333333333333333,
                    0.8,
                    0.8,
                    0.5333333333333333,
                    0.6,
                    0.5333333333333333,
                    0.5333333333333333,
                    0.6,
                    0.6666666666666666,
                    1,
                    1,
                    0.7333333333333333,
                    0.5333333333333333,
                    0.4666666666666667,
                    0.5333333333333333,
                    0.6666666666666666,
                    0.4666666666666667,
                    1,
                    0.8666666666666667,
                    0.13333333333333333,
                    0.2,
                    0.8,
                    0.3333333333333333,
                    0.3333333333333333,
                    0.06666666666666667,
                    0.26666666666666666,
                    0.7333333333333333,
                    0.06666666666666667,
                    0.8,
                    0.06666666666666667,
                    0.2,
                    0.6666666666666666,
                    0.2,
                    0.13333333333333333,
                    0.13333333333333333,
                    0.13333333333333333,
                    0.13333333333333333,
                    0.3333333333333333,
                    0.3333333333333333,
                    0.3333333333333333,
                    0.3333333333333333,
                    0.3333333333333333,
                    0.3333333333333333,
                    0.3333333333333333,
                    0.3333333333333333,
                    0.3333333333333333,
                    0.26666666666666666,
                    0.26666666666666666,
                    0.26666666666666666,
                    0.26666666666666666,
                    0.26666666666666666,
                    0.13333333333333333,
                    0.13333333333333333,
                    0.13333333333333333,
                    0.13333333333333333,
                    0.13333333333333333,
                    0.3333333333333333,
                    0.3333333333333333,
                    0.3333333333333333,
                    0.3333333333333333,
                    0.3333333333333333,
                    0.3333333333333333,
                    0.3333333333333333,
                    0.3333333333333333,
                    0.3333333333333333,
                    0.2,
                    0.2,
                    0.2,
                    0.2,
                    0.2,
                    0.2,
                    0.26666666666666666,
                    0.26666666666666666,
                    0.26666666666666666,
                    0.26666666666666666,
                    0.26666666666666666,
                    0.26666666666666666,
                    0.26666666666666666,
                    0.26666666666666666,
                    0.3333333333333333,
                    0.3333333333333333,
                    0.3333333333333333,
                    0.3333333333333333,
                    0.26666666666666666,
                    0.26666666666666666,
                    0.26666666666666666,
                    0.26666666666666666,
                    0.26666666666666666,
                    0.26666666666666666,
                    0.26666666666666666,
                    0.26666666666666666,
                    0.26666666666666666,
                    0.26666666666666666,
                    0.26666666666666666,
                    0.26666666666666666,
                    0.26666666666666666,
                    0.26666666666666666,
                    0.26666666666666666,
                    0.3333333333333333,
                    0.3333333333333333,
                    0.3333333333333333,
                    0.3333333333333333,
                    0.3333333333333333,
                    0.3333333333333333,
                    0.3333333333333333,
                    0.3333333333333333,
                    0.3333333333333333,
                    0.3333333333333333,
                    0.3333333333333333,
                    0.3333333333333333,
                    0.3333333333333333,
                    0.26666666666666666,
                    0.26666666666666666,
                    0.26666666666666666,
                    0.26666666666666666,
                    0.26666666666666666,
                    0.26666666666666666,
                    0.26666666666666666,
                    0.13333333333333333,
                    0.13333333333333333,
                    0.13333333333333333,
                    0.13333333333333333,
                    0.13333333333333333,
                    0.2,
                    0.2,
                    0.2,
                    0.2,
                    0.2,
                    0.26666666666666666,
                    0.26666666666666666,
                    0.26666666666666666,
                    0.26666666666666666,
                    0.26666666666666666,
                    0.26666666666666666,
                    0.13333333333333333,
                    0.13333333333333333,
                    0.13333333333333333,
                    0.13333333333333333,
                    0.13333333333333333,
                    0.13333333333333333,
                    0.13333333333333333,
                    0.13333333333333333,
                    0.13333333333333333,
                    0.13333333333333333,
                    0.13333333333333333,
                    0.13333333333333333,
                    0.13333333333333333,
                    0.13333333333333333,
                    0.13333333333333333,
                    0.13333333333333333,
                    0.3333333333333333,
                    0.3333333333333333,
                    0.3333333333333333,
                    0.3333333333333333,
                    0.3333333333333333,
                    0.3333333333333333,
                    0.3333333333333333,
                    0.13333333333333333,
                    0.13333333333333333,
                    0.13333333333333333,
                    0.13333333333333333,
                    0.13333333333333333,
                    0.13333333333333333,
                    0.26666666666666666,
                    0.26666666666666666,
                    0.26666666666666666,
                    0.26666666666666666,
                    0.26666666666666666,
                    0.26666666666666666,
                    0.26666666666666666,
                    0.26666666666666666,
                    0.26666666666666666,
                    0.26666666666666666,
                    0.26666666666666666,
                    0.26666666666666666,
                    0.26666666666666666,
                    0.26666666666666666,
                    0.26666666666666666,
                    0.26666666666666666,
                    0.26666666666666666,
                    0.13333333333333333,
                    0.13333333333333333,
                    0.13333333333333333,
                    0.13333333333333333,
                    0.13333333333333333,
                    0.13333333333333333,
                    0.13333333333333333,
                    0.13333333333333333,
                    0.26666666666666666,
                    0.26666666666666666,
                    0.26666666666666666,
                    0.2,
                    0.2,
                    0.2,
                    0.13333333333333333,
                    0.13333333333333333,
                    0.13333333333333333,
                    0.13333333333333333,
                    0.26666666666666666,
                    0.26666666666666666,
                    0.26666666666666666,
                    0.26666666666666666,
                    0.2,
                    0.2,
                    0.2,
                    0.2,
                    0.3333333333333333,
                    0.3333333333333333,
                    0.3333333333333333,
                    0.2,
                    0.2,
                    0.2,
                    0.2,
                    0.2,
                    0.2,
                    0.2,
                    0.13333333333333333,
                    0.13333333333333333,
                    0.13333333333333333,
                    0.13333333333333333,
                    0.2,
                    0.2,
                    0.2,
                    0.2,
                    0.2,
                    0.2,
                    0.13333333333333333,
                    0.13333333333333333,
                    0.13333333333333333,
                    0.13333333333333333,
                    0.13333333333333333,
                    0.3333333333333333,
                    0.3333333333333333,
                    0.3333333333333333,
                    0.3333333333333333,
                    0,
                    0,
                    0,
                    0,
                    0,
                    0,
                    0,
                    0,
                    0,
                    0,
                    0,
                    0,
                    0,
                    0,
                    0.06666666666666667,
                    0.06666666666666667,
                    0.06666666666666667,
                    0.06666666666666667,
                    0.06666666666666667,
                    0.06666666666666667,
                    0.06666666666666667,
                    0.06666666666666667,
                    0,
                    0,
                    0,
                    0,
                    0,
                    0,
                    0,
                    0,
                    0,
                    0,
                    0,
                    0,
                    0,
                    0,
                    0,
                    0,
                    0,
                    0,
                    0.13333333333333333,
                    0.13333333333333333,
                    0.13333333333333333,
                    0.13333333333333333,
                    0.13333333333333333,
                    0.13333333333333333,
                    0.13333333333333333,
                    0.13333333333333333,
                    0.13333333333333333,
                    0.06666666666666667,
                    0.06666666666666667,
                    0.06666666666666667,
                    0.06666666666666667,
                    0.06666666666666667,
                    0.06666666666666667,
                    0.06666666666666667,
                    0.06666666666666667,
                    0,
                    0,
                    0,
                    0,
                    0,
                    0,
                    0,
                    0,
                    0,
                    0,
                    0,
                    0,
                    0,
                    0,
                    0,
                    0,
                    0,
                    0,
                    0,
                    0.13333333333333333,
                    0.13333333333333333,
                    0.13333333333333333,
                    0.13333333333333333,
                    0.13333333333333333,
                    0.13333333333333333,
                    0.13333333333333333,
                    0.13333333333333333,
                    0.13333333333333333,
                    0.13333333333333333,
                    0,
                    0,
                    0,
                    0,
                    0,
                    0,
                    0,
                    0,
                    0,
                    0.13333333333333333,
                    0.13333333333333333,
                    0.13333333333333333,
                    0.13333333333333333,
                    0.13333333333333333,
                    0.13333333333333333,
                    0.13333333333333333,
                    0.13333333333333333,
                    0.13333333333333333,
                    0.13333333333333333,
                    0.13333333333333333,
                    0.13333333333333333,
                    0,
                    0,
                    0,
                    0,
                    0,
                    0,
                    0,
                    0,
                    0.06666666666666667,
                    0.06666666666666667,
                    0.06666666666666667,
                    0.06666666666666667,
                    0.06666666666666667,
                    0.13333333333333333,
                    0.13333333333333333,
                    0.13333333333333333,
                    0.13333333333333333,
                    0.13333333333333333,
                    0.13333333333333333,
                    0.13333333333333333,
                    0.13333333333333333,
                    0.13333333333333333,
                    0.13333333333333333,
                    0.13333333333333333,
                    0.13333333333333333,
                    0.13333333333333333,
                    0.13333333333333333,
                    0.13333333333333333,
                    0.13333333333333333,
                    0.13333333333333333,
                    0.13333333333333333,
                    0.13333333333333333,
                    0.13333333333333333,
                    0.13333333333333333,
                    0.13333333333333333,
                    0.13333333333333333,
                    0.13333333333333333,
                    0.13333333333333333,
                    0.13333333333333333,
                    0.13333333333333333,
                    0.13333333333333333,
                    0.13333333333333333,
                    0.13333333333333333,
                    0.13333333333333333,
                    0.06666666666666667,
                    0.06666666666666667,
                    0.06666666666666667,
                    0.06666666666666667,
                    0.06666666666666667,
                    0.06666666666666667,
                    0.06666666666666667,
                    0.06666666666666667,
                    0.06666666666666667,
                    0.06666666666666667,
                    0.06666666666666667,
                    0.06666666666666667,
                    0.06666666666666667,
                    0.06666666666666667,
                    0.06666666666666667,
                    0.06666666666666667,
                    0.06666666666666667,
                    0.06666666666666667,
                    0.06666666666666667,
                    0.06666666666666667,
                    0.06666666666666667,
                    0.06666666666666667,
                    0.06666666666666667,
                    0.06666666666666667,
                    0.13333333333333333,
                    0.13333333333333333,
                    0.13333333333333333,
                    0.13333333333333333,
                    0.13333333333333333,
                    0.13333333333333333,
                    0.13333333333333333,
                    0.13333333333333333,
                    0.13333333333333333,
                    0.13333333333333333,
                    0.13333333333333333,
                    0.13333333333333333,
                    0.13333333333333333,
                    0.13333333333333333,
                    0.13333333333333333,
                    0.13333333333333333,
                    0.13333333333333333,
                    0.06666666666666667,
                    0.06666666666666667,
                    0.06666666666666667,
                    0.06666666666666667,
                    0.06666666666666667,
                    0.06666666666666667,
                    0.06666666666666667,
                    0.06666666666666667,
                    0.06666666666666667,
                    0.06666666666666667,
                    0.06666666666666667,
                    0.06666666666666667,
                    0.06666666666666667,
                    0.06666666666666667,
                    0.06666666666666667,
                    0.06666666666666667,
                    0.06666666666666667,
                    0.06666666666666667,
                    0.06666666666666667,
                    0.06666666666666667,
                    0.06666666666666667,
                    0.06666666666666667,
                    0.06666666666666667,
                    0.06666666666666667,
                    0.06666666666666667,
                    0.06666666666666667,
                    0.06666666666666667,
                    0.06666666666666667,
                    0.06666666666666667,
                    0.06666666666666667,
                    0.13333333333333333,
                    0.13333333333333333,
                    0.13333333333333333,
                    0.13333333333333333,
                    0.06666666666666667,
                    0.06666666666666667,
                    0.06666666666666667,
                    0.06666666666666667,
                    0.06666666666666667,
                    0.06666666666666667,
                    0.06666666666666667,
                    0,
                    0,
                    0,
                    0,
                    0,
                    0,
                    0.13333333333333333,
                    0.13333333333333333,
                    0.13333333333333333,
                    0.13333333333333333,
                    0.13333333333333333,
                    0.13333333333333333,
                    0,
                    0,
                    0,
                    0,
                    0,
                    0,
                    0,
                    0,
                    0.13333333333333333,
                    0.13333333333333333,
                    0.13333333333333333,
                    0.13333333333333333,
                    0.13333333333333333,
                    0.13333333333333333,
                    0.13333333333333333,
                    0.13333333333333333,
                    0,
                    0,
                    0,
                    0,
                    0,
                    0,
                    0,
                    0,
                    0,
                    0,
                    0,
                    0.06666666666666667,
                    0.06666666666666667,
                    0.06666666666666667,
                    0.06666666666666667,
                    0.06666666666666667,
                    0.06666666666666667,
                    0.06666666666666667,
                    0.13333333333333333,
                    0.13333333333333333,
                    0.13333333333333333,
                    0.13333333333333333,
                    0.13333333333333333,
                    0.13333333333333333,
                    0.13333333333333333,
                    0.13333333333333333,
                    0.13333333333333333,
                    0.13333333333333333,
                    0.13333333333333333,
                    0.06666666666666667,
                    0.06666666666666667,
                    0.06666666666666667,
                    0.06666666666666667,
                    0,
                    0,
                    0,
                    0,
                    0,
                    0,
                    0,
                    0,
                    0,
                    0,
                    0,
                    0.06666666666666667,
                    0.06666666666666667,
                    0.06666666666666667,
                    0.06666666666666667,
                    0,
                    0,
                    0,
                    0,
                    0,
                    0,
                    0,
                    0.13333333333333333,
                    0.13333333333333333,
                    0.13333333333333333,
                    0.13333333333333333,
                    0.13333333333333333,
                    0.13333333333333333,
                    0.13333333333333333,
                    0.13333333333333333,
                    0.13333333333333333,
                    0.13333333333333333,
                    0.13333333333333333,
                    0.13333333333333333,
                    0.13333333333333333,
                    0,
                    0,
                    0,
                    0,
                    0,
                    0,
                    0,
                    0,
                    0.13333333333333333,
                    0.13333333333333333,
                    0.13333333333333333,
                    0.13333333333333333,
                    0.13333333333333333,
                    0.13333333333333333,
                    0,
                    0,
                    0,
                    0,
                    0,
                    0,
                    0,
                    0,
                    0,
                    0,
                    0,
                    0,
                    0,
                    0,
                    0.06666666666666667,
                    0.06666666666666667,
                    0.06666666666666667,
                    0,
                    0,
                    0,
                    0,
                    0,
                    0,
                    0,
                    0,
                    0,
                    0,
                    0,
                    0.06666666666666667,
                    0.06666666666666667,
                    0.06666666666666667,
                    0.06666666666666667,
                    0.4666666666666667,
                    0.4666666666666667,
                    0.4666666666666667,
                    1,
                    1,
                    1,
                    1,
                    1,
                    1
                  ]
                }
              ],
              "layout": {
                "height": 900,
                "legend": {
                  "tracegroupgap": 0
                },
                "margin": {
                  "b": 0,
                  "l": 0,
                  "r": 0,
                  "t": 0
                },
                "scene": {
                  "camera": {
                    "center": {
                      "x": 0,
                      "y": 0,
                      "z": -0.2
                    },
                    "eye": {
                      "x": 1.5,
                      "y": 1.5,
                      "z": 0.5
                    },
                    "up": {
                      "x": 0,
                      "y": 0,
                      "z": 1
                    }
                  },
                  "domain": {
                    "x": [
                      0,
                      1
                    ],
                    "y": [
                      0,
                      1
                    ]
                  },
                  "xaxis": {
                    "backgroundcolor": "white",
                    "color": "black",
                    "gridcolor": "#f0f0f0",
                    "tickfont": {
                      "size": 10
                    },
                    "title": {
                      "font": {
                        "size": 10
                      },
                      "text": "Total Credit Cards"
                    }
                  },
                  "yaxis": {
                    "backgroundcolor": "white",
                    "color": "black",
                    "gridcolor": "#f0f0f0",
                    "tickfont": {
                      "size": 10
                    },
                    "title": {
                      "font": {
                        "size": 10
                      },
                      "text": "Total visits bank"
                    }
                  },
                  "zaxis": {
                    "backgroundcolor": "lightgrey",
                    "color": "black",
                    "gridcolor": "#f0f0f0",
                    "tickfont": {
                      "size": 10
                    },
                    "title": {
                      "font": {
                        "size": 10
                      },
                      "text": "Total visits online"
                    }
                  }
                },
                "template": {
                  "data": {
                    "bar": [
                      {
                        "error_x": {
                          "color": "#2a3f5f"
                        },
                        "error_y": {
                          "color": "#2a3f5f"
                        },
                        "marker": {
                          "line": {
                            "color": "#E5ECF6",
                            "width": 0.5
                          },
                          "pattern": {
                            "fillmode": "overlay",
                            "size": 10,
                            "solidity": 0.2
                          }
                        },
                        "type": "bar"
                      }
                    ],
                    "barpolar": [
                      {
                        "marker": {
                          "line": {
                            "color": "#E5ECF6",
                            "width": 0.5
                          },
                          "pattern": {
                            "fillmode": "overlay",
                            "size": 10,
                            "solidity": 0.2
                          }
                        },
                        "type": "barpolar"
                      }
                    ],
                    "carpet": [
                      {
                        "aaxis": {
                          "endlinecolor": "#2a3f5f",
                          "gridcolor": "white",
                          "linecolor": "white",
                          "minorgridcolor": "white",
                          "startlinecolor": "#2a3f5f"
                        },
                        "baxis": {
                          "endlinecolor": "#2a3f5f",
                          "gridcolor": "white",
                          "linecolor": "white",
                          "minorgridcolor": "white",
                          "startlinecolor": "#2a3f5f"
                        },
                        "type": "carpet"
                      }
                    ],
                    "choropleth": [
                      {
                        "colorbar": {
                          "outlinewidth": 0,
                          "ticks": ""
                        },
                        "type": "choropleth"
                      }
                    ],
                    "contour": [
                      {
                        "colorbar": {
                          "outlinewidth": 0,
                          "ticks": ""
                        },
                        "colorscale": [
                          [
                            0,
                            "#0d0887"
                          ],
                          [
                            0.1111111111111111,
                            "#46039f"
                          ],
                          [
                            0.2222222222222222,
                            "#7201a8"
                          ],
                          [
                            0.3333333333333333,
                            "#9c179e"
                          ],
                          [
                            0.4444444444444444,
                            "#bd3786"
                          ],
                          [
                            0.5555555555555556,
                            "#d8576b"
                          ],
                          [
                            0.6666666666666666,
                            "#ed7953"
                          ],
                          [
                            0.7777777777777778,
                            "#fb9f3a"
                          ],
                          [
                            0.8888888888888888,
                            "#fdca26"
                          ],
                          [
                            1,
                            "#f0f921"
                          ]
                        ],
                        "type": "contour"
                      }
                    ],
                    "contourcarpet": [
                      {
                        "colorbar": {
                          "outlinewidth": 0,
                          "ticks": ""
                        },
                        "type": "contourcarpet"
                      }
                    ],
                    "heatmap": [
                      {
                        "colorbar": {
                          "outlinewidth": 0,
                          "ticks": ""
                        },
                        "colorscale": [
                          [
                            0,
                            "#0d0887"
                          ],
                          [
                            0.1111111111111111,
                            "#46039f"
                          ],
                          [
                            0.2222222222222222,
                            "#7201a8"
                          ],
                          [
                            0.3333333333333333,
                            "#9c179e"
                          ],
                          [
                            0.4444444444444444,
                            "#bd3786"
                          ],
                          [
                            0.5555555555555556,
                            "#d8576b"
                          ],
                          [
                            0.6666666666666666,
                            "#ed7953"
                          ],
                          [
                            0.7777777777777778,
                            "#fb9f3a"
                          ],
                          [
                            0.8888888888888888,
                            "#fdca26"
                          ],
                          [
                            1,
                            "#f0f921"
                          ]
                        ],
                        "type": "heatmap"
                      }
                    ],
                    "heatmapgl": [
                      {
                        "colorbar": {
                          "outlinewidth": 0,
                          "ticks": ""
                        },
                        "colorscale": [
                          [
                            0,
                            "#0d0887"
                          ],
                          [
                            0.1111111111111111,
                            "#46039f"
                          ],
                          [
                            0.2222222222222222,
                            "#7201a8"
                          ],
                          [
                            0.3333333333333333,
                            "#9c179e"
                          ],
                          [
                            0.4444444444444444,
                            "#bd3786"
                          ],
                          [
                            0.5555555555555556,
                            "#d8576b"
                          ],
                          [
                            0.6666666666666666,
                            "#ed7953"
                          ],
                          [
                            0.7777777777777778,
                            "#fb9f3a"
                          ],
                          [
                            0.8888888888888888,
                            "#fdca26"
                          ],
                          [
                            1,
                            "#f0f921"
                          ]
                        ],
                        "type": "heatmapgl"
                      }
                    ],
                    "histogram": [
                      {
                        "marker": {
                          "pattern": {
                            "fillmode": "overlay",
                            "size": 10,
                            "solidity": 0.2
                          }
                        },
                        "type": "histogram"
                      }
                    ],
                    "histogram2d": [
                      {
                        "colorbar": {
                          "outlinewidth": 0,
                          "ticks": ""
                        },
                        "colorscale": [
                          [
                            0,
                            "#0d0887"
                          ],
                          [
                            0.1111111111111111,
                            "#46039f"
                          ],
                          [
                            0.2222222222222222,
                            "#7201a8"
                          ],
                          [
                            0.3333333333333333,
                            "#9c179e"
                          ],
                          [
                            0.4444444444444444,
                            "#bd3786"
                          ],
                          [
                            0.5555555555555556,
                            "#d8576b"
                          ],
                          [
                            0.6666666666666666,
                            "#ed7953"
                          ],
                          [
                            0.7777777777777778,
                            "#fb9f3a"
                          ],
                          [
                            0.8888888888888888,
                            "#fdca26"
                          ],
                          [
                            1,
                            "#f0f921"
                          ]
                        ],
                        "type": "histogram2d"
                      }
                    ],
                    "histogram2dcontour": [
                      {
                        "colorbar": {
                          "outlinewidth": 0,
                          "ticks": ""
                        },
                        "colorscale": [
                          [
                            0,
                            "#0d0887"
                          ],
                          [
                            0.1111111111111111,
                            "#46039f"
                          ],
                          [
                            0.2222222222222222,
                            "#7201a8"
                          ],
                          [
                            0.3333333333333333,
                            "#9c179e"
                          ],
                          [
                            0.4444444444444444,
                            "#bd3786"
                          ],
                          [
                            0.5555555555555556,
                            "#d8576b"
                          ],
                          [
                            0.6666666666666666,
                            "#ed7953"
                          ],
                          [
                            0.7777777777777778,
                            "#fb9f3a"
                          ],
                          [
                            0.8888888888888888,
                            "#fdca26"
                          ],
                          [
                            1,
                            "#f0f921"
                          ]
                        ],
                        "type": "histogram2dcontour"
                      }
                    ],
                    "mesh3d": [
                      {
                        "colorbar": {
                          "outlinewidth": 0,
                          "ticks": ""
                        },
                        "type": "mesh3d"
                      }
                    ],
                    "parcoords": [
                      {
                        "line": {
                          "colorbar": {
                            "outlinewidth": 0,
                            "ticks": ""
                          }
                        },
                        "type": "parcoords"
                      }
                    ],
                    "pie": [
                      {
                        "automargin": true,
                        "type": "pie"
                      }
                    ],
                    "scatter": [
                      {
                        "marker": {
                          "colorbar": {
                            "outlinewidth": 0,
                            "ticks": ""
                          }
                        },
                        "type": "scatter"
                      }
                    ],
                    "scatter3d": [
                      {
                        "line": {
                          "colorbar": {
                            "outlinewidth": 0,
                            "ticks": ""
                          }
                        },
                        "marker": {
                          "colorbar": {
                            "outlinewidth": 0,
                            "ticks": ""
                          }
                        },
                        "type": "scatter3d"
                      }
                    ],
                    "scattercarpet": [
                      {
                        "marker": {
                          "colorbar": {
                            "outlinewidth": 0,
                            "ticks": ""
                          }
                        },
                        "type": "scattercarpet"
                      }
                    ],
                    "scattergeo": [
                      {
                        "marker": {
                          "colorbar": {
                            "outlinewidth": 0,
                            "ticks": ""
                          }
                        },
                        "type": "scattergeo"
                      }
                    ],
                    "scattergl": [
                      {
                        "marker": {
                          "colorbar": {
                            "outlinewidth": 0,
                            "ticks": ""
                          }
                        },
                        "type": "scattergl"
                      }
                    ],
                    "scattermapbox": [
                      {
                        "marker": {
                          "colorbar": {
                            "outlinewidth": 0,
                            "ticks": ""
                          }
                        },
                        "type": "scattermapbox"
                      }
                    ],
                    "scatterpolar": [
                      {
                        "marker": {
                          "colorbar": {
                            "outlinewidth": 0,
                            "ticks": ""
                          }
                        },
                        "type": "scatterpolar"
                      }
                    ],
                    "scatterpolargl": [
                      {
                        "marker": {
                          "colorbar": {
                            "outlinewidth": 0,
                            "ticks": ""
                          }
                        },
                        "type": "scatterpolargl"
                      }
                    ],
                    "scatterternary": [
                      {
                        "marker": {
                          "colorbar": {
                            "outlinewidth": 0,
                            "ticks": ""
                          }
                        },
                        "type": "scatterternary"
                      }
                    ],
                    "surface": [
                      {
                        "colorbar": {
                          "outlinewidth": 0,
                          "ticks": ""
                        },
                        "colorscale": [
                          [
                            0,
                            "#0d0887"
                          ],
                          [
                            0.1111111111111111,
                            "#46039f"
                          ],
                          [
                            0.2222222222222222,
                            "#7201a8"
                          ],
                          [
                            0.3333333333333333,
                            "#9c179e"
                          ],
                          [
                            0.4444444444444444,
                            "#bd3786"
                          ],
                          [
                            0.5555555555555556,
                            "#d8576b"
                          ],
                          [
                            0.6666666666666666,
                            "#ed7953"
                          ],
                          [
                            0.7777777777777778,
                            "#fb9f3a"
                          ],
                          [
                            0.8888888888888888,
                            "#fdca26"
                          ],
                          [
                            1,
                            "#f0f921"
                          ]
                        ],
                        "type": "surface"
                      }
                    ],
                    "table": [
                      {
                        "cells": {
                          "fill": {
                            "color": "#EBF0F8"
                          },
                          "line": {
                            "color": "white"
                          }
                        },
                        "header": {
                          "fill": {
                            "color": "#C8D4E3"
                          },
                          "line": {
                            "color": "white"
                          }
                        },
                        "type": "table"
                      }
                    ]
                  },
                  "layout": {
                    "annotationdefaults": {
                      "arrowcolor": "#2a3f5f",
                      "arrowhead": 0,
                      "arrowwidth": 1
                    },
                    "autotypenumbers": "strict",
                    "coloraxis": {
                      "colorbar": {
                        "outlinewidth": 0,
                        "ticks": ""
                      }
                    },
                    "colorscale": {
                      "diverging": [
                        [
                          0,
                          "#8e0152"
                        ],
                        [
                          0.1,
                          "#c51b7d"
                        ],
                        [
                          0.2,
                          "#de77ae"
                        ],
                        [
                          0.3,
                          "#f1b6da"
                        ],
                        [
                          0.4,
                          "#fde0ef"
                        ],
                        [
                          0.5,
                          "#f7f7f7"
                        ],
                        [
                          0.6,
                          "#e6f5d0"
                        ],
                        [
                          0.7,
                          "#b8e186"
                        ],
                        [
                          0.8,
                          "#7fbc41"
                        ],
                        [
                          0.9,
                          "#4d9221"
                        ],
                        [
                          1,
                          "#276419"
                        ]
                      ],
                      "sequential": [
                        [
                          0,
                          "#0d0887"
                        ],
                        [
                          0.1111111111111111,
                          "#46039f"
                        ],
                        [
                          0.2222222222222222,
                          "#7201a8"
                        ],
                        [
                          0.3333333333333333,
                          "#9c179e"
                        ],
                        [
                          0.4444444444444444,
                          "#bd3786"
                        ],
                        [
                          0.5555555555555556,
                          "#d8576b"
                        ],
                        [
                          0.6666666666666666,
                          "#ed7953"
                        ],
                        [
                          0.7777777777777778,
                          "#fb9f3a"
                        ],
                        [
                          0.8888888888888888,
                          "#fdca26"
                        ],
                        [
                          1,
                          "#f0f921"
                        ]
                      ],
                      "sequentialminus": [
                        [
                          0,
                          "#0d0887"
                        ],
                        [
                          0.1111111111111111,
                          "#46039f"
                        ],
                        [
                          0.2222222222222222,
                          "#7201a8"
                        ],
                        [
                          0.3333333333333333,
                          "#9c179e"
                        ],
                        [
                          0.4444444444444444,
                          "#bd3786"
                        ],
                        [
                          0.5555555555555556,
                          "#d8576b"
                        ],
                        [
                          0.6666666666666666,
                          "#ed7953"
                        ],
                        [
                          0.7777777777777778,
                          "#fb9f3a"
                        ],
                        [
                          0.8888888888888888,
                          "#fdca26"
                        ],
                        [
                          1,
                          "#f0f921"
                        ]
                      ]
                    },
                    "colorway": [
                      "#636efa",
                      "#EF553B",
                      "#00cc96",
                      "#ab63fa",
                      "#FFA15A",
                      "#19d3f3",
                      "#FF6692",
                      "#B6E880",
                      "#FF97FF",
                      "#FECB52"
                    ],
                    "font": {
                      "color": "#2a3f5f"
                    },
                    "geo": {
                      "bgcolor": "white",
                      "lakecolor": "white",
                      "landcolor": "#E5ECF6",
                      "showlakes": true,
                      "showland": true,
                      "subunitcolor": "white"
                    },
                    "hoverlabel": {
                      "align": "left"
                    },
                    "hovermode": "closest",
                    "mapbox": {
                      "style": "light"
                    },
                    "paper_bgcolor": "white",
                    "plot_bgcolor": "#E5ECF6",
                    "polar": {
                      "angularaxis": {
                        "gridcolor": "white",
                        "linecolor": "white",
                        "ticks": ""
                      },
                      "bgcolor": "#E5ECF6",
                      "radialaxis": {
                        "gridcolor": "white",
                        "linecolor": "white",
                        "ticks": ""
                      }
                    },
                    "scene": {
                      "xaxis": {
                        "backgroundcolor": "#E5ECF6",
                        "gridcolor": "white",
                        "gridwidth": 2,
                        "linecolor": "white",
                        "showbackground": true,
                        "ticks": "",
                        "zerolinecolor": "white"
                      },
                      "yaxis": {
                        "backgroundcolor": "#E5ECF6",
                        "gridcolor": "white",
                        "gridwidth": 2,
                        "linecolor": "white",
                        "showbackground": true,
                        "ticks": "",
                        "zerolinecolor": "white"
                      },
                      "zaxis": {
                        "backgroundcolor": "#E5ECF6",
                        "gridcolor": "white",
                        "gridwidth": 2,
                        "linecolor": "white",
                        "showbackground": true,
                        "ticks": "",
                        "zerolinecolor": "white"
                      }
                    },
                    "shapedefaults": {
                      "line": {
                        "color": "#2a3f5f"
                      }
                    },
                    "ternary": {
                      "aaxis": {
                        "gridcolor": "white",
                        "linecolor": "white",
                        "ticks": ""
                      },
                      "baxis": {
                        "gridcolor": "white",
                        "linecolor": "white",
                        "ticks": ""
                      },
                      "bgcolor": "#E5ECF6",
                      "caxis": {
                        "gridcolor": "white",
                        "linecolor": "white",
                        "ticks": ""
                      }
                    },
                    "title": {
                      "x": 0.05
                    },
                    "xaxis": {
                      "automargin": true,
                      "gridcolor": "white",
                      "linecolor": "white",
                      "ticks": "",
                      "title": {
                        "standoff": 15
                      },
                      "zerolinecolor": "white",
                      "zerolinewidth": 2
                    },
                    "yaxis": {
                      "automargin": true,
                      "gridcolor": "white",
                      "linecolor": "white",
                      "ticks": "",
                      "title": {
                        "standoff": 15
                      },
                      "zerolinecolor": "white",
                      "zerolinewidth": 2
                    }
                  }
                },
                "width": 900
              }
            }
          },
          "metadata": {}
        }
      ],
      "metadata": {}
    },
    {
      "cell_type": "code",
      "execution_count": 100,
      "source": [
        "# Select data\r\n",
        "X = df_testing_normalized[['Total_Credit_Cards','Total_visits_bank', 'Total_visits_online']]\r\n",
        "\r\n",
        "# Plot distribution charts\r\n",
        "fig, axs = plt.subplots(1, 3, figsize=(16,4), dpi=300)\r\n",
        "axs[0].hist(X.iloc[:,0], bins=50, color='black', rwidth=0.9)\r\n",
        "axs[0].set_title('Total_Credit_Cards')\r\n",
        "axs[1].hist(X.iloc[:,1], bins=50, color='black', rwidth=0.9)\r\n",
        "axs[1].set_title('Total_visits_bank')\r\n",
        "axs[2].hist(X.iloc[:,2], bins=50, color='black', rwidth=0.9)\r\n",
        "axs[2].set_title('Total_visits_online')\r\n",
        "plt.show()"
      ],
      "outputs": [
        {
          "output_type": "display_data",
          "data": {
            "image/png": "[encoded data removed]",
            "text/plain": [
              "<Figure size 4800x1200 with 3 Axes>"
            ]
          },
          "metadata": {}
        }
      ],
      "metadata": {}
    },
    {
      "cell_type": "code",
      "execution_count": 101,
      "source": [
        "# Apply MinMaxScaler\r\n",
        "scaler = MinMaxScaler()\r\n",
        "X_scaled = scaler.fit_transform(X)\r\n",
        "\r\n",
        "# Plot distribution charts\r\n",
        "fig, axs = plt.subplots(1, 3, figsize=(16,4), dpi=300)\r\n",
        "axs[0].hist(X_scaled[:,0], bins=50, color='black', rwidth=0.9)\r\n",
        "axs[0].set_title('Total_Credit_Cards')\r\n",
        "axs[1].hist(X_scaled[:,1], bins=50, color='black', rwidth=0.9)\r\n",
        "axs[1].set_title('Total_visits_bank')\r\n",
        "axs[2].hist(X_scaled[:,2], bins=50, color='black', rwidth=0.9)\r\n",
        "axs[2].set_title('Total_visits_online')\r\n",
        "plt.show()"
      ],
      "outputs": [
        {
          "output_type": "display_data",
          "data": {
            "image/png": "[encoded data removed]",
            "text/plain": [
              "<Figure size 4800x1200 with 3 Axes>"
            ]
          },
          "metadata": {}
        }
      ],
      "metadata": {}
    },
    {
      "cell_type": "code",
      "execution_count": 139,
      "source": [
        "# Create empty lists\r\n",
        "S=[] # this is to store Silhouette scores\r\n",
        "comb=[] # this is to store combinations of epsilon / min_samples\r\n",
        "nc = [] # Storing the number of clusters\r\n",
        "\r\n",
        "# Define ranges to explore\r\n",
        "eps_range=range(6,12) # note, we will scale this down by 100 as we want to explore 0.06 - 0.11 range\r\n",
        "minpts_range=range(3,8)\r\n",
        "\r\n",
        "for k in eps_range:\r\n",
        "    for j in minpts_range:\r\n",
        "        # Set the model and its parameters\r\n",
        "        model = DBSCAN(eps=k/100, min_samples=j)\r\n",
        "        # Fit the model \r\n",
        "        clm = model.fit(X_scaled)\r\n",
        "        # Calculate Silhoutte Score and append to a list\r\n",
        "        S.append(metrics.silhouette_score(X_scaled, clm.labels_, metric='euclidean'))\r\n",
        "        comb.append(str(k)+\"|\"+str(j)) # axis values for the graph\r\n",
        "\r\n",
        "        # Number of clusters\r\n",
        "        (unique, counts) = np.unique(clm.labels_, return_counts=True)\r\n",
        "        frequencies = np.asarray((unique, counts)).T\r\n",
        "        nc.append(len(frequencies)-1)\r\n",
        "\r\n",
        "# Plot the resulting Silhouette scores on a graph\r\n",
        "plt.figure(figsize=(16,8), dpi=300)\r\n",
        "plt.plot(comb, S, 'bo-', color='black')\r\n",
        "plt.xlabel('Epsilon/100 | MinPts')\r\n",
        "plt.ylabel('Silhouette Score')\r\n",
        "plt.title('Silhouette Score based on different combnation of Hyperparameters')\r\n",
        "plt.show()"
      ],
      "outputs": [
        {
          "output_type": "error",
          "ename": "SyntaxError",
          "evalue": "invalid syntax (<ipython-input-139-f3491320b075>, line 26)",
          "traceback": [
            "\u001b[1;36m  File \u001b[1;32m\"<ipython-input-139-f3491320b075>\"\u001b[1;36m, line \u001b[1;32m26\u001b[0m\n\u001b[1;33m    plt.figure(figsize=(16,8), dpi=300)\u001b[0m\n\u001b[1;37m    ^\u001b[0m\n\u001b[1;31mSyntaxError\u001b[0m\u001b[1;31m:\u001b[0m invalid syntax\n"
          ]
        }
      ],
      "metadata": {}
    },
    {
      "cell_type": "code",
      "execution_count": 129,
      "source": [
        "# Plot the resulting Silhouette scores on a graph\r\n",
        "plt.figure(figsize=(16,8), dpi=300)\r\n",
        "plt.plot(comb, nc, 'bo-', color='black')\r\n",
        "plt.xlabel('Epsilon/100 | MinPts')\r\n",
        "plt.ylabel('Numer of clusters')\r\n",
        "plt.title('Number of clusters based on different combnation of Hyperparameters')\r\n",
        "plt.show()"
      ],
      "outputs": [
        {
          "output_type": "stream",
          "name": "stderr",
          "text": [
            "<ipython-input-129-3b86df6cb1aa>:3: UserWarning:\n",
            "\n",
            "color is redundantly defined by the 'color' keyword argument and the fmt string \"bo-\" (-> color='b'). The keyword argument will take precedence.\n",
            "\n"
          ]
        },
        {
          "output_type": "display_data",
          "data": {
            "image/png": "[encoded data removed]",
            "text/plain": [
              "<Figure size 4800x2400 with 1 Axes>"
            ]
          },
          "metadata": {}
        }
      ],
      "metadata": {}
    },
    {
      "cell_type": "code",
      "execution_count": 127,
      "source": [
        "# ------- DBSCAN -------\r\n",
        "# Set up model parameters \r\n",
        "\r\n",
        "# First model: eps=0.08, MinPts=3\r\n",
        "model63 = DBSCAN(eps=0.06, # default=0.5, The maximum distance between two samples for one to be considered as in the neighborhood of the other.\r\n",
        "               min_samples=3, # default=5, The number of samples (or total weight) in a neighborhood for a point to be considered as a core point.\r\n",
        "               metric='euclidean', # default='euclidean'. The metric to use when calculating distance between instances in a feature array. \r\n",
        "               metric_params=None, # default=None, Additional keyword arguments for the metric function.\r\n",
        "               algorithm='auto', # {‘auto’, ‘ball_tree’, ‘kd_tree’, ‘brute’}, default=’auto’, The algorithm to be used by the NearestNeighbors module to compute pointwise distances and find nearest neighbors.\r\n",
        "               leaf_size=30, # default=30, Leaf size passed to BallTree or cKDTree.\r\n",
        "               p=None, # default=None, The power of the Minkowski metric to be used to calculate distance between points. If None, then p=2\r\n",
        "               n_jobs=None, # default=None, The number of parallel jobs to run. None means 1 unless in a joblib.parallel_backend context. -1 means using all processors.\r\n",
        "              )\r\n",
        "\r\n",
        "# Second model: eps=0.06, MinPts=6\r\n",
        "model64 = DBSCAN(eps=0.06, min_samples=4) # note, as above this uses default value for other parameters\r\n",
        "model65 = DBSCAN(eps=0.06, min_samples=5) # note, as above this uses default value for other parameters\r\n",
        "\r\n",
        "# Fit the models\r\n",
        "clm63 = model63.fit(X_scaled)\r\n",
        "clm64 = model64.fit(X_scaled)\r\n",
        "clm65 = model65.fit(X_scaled)\r\n",
        "\r\n",
        "# Print DBSCAN results\r\n",
        "print('*************** DBSCAN Clustering Model ***************')\r\n",
        "print(\"Cluster labels for the first model\")\r\n",
        "print(\"Cluster labels for the second model\")"
      ],
      "outputs": [
        {
          "output_type": "stream",
          "name": "stdout",
          "text": [
            "*************** DBSCAN Clustering Model ***************\n",
            "Cluster labels for the first model\n",
            "[[-1 64]\n",
            " [ 0  4]\n",
            " [ 1  5]\n",
            " [ 2  4]\n",
            " [ 3  5]\n",
            " [ 4  5]\n",
            " [ 5  5]\n",
            " [ 6  4]\n",
            " [ 7  6]\n",
            " [ 8  8]\n",
            " [ 9  4]\n",
            " [10  9]\n",
            " [11  6]\n",
            " [12  7]\n",
            " [13  6]\n",
            " [14  7]\n",
            " [15  5]\n",
            " [16  5]\n",
            " [17  6]\n",
            " [18  7]\n",
            " [19  4]\n",
            " [20  5]\n",
            " [21  7]\n",
            " [22  6]\n",
            " [23  6]\n",
            " [24 11]\n",
            " [25  8]\n",
            " [26  3]\n",
            " [27  3]\n",
            " [28  4]\n",
            " [29  4]\n",
            " [30  4]\n",
            " [31  3]\n",
            " [32  7]\n",
            " [33  4]\n",
            " [34  6]\n",
            " [35  5]\n",
            " [36  4]\n",
            " [37 14]\n",
            " [38  8]\n",
            " [39 18]\n",
            " [40  9]\n",
            " [41  8]\n",
            " [42  8]\n",
            " [43 11]\n",
            " [44 10]\n",
            " [45  9]\n",
            " [46 12]\n",
            " [47  8]\n",
            " [48  5]\n",
            " [49 10]\n",
            " [50 11]\n",
            " [51 10]\n",
            " [52  7]\n",
            " [53  8]\n",
            " [54  9]\n",
            " [55 17]\n",
            " [56 17]\n",
            " [57  8]\n",
            " [58  5]\n",
            " [59  4]\n",
            " [60  7]\n",
            " [61  6]\n",
            " [62  6]\n",
            " [63  8]\n",
            " [64  8]\n",
            " [65 11]\n",
            " [66  7]\n",
            " [67  5]\n",
            " [68  6]\n",
            " [69  4]\n",
            " [70 11]\n",
            " [71  4]\n",
            " [72  7]\n",
            " [73 13]\n",
            " [74  8]\n",
            " [75  6]\n",
            " [76  4]\n",
            " [77 10]\n",
            " [78  3]\n",
            " [79  7]\n",
            " [80  4]\n",
            " [81  4]\n",
            " [82  3]\n",
            " [83  3]\n",
            " [84  3]]\n",
            "86\n",
            "Cluster labels for the second model\n"
          ]
        },
        {
          "output_type": "error",
          "ename": "AttributeError",
          "evalue": "'numpy.ndarray' object has no attribute 'nunique'",
          "traceback": [
            "\u001b[1;31m---------------------------------------------------------------------------\u001b[0m",
            "\u001b[1;31mAttributeError\u001b[0m                            Traceback (most recent call last)",
            "\u001b[1;32m<ipython-input-127-b7dbf5b61ca0>\u001b[0m in \u001b[0;36m<module>\u001b[1;34m\u001b[0m\n\u001b[0;32m     30\u001b[0m \u001b[0mprint\u001b[0m\u001b[1;33m(\u001b[0m\u001b[0mlen\u001b[0m\u001b[1;33m(\u001b[0m\u001b[0mfrequencies\u001b[0m\u001b[1;33m)\u001b[0m\u001b[1;33m)\u001b[0m\u001b[1;33m\u001b[0m\u001b[1;33m\u001b[0m\u001b[0m\n\u001b[0;32m     31\u001b[0m \u001b[0mprint\u001b[0m\u001b[1;33m(\u001b[0m\u001b[1;34m\"Cluster labels for the second model\"\u001b[0m\u001b[1;33m)\u001b[0m\u001b[1;33m\u001b[0m\u001b[1;33m\u001b[0m\u001b[0m\n\u001b[1;32m---> 32\u001b[1;33m \u001b[0mprint\u001b[0m\u001b[1;33m(\u001b[0m\u001b[0mclm67\u001b[0m\u001b[1;33m.\u001b[0m\u001b[0mlabels_\u001b[0m\u001b[1;33m.\u001b[0m\u001b[0mnunique\u001b[0m\u001b[1;33m(\u001b[0m\u001b[1;33m)\u001b[0m\u001b[1;33m)\u001b[0m\u001b[1;33m\u001b[0m\u001b[1;33m\u001b[0m\u001b[0m\n\u001b[0m",
            "\u001b[1;31mAttributeError\u001b[0m: 'numpy.ndarray' object has no attribute 'nunique'"
          ]
        }
      ],
      "metadata": {}
    },
    {
      "cell_type": "code",
      "execution_count": 119,
      "source": [
        "df_testing_normalized['DBSCAN Clusters 63']=clm63.labels_\r\n",
        "df_testing_normalized['DBSCAN Clusters 64']=clm64.labels_\r\n",
        "df_testing_normalized['DBSCAN Clusters 65']=clm65.labels_\r\n",
        "df_testing_normalized"
      ],
      "outputs": [
        {
          "output_type": "execute_result",
          "data": {
            "text/html": [
              "<div>\n",
              "<style scoped>\n",
              "    .dataframe tbody tr th:only-of-type {\n",
              "        vertical-align: middle;\n",
              "    }\n",
              "\n",
              "    .dataframe tbody tr th {\n",
              "        vertical-align: top;\n",
              "    }\n",
              "\n",
              "    .dataframe thead th {\n",
              "        text-align: right;\n",
              "    }\n",
              "</style>\n",
              "<table border=\"1\" class=\"dataframe\">\n",
              "  <thead>\n",
              "    <tr style=\"text-align: right;\">\n",
              "      <th></th>\n",
              "      <th>Customer</th>\n",
              "      <th>Limit_bal</th>\n",
              "      <th>Sex</th>\n",
              "      <th>Education</th>\n",
              "      <th>Marriage</th>\n",
              "      <th>Age</th>\n",
              "      <th>Total_Credit_Cards</th>\n",
              "      <th>Total_visits_bank</th>\n",
              "      <th>Total_visits_online</th>\n",
              "      <th>Total_calls_made</th>\n",
              "      <th>DBSCAN Clusters 63</th>\n",
              "      <th>DBSCAN Clusters 67</th>\n",
              "      <th>DBSCAN Clusters 64</th>\n",
              "      <th>DBSCAN Clusters 65</th>\n",
              "    </tr>\n",
              "    <tr>\n",
              "      <th>Id</th>\n",
              "      <th></th>\n",
              "      <th></th>\n",
              "      <th></th>\n",
              "      <th></th>\n",
              "      <th></th>\n",
              "      <th></th>\n",
              "      <th></th>\n",
              "      <th></th>\n",
              "      <th></th>\n",
              "      <th></th>\n",
              "      <th></th>\n",
              "      <th></th>\n",
              "      <th></th>\n",
              "      <th></th>\n",
              "    </tr>\n",
              "  </thead>\n",
              "  <tbody>\n",
              "    <tr>\n",
              "      <th>1</th>\n",
              "      <td>0.855833</td>\n",
              "      <td>0.016129</td>\n",
              "      <td>0.0</td>\n",
              "      <td>0.2</td>\n",
              "      <td>0.0</td>\n",
              "      <td>0.000082</td>\n",
              "      <td>0.111111</td>\n",
              "      <td>0.2</td>\n",
              "      <td>0.066667</td>\n",
              "      <td>0.0</td>\n",
              "      <td>-1</td>\n",
              "      <td>-1</td>\n",
              "      <td>-1</td>\n",
              "      <td>-1</td>\n",
              "    </tr>\n",
              "    <tr>\n",
              "      <th>626</th>\n",
              "      <td>0.102418</td>\n",
              "      <td>0.016129</td>\n",
              "      <td>0.0</td>\n",
              "      <td>0.2</td>\n",
              "      <td>0.5</td>\n",
              "      <td>0.000082</td>\n",
              "      <td>0.777778</td>\n",
              "      <td>0.2</td>\n",
              "      <td>0.400000</td>\n",
              "      <td>0.1</td>\n",
              "      <td>-1</td>\n",
              "      <td>-1</td>\n",
              "      <td>-1</td>\n",
              "      <td>-1</td>\n",
              "    </tr>\n",
              "    <tr>\n",
              "      <th>625</th>\n",
              "      <td>0.971121</td>\n",
              "      <td>0.129032</td>\n",
              "      <td>0.0</td>\n",
              "      <td>0.0</td>\n",
              "      <td>0.5</td>\n",
              "      <td>0.000082</td>\n",
              "      <td>0.666667</td>\n",
              "      <td>0.0</td>\n",
              "      <td>0.733333</td>\n",
              "      <td>0.0</td>\n",
              "      <td>-1</td>\n",
              "      <td>-1</td>\n",
              "      <td>-1</td>\n",
              "      <td>-1</td>\n",
              "    </tr>\n",
              "    <tr>\n",
              "      <th>624</th>\n",
              "      <td>0.240681</td>\n",
              "      <td>0.564516</td>\n",
              "      <td>0.0</td>\n",
              "      <td>0.2</td>\n",
              "      <td>0.0</td>\n",
              "      <td>0.000436</td>\n",
              "      <td>1.000000</td>\n",
              "      <td>0.0</td>\n",
              "      <td>0.466667</td>\n",
              "      <td>0.0</td>\n",
              "      <td>-1</td>\n",
              "      <td>-1</td>\n",
              "      <td>-1</td>\n",
              "      <td>-1</td>\n",
              "    </tr>\n",
              "    <tr>\n",
              "      <th>622</th>\n",
              "      <td>0.823308</td>\n",
              "      <td>0.274194</td>\n",
              "      <td>0.0</td>\n",
              "      <td>0.2</td>\n",
              "      <td>0.5</td>\n",
              "      <td>0.000191</td>\n",
              "      <td>0.888889</td>\n",
              "      <td>0.2</td>\n",
              "      <td>0.800000</td>\n",
              "      <td>0.2</td>\n",
              "      <td>-1</td>\n",
              "      <td>-1</td>\n",
              "      <td>-1</td>\n",
              "      <td>-1</td>\n",
              "    </tr>\n",
              "    <tr>\n",
              "      <th>...</th>\n",
              "      <td>...</td>\n",
              "      <td>...</td>\n",
              "      <td>...</td>\n",
              "      <td>...</td>\n",
              "      <td>...</td>\n",
              "      <td>...</td>\n",
              "      <td>...</td>\n",
              "      <td>...</td>\n",
              "      <td>...</td>\n",
              "      <td>...</td>\n",
              "      <td>...</td>\n",
              "      <td>...</td>\n",
              "      <td>...</td>\n",
              "      <td>...</td>\n",
              "    </tr>\n",
              "    <tr>\n",
              "      <th>621</th>\n",
              "      <td>0.235295</td>\n",
              "      <td>0.225806</td>\n",
              "      <td>0.0</td>\n",
              "      <td>0.2</td>\n",
              "      <td>0.0</td>\n",
              "      <td>0.000490</td>\n",
              "      <td>1.000000</td>\n",
              "      <td>0.0</td>\n",
              "      <td>1.000000</td>\n",
              "      <td>0.1</td>\n",
              "      <td>-1</td>\n",
              "      <td>-1</td>\n",
              "      <td>-1</td>\n",
              "      <td>-1</td>\n",
              "    </tr>\n",
              "    <tr>\n",
              "      <th>654</th>\n",
              "      <td>0.457913</td>\n",
              "      <td>0.709677</td>\n",
              "      <td>0.0</td>\n",
              "      <td>0.0</td>\n",
              "      <td>0.0</td>\n",
              "      <td>0.000572</td>\n",
              "      <td>1.000000</td>\n",
              "      <td>0.0</td>\n",
              "      <td>1.000000</td>\n",
              "      <td>0.1</td>\n",
              "      <td>-1</td>\n",
              "      <td>-1</td>\n",
              "      <td>-1</td>\n",
              "      <td>-1</td>\n",
              "    </tr>\n",
              "    <tr>\n",
              "      <th>645</th>\n",
              "      <td>0.081894</td>\n",
              "      <td>0.032258</td>\n",
              "      <td>0.0</td>\n",
              "      <td>0.2</td>\n",
              "      <td>0.0</td>\n",
              "      <td>0.000272</td>\n",
              "      <td>1.000000</td>\n",
              "      <td>0.2</td>\n",
              "      <td>1.000000</td>\n",
              "      <td>0.1</td>\n",
              "      <td>-1</td>\n",
              "      <td>-1</td>\n",
              "      <td>-1</td>\n",
              "      <td>-1</td>\n",
              "    </tr>\n",
              "    <tr>\n",
              "      <th>659</th>\n",
              "      <td>0.783377</td>\n",
              "      <td>0.112903</td>\n",
              "      <td>0.0</td>\n",
              "      <td>0.0</td>\n",
              "      <td>0.5</td>\n",
              "      <td>0.000054</td>\n",
              "      <td>1.000000</td>\n",
              "      <td>0.2</td>\n",
              "      <td>1.000000</td>\n",
              "      <td>0.0</td>\n",
              "      <td>84</td>\n",
              "      <td>-1</td>\n",
              "      <td>-1</td>\n",
              "      <td>-1</td>\n",
              "    </tr>\n",
              "    <tr>\n",
              "      <th>623</th>\n",
              "      <td>0.481508</td>\n",
              "      <td>0.129032</td>\n",
              "      <td>0.0</td>\n",
              "      <td>0.0</td>\n",
              "      <td>0.5</td>\n",
              "      <td>0.000163</td>\n",
              "      <td>1.000000</td>\n",
              "      <td>0.2</td>\n",
              "      <td>1.000000</td>\n",
              "      <td>0.2</td>\n",
              "      <td>-1</td>\n",
              "      <td>-1</td>\n",
              "      <td>-1</td>\n",
              "      <td>-1</td>\n",
              "    </tr>\n",
              "  </tbody>\n",
              "</table>\n",
              "<p>650 rows × 14 columns</p>\n",
              "</div>"
            ],
            "text/plain": [
              "     Customer  Limit_bal  Sex  Education  Marriage       Age  \\\n",
              "Id                                                             \n",
              "1    0.855833   0.016129  0.0        0.2       0.0  0.000082   \n",
              "626  0.102418   0.016129  0.0        0.2       0.5  0.000082   \n",
              "625  0.971121   0.129032  0.0        0.0       0.5  0.000082   \n",
              "624  0.240681   0.564516  0.0        0.2       0.0  0.000436   \n",
              "622  0.823308   0.274194  0.0        0.2       0.5  0.000191   \n",
              "..        ...        ...  ...        ...       ...       ...   \n",
              "621  0.235295   0.225806  0.0        0.2       0.0  0.000490   \n",
              "654  0.457913   0.709677  0.0        0.0       0.0  0.000572   \n",
              "645  0.081894   0.032258  0.0        0.2       0.0  0.000272   \n",
              "659  0.783377   0.112903  0.0        0.0       0.5  0.000054   \n",
              "623  0.481508   0.129032  0.0        0.0       0.5  0.000163   \n",
              "\n",
              "     Total_Credit_Cards  Total_visits_bank  Total_visits_online  \\\n",
              "Id                                                                \n",
              "1              0.111111                0.2             0.066667   \n",
              "626            0.777778                0.2             0.400000   \n",
              "625            0.666667                0.0             0.733333   \n",
              "624            1.000000                0.0             0.466667   \n",
              "622            0.888889                0.2             0.800000   \n",
              "..                  ...                ...                  ...   \n",
              "621            1.000000                0.0             1.000000   \n",
              "654            1.000000                0.0             1.000000   \n",
              "645            1.000000                0.2             1.000000   \n",
              "659            1.000000                0.2             1.000000   \n",
              "623            1.000000                0.2             1.000000   \n",
              "\n",
              "     Total_calls_made  DBSCAN Clusters 63  DBSCAN Clusters 67  \\\n",
              "Id                                                              \n",
              "1                 0.0                  -1                  -1   \n",
              "626               0.1                  -1                  -1   \n",
              "625               0.0                  -1                  -1   \n",
              "624               0.0                  -1                  -1   \n",
              "622               0.2                  -1                  -1   \n",
              "..                ...                 ...                 ...   \n",
              "621               0.1                  -1                  -1   \n",
              "654               0.1                  -1                  -1   \n",
              "645               0.1                  -1                  -1   \n",
              "659               0.0                  84                  -1   \n",
              "623               0.2                  -1                  -1   \n",
              "\n",
              "     DBSCAN Clusters 64  DBSCAN Clusters 65  \n",
              "Id                                           \n",
              "1                    -1                  -1  \n",
              "626                  -1                  -1  \n",
              "625                  -1                  -1  \n",
              "624                  -1                  -1  \n",
              "622                  -1                  -1  \n",
              "..                  ...                 ...  \n",
              "621                  -1                  -1  \n",
              "654                  -1                  -1  \n",
              "645                  -1                  -1  \n",
              "659                  -1                  -1  \n",
              "623                  -1                  -1  \n",
              "\n",
              "[650 rows x 14 columns]"
            ]
          },
          "metadata": {},
          "execution_count": 119
        }
      ],
      "metadata": {}
    },
    {
      "cell_type": "code",
      "execution_count": 120,
      "source": [
        "# Sort the dataframe so clusters in the legend follow the number order\r\n",
        "df_testing_normalized=df_testing_normalized.sort_values(by=['DBSCAN Clusters 65'])\r\n",
        "\r\n",
        "# Create a 3D scatter plot\r\n",
        "fig = px.scatter_3d(df_testing_normalized, x = df_testing_normalized[\"Total_Credit_Cards\"], y = df_testing_normalized[\"Total_visits_bank\"], z = df_testing_normalized[\"Total_visits_online\"], \r\n",
        "                    opacity=1, color=df_testing_normalized['DBSCAN Clusters 65'].astype(str), \r\n",
        "                    color_discrete_sequence=['black']+px.colors.qualitative.Plotly,\r\n",
        "                    width=900, height=900\r\n",
        "                   )\r\n",
        "\r\n",
        "# Update chart looks\r\n",
        "fig.update_layout(#title_text=\"Scatter 3D Plot\",\r\n",
        "                  showlegend=True,\r\n",
        "                  legend=dict(orientation=\"h\", yanchor=\"bottom\", y=0.04, xanchor=\"left\", x=0.1),\r\n",
        "                  scene_camera=dict(up=dict(x=0, y=0, z=1), \r\n",
        "                                        center=dict(x=0, y=0, z=-0.2),\r\n",
        "                                        eye=dict(x=1.5, y=1.5, z=0.5)),\r\n",
        "                                        margin=dict(l=0, r=0, b=0, t=0),\r\n",
        "                  scene = dict(xaxis=dict(backgroundcolor='white',\r\n",
        "                                          color='black',\r\n",
        "                                          gridcolor='#f0f0f0',\r\n",
        "                                          title_font=dict(size=10),\r\n",
        "                                          tickfont=dict(size=10),\r\n",
        "                                         ),\r\n",
        "                               yaxis=dict(backgroundcolor='white',\r\n",
        "                                          color='black',\r\n",
        "                                          gridcolor='#f0f0f0',\r\n",
        "                                          title_font=dict(size=10),\r\n",
        "                                          tickfont=dict(size=10),\r\n",
        "                                          ),\r\n",
        "                               zaxis=dict(backgroundcolor='lightgrey',\r\n",
        "                                          color='black', \r\n",
        "                                          gridcolor='#f0f0f0',\r\n",
        "                                          title_font=dict(size=10),\r\n",
        "                                          tickfont=dict(size=10),\r\n",
        "                                         )))\r\n",
        "# Update marker size\r\n",
        "fig.update_traces(marker=dict(size=2))\r\n",
        "\r\n",
        "fig.show()"
      ],
      "outputs": [
        {
          "output_type": "display_data",
          "data": {
            "application/vnd.plotly.v1+json": {
              "config": {
                "plotlyServerURL": "https://plot.ly"
              },
              "data": [
                {
                  "hovertemplate": "color=-1<br>Total_Credit_Cards=%{x}<br>Total_visits_bank=%{y}<br>Total_visits_online=%{z}<extra></extra>",
                  "legendgroup": "-1",
                  "marker": {
                    "color": "black",
                    "opacity": 1,
                    "size": 2,
                    "symbol": "circle"
                  },
                  "mode": "markers",
                  "name": "-1",
                  "scene": "scene",
                  "showlegend": true,
                  "type": "scatter3d",
                  "x": [
                    0.1111111111111111,
                    0.3333333333333333,
                    0.3333333333333333,
                    0.3333333333333333,
                    0,
                    0.6666666666666666,
                    0.6666666666666666,
                    0.6666666666666666,
                    0.5555555555555556,
                    1,
                    0.5555555555555556,
                    0.5555555555555556,
                    0.4444444444444444,
                    0.5555555555555556,
                    0.5555555555555556,
                    0.6666666666666666,
                    0.5555555555555556,
                    0.5555555555555556,
                    0.5555555555555556,
                    0.5555555555555556,
                    0.4444444444444444,
                    0.4444444444444444,
                    0.3333333333333333,
                    0.6666666666666666,
                    0.3333333333333333,
                    0,
                    0,
                    0.2222222222222222,
                    0.1111111111111111,
                    0.3333333333333333,
                    0.3333333333333333,
                    0.3333333333333333,
                    0,
                    0,
                    0,
                    0.2222222222222222,
                    0.2222222222222222,
                    0,
                    0,
                    0.6666666666666666,
                    0.3333333333333333,
                    0.3333333333333333,
                    0.3333333333333333,
                    0.3333333333333333,
                    0.3333333333333333,
                    0.2222222222222222,
                    0.1111111111111111,
                    0.1111111111111111,
                    0.1111111111111111,
                    0.1111111111111111,
                    0.1111111111111111,
                    0.2222222222222222,
                    0.3333333333333333,
                    0.4444444444444444,
                    0.3333333333333333,
                    0.5555555555555556,
                    0.4444444444444444,
                    0.4444444444444444,
                    0.6666666666666666,
                    0.6666666666666666,
                    0.6666666666666666,
                    0.6666666666666666,
                    0.6666666666666666,
                    0.6666666666666666,
                    0.6666666666666666,
                    0.4444444444444444,
                    0.4444444444444444,
                    0.4444444444444444,
                    0.4444444444444444,
                    0.6666666666666666,
                    0.6666666666666666,
                    0.6666666666666666,
                    0.6666666666666666,
                    0.7777777777777778,
                    0.7777777777777778,
                    0.7777777777777778,
                    1,
                    1,
                    1,
                    1,
                    0.4444444444444444,
                    0.1111111111111111,
                    0.5555555555555556,
                    0.5555555555555556,
                    0.3333333333333333,
                    0.4444444444444444,
                    0.3333333333333333,
                    0.3333333333333333,
                    0.5555555555555556,
                    0.5555555555555556,
                    0.5555555555555556,
                    0.4444444444444444,
                    0.4444444444444444,
                    0.4444444444444444,
                    0.4444444444444444,
                    0.5555555555555556,
                    0.4444444444444444,
                    0.4444444444444444,
                    0.4444444444444444,
                    0.4444444444444444,
                    0.4444444444444444,
                    0.5555555555555556,
                    0.5555555555555556,
                    0.5555555555555556,
                    0.5555555555555556,
                    0.5555555555555556,
                    0.5555555555555556,
                    0.5555555555555556,
                    0.4444444444444444,
                    0.2222222222222222,
                    1,
                    0.1111111111111111,
                    0.2222222222222222,
                    0.1111111111111111,
                    0.2222222222222222,
                    1,
                    0.1111111111111111,
                    0.3333333333333333,
                    0.7777777777777778,
                    0.3333333333333333,
                    0.3333333333333333,
                    0.6666666666666666,
                    0.7777777777777778,
                    0.1111111111111111,
                    0.1111111111111111,
                    0.8888888888888888,
                    0.2222222222222222,
                    0.3333333333333333,
                    0.1111111111111111,
                    0,
                    0.2222222222222222,
                    0,
                    0.8888888888888888,
                    0,
                    0.8888888888888888,
                    1,
                    0.7777777777777778,
                    0.7777777777777778,
                    0.6666666666666666,
                    1,
                    0.6666666666666666,
                    0.2222222222222222,
                    0,
                    0.8888888888888888,
                    0.2222222222222222,
                    0.6666666666666666,
                    0.3333333333333333,
                    0.3333333333333333,
                    0.3333333333333333
                  ],
                  "y": [
                    0.2,
                    0.4,
                    0.4,
                    0.4,
                    0,
                    0.4,
                    0.4,
                    0.4,
                    0.6,
                    0.2,
                    0.8,
                    0.8,
                    0.4,
                    0.8,
                    0.8,
                    0.6,
                    1,
                    1,
                    0.6,
                    0.6,
                    1,
                    0.6,
                    0.4,
                    1,
                    0.4,
                    0.2,
                    0.2,
                    0,
                    0,
                    0,
                    0,
                    0,
                    0,
                    0,
                    0,
                    0.2,
                    0.2,
                    0.2,
                    0.2,
                    1,
                    0.4,
                    0.4,
                    0.4,
                    0,
                    0,
                    0.4,
                    0.2,
                    0.2,
                    0.2,
                    0.2,
                    0.2,
                    0,
                    0.4,
                    1,
                    1,
                    0.8,
                    0.6,
                    0.6,
                    0.6,
                    0.6,
                    0.6,
                    0.6,
                    0.6,
                    0.6,
                    0.6,
                    0.8,
                    0.8,
                    0.6,
                    0.8,
                    0.8,
                    0.8,
                    0.8,
                    0.8,
                    0.2,
                    0.2,
                    0.2,
                    0,
                    0,
                    0,
                    0.2,
                    0.8,
                    0,
                    0.4,
                    0.4,
                    0.6,
                    0.4,
                    0.8,
                    0.8,
                    0.6,
                    0.6,
                    0.6,
                    0.6,
                    0.6,
                    0.6,
                    0.6,
                    0.4,
                    0.6,
                    1,
                    1,
                    1,
                    1,
                    0.4,
                    0.4,
                    0.4,
                    0.4,
                    0.4,
                    0.4,
                    0.4,
                    0.6,
                    0,
                    0.2,
                    0.4,
                    0.4,
                    0,
                    0.4,
                    0,
                    0,
                    0.2,
                    0,
                    0.2,
                    0.2,
                    0,
                    0.2,
                    0.4,
                    0.4,
                    0.2,
                    0.4,
                    0,
                    0.2,
                    0,
                    0,
                    0.2,
                    0.2,
                    0.2,
                    0.2,
                    0.2,
                    0.2,
                    0,
                    0,
                    0,
                    0,
                    0.2,
                    0.2,
                    0.2,
                    0,
                    0.2,
                    0.2,
                    0.2,
                    0.2
                  ],
                  "z": [
                    0.06666666666666667,
                    0.13333333333333333,
                    0.13333333333333333,
                    0.13333333333333333,
                    0.2,
                    0,
                    0,
                    0.06666666666666667,
                    0.13333333333333333,
                    1,
                    0,
                    0,
                    0,
                    0.13333333333333333,
                    0.13333333333333333,
                    0.13333333333333333,
                    0.06666666666666667,
                    0.13333333333333333,
                    0.06666666666666667,
                    0.06666666666666667,
                    0.13333333333333333,
                    0,
                    0,
                    0,
                    0.13333333333333333,
                    0.26666666666666666,
                    0.26666666666666666,
                    0.26666666666666666,
                    0.26666666666666666,
                    0.26666666666666666,
                    0.26666666666666666,
                    0.26666666666666666,
                    0.3333333333333333,
                    0.3333333333333333,
                    0.3333333333333333,
                    0.26666666666666666,
                    0.26666666666666666,
                    0.13333333333333333,
                    0.13333333333333333,
                    0,
                    0.2,
                    0.26666666666666666,
                    0.26666666666666666,
                    0.13333333333333333,
                    0.13333333333333333,
                    0.13333333333333333,
                    0.3333333333333333,
                    0.3333333333333333,
                    0.3333333333333333,
                    0.3333333333333333,
                    0.3333333333333333,
                    0.26666666666666666,
                    0.26666666666666666,
                    0.06666666666666667,
                    0.13333333333333333,
                    0.06666666666666667,
                    0.06666666666666667,
                    0.06666666666666667,
                    0,
                    0,
                    0,
                    0,
                    0,
                    0,
                    0,
                    0,
                    0,
                    0.06666666666666667,
                    0,
                    0.06666666666666667,
                    0.06666666666666667,
                    0.06666666666666667,
                    0.06666666666666667,
                    0.4666666666666667,
                    0.4666666666666667,
                    0.4666666666666667,
                    1,
                    1,
                    1,
                    1,
                    0,
                    0.26666666666666666,
                    0,
                    0,
                    0,
                    0.06666666666666667,
                    0,
                    0.13333333333333333,
                    0,
                    0,
                    0,
                    0.13333333333333333,
                    0.13333333333333333,
                    0.13333333333333333,
                    0.13333333333333333,
                    0,
                    0.13333333333333333,
                    0,
                    0,
                    0,
                    0,
                    0,
                    0,
                    0,
                    0,
                    0,
                    0,
                    0,
                    0.13333333333333333,
                    0.3333333333333333,
                    1,
                    0.13333333333333333,
                    0.3333333333333333,
                    0.13333333333333333,
                    0.3333333333333333,
                    0.8666666666666667,
                    0.13333333333333333,
                    0.3333333333333333,
                    0.5333333333333333,
                    0.3333333333333333,
                    0.3333333333333333,
                    0.8666666666666667,
                    1,
                    0.26666666666666666,
                    0.26666666666666666,
                    0.8,
                    0.26666666666666666,
                    0.2,
                    0.2,
                    0.26666666666666666,
                    0.2,
                    0.3333333333333333,
                    0.6666666666666666,
                    0.3333333333333333,
                    0.6666666666666666,
                    0.7333333333333333,
                    0.4,
                    0.8666666666666667,
                    0.7333333333333333,
                    0.4666666666666667,
                    0.8666666666666667,
                    0.13333333333333333,
                    0.2,
                    0.8,
                    0.06666666666666667,
                    0.2,
                    0.26666666666666666,
                    0.26666666666666666,
                    0.26666666666666666
                  ]
                },
                {
                  "hovertemplate": "color=0<br>Total_Credit_Cards=%{x}<br>Total_visits_bank=%{y}<br>Total_visits_online=%{z}<extra></extra>",
                  "legendgroup": "0",
                  "marker": {
                    "color": "#636EFA",
                    "opacity": 1,
                    "size": 2,
                    "symbol": "circle"
                  },
                  "mode": "markers",
                  "name": "0",
                  "scene": "scene",
                  "showlegend": true,
                  "type": "scatter3d",
                  "x": [
                    0.1111111111111111,
                    0.1111111111111111,
                    0.3333333333333333,
                    0.2222222222222222,
                    0.8888888888888888
                  ],
                  "y": [
                    0.4,
                    0.4,
                    0,
                    0.2,
                    0.2
                  ],
                  "z": [
                    0.13333333333333333,
                    0.13333333333333333,
                    0.13333333333333333,
                    0.26666666666666666,
                    0.7333333333333333
                  ]
                },
                {
                  "hovertemplate": "color=1<br>Total_Credit_Cards=%{x}<br>Total_visits_bank=%{y}<br>Total_visits_online=%{z}<extra></extra>",
                  "legendgroup": "1",
                  "marker": {
                    "color": "#EF553B",
                    "opacity": 1,
                    "size": 2,
                    "symbol": "circle"
                  },
                  "mode": "markers",
                  "name": "1",
                  "scene": "scene",
                  "showlegend": true,
                  "type": "scatter3d",
                  "x": [
                    0.1111111111111111,
                    0.8888888888888888,
                    0,
                    0.7777777777777778,
                    0.3333333333333333
                  ],
                  "y": [
                    0.4,
                    0.2,
                    0.4,
                    0.2,
                    0.4
                  ],
                  "z": [
                    0.13333333333333333,
                    0.9333333333333333,
                    0.3333333333333333,
                    0.5333333333333333,
                    0.13333333333333333
                  ]
                },
                {
                  "hovertemplate": "color=2<br>Total_Credit_Cards=%{x}<br>Total_visits_bank=%{y}<br>Total_visits_online=%{z}<extra></extra>",
                  "legendgroup": "2",
                  "marker": {
                    "color": "#00CC96",
                    "opacity": 1,
                    "size": 2,
                    "symbol": "circle"
                  },
                  "mode": "markers",
                  "name": "2",
                  "scene": "scene",
                  "showlegend": true,
                  "type": "scatter3d",
                  "x": [
                    0.2222222222222222,
                    0.1111111111111111,
                    0.6666666666666666,
                    0,
                    0.2222222222222222
                  ],
                  "y": [
                    0.2,
                    0,
                    0.4,
                    0.4,
                    0
                  ],
                  "z": [
                    0.2,
                    0.2,
                    0.13333333333333333,
                    0.13333333333333333,
                    0.3333333333333333
                  ]
                },
                {
                  "hovertemplate": "color=3<br>Total_Credit_Cards=%{x}<br>Total_visits_bank=%{y}<br>Total_visits_online=%{z}<extra></extra>",
                  "legendgroup": "3",
                  "marker": {
                    "color": "#AB63FA",
                    "opacity": 1,
                    "size": 2,
                    "symbol": "circle"
                  },
                  "mode": "markers",
                  "name": "3",
                  "scene": "scene",
                  "showlegend": true,
                  "type": "scatter3d",
                  "x": [
                    0.3333333333333333,
                    0.1111111111111111,
                    0.2222222222222222,
                    0.3333333333333333,
                    0.2222222222222222
                  ],
                  "y": [
                    0,
                    0,
                    0.2,
                    0.4,
                    0.4
                  ],
                  "z": [
                    0.26666666666666666,
                    0.26666666666666666,
                    0.2,
                    0.13333333333333333,
                    0.3333333333333333
                  ]
                },
                {
                  "hovertemplate": "color=4<br>Total_Credit_Cards=%{x}<br>Total_visits_bank=%{y}<br>Total_visits_online=%{z}<extra></extra>",
                  "legendgroup": "4",
                  "marker": {
                    "color": "#FFA15A",
                    "opacity": 1,
                    "size": 2,
                    "symbol": "circle"
                  },
                  "mode": "markers",
                  "name": "4",
                  "scene": "scene",
                  "showlegend": true,
                  "type": "scatter3d",
                  "x": [
                    0,
                    0.2222222222222222,
                    0.1111111111111111,
                    0,
                    0.3333333333333333,
                    0.2222222222222222
                  ],
                  "y": [
                    0.2,
                    0,
                    0.2,
                    0,
                    0,
                    0.4
                  ],
                  "z": [
                    0.13333333333333333,
                    0.26666666666666666,
                    0.2,
                    0.13333333333333333,
                    0.06666666666666667,
                    0.13333333333333333
                  ]
                },
                {
                  "hovertemplate": "color=5<br>Total_Credit_Cards=%{x}<br>Total_visits_bank=%{y}<br>Total_visits_online=%{z}<extra></extra>",
                  "legendgroup": "5",
                  "marker": {
                    "color": "#19D3F3",
                    "opacity": 1,
                    "size": 2,
                    "symbol": "circle"
                  },
                  "mode": "markers",
                  "name": "5",
                  "scene": "scene",
                  "showlegend": true,
                  "type": "scatter3d",
                  "x": [
                    0.8888888888888888,
                    0,
                    0.8888888888888888,
                    0.2222222222222222,
                    0,
                    0.1111111111111111,
                    0,
                    0.2222222222222222
                  ],
                  "y": [
                    0,
                    0.2,
                    0,
                    0.2,
                    0.2,
                    0,
                    0.4,
                    0
                  ],
                  "z": [
                    0.5333333333333333,
                    0.26666666666666666,
                    0.8,
                    0.3333333333333333,
                    0.26666666666666666,
                    0.26666666666666666,
                    0.2,
                    0.2
                  ]
                },
                {
                  "hovertemplate": "color=6<br>Total_Credit_Cards=%{x}<br>Total_visits_bank=%{y}<br>Total_visits_online=%{z}<extra></extra>",
                  "legendgroup": "6",
                  "marker": {
                    "color": "#FF6692",
                    "opacity": 1,
                    "size": 2,
                    "symbol": "circle"
                  },
                  "mode": "markers",
                  "name": "6",
                  "scene": "scene",
                  "showlegend": true,
                  "type": "scatter3d",
                  "x": [
                    1,
                    1,
                    0.6666666666666666,
                    0.1111111111111111,
                    0.2222222222222222,
                    0.1111111111111111,
                    0.6666666666666666,
                    0,
                    0.8888888888888888
                  ],
                  "y": [
                    0.2,
                    0.2,
                    0.4,
                    0,
                    0.2,
                    0.2,
                    0.2,
                    0.4,
                    0
                  ],
                  "z": [
                    0.8666666666666667,
                    0.6,
                    0.13333333333333333,
                    0.2,
                    0.3333333333333333,
                    0.3333333333333333,
                    0.6666666666666666,
                    0.3333333333333333,
                    0.6
                  ]
                },
                {
                  "hovertemplate": "color=7<br>Total_Credit_Cards=%{x}<br>Total_visits_bank=%{y}<br>Total_visits_online=%{z}<extra></extra>",
                  "legendgroup": "7",
                  "marker": {
                    "color": "#B6E880",
                    "opacity": 1,
                    "size": 2,
                    "symbol": "circle"
                  },
                  "mode": "markers",
                  "name": "7",
                  "scene": "scene",
                  "showlegend": true,
                  "type": "scatter3d",
                  "x": [
                    1,
                    0.2222222222222222,
                    0.3333333333333333,
                    0.3333333333333333,
                    0.3333333333333333,
                    0
                  ],
                  "y": [
                    0,
                    0.2,
                    0.2,
                    0.4,
                    0.4,
                    0.2
                  ],
                  "z": [
                    0.8,
                    0.26666666666666666,
                    0.26666666666666666,
                    0.2,
                    0.2,
                    0.26666666666666666
                  ]
                },
                {
                  "hovertemplate": "color=8<br>Total_Credit_Cards=%{x}<br>Total_visits_bank=%{y}<br>Total_visits_online=%{z}<extra></extra>",
                  "legendgroup": "8",
                  "marker": {
                    "color": "#FF97FF",
                    "opacity": 1,
                    "size": 2,
                    "symbol": "circle"
                  },
                  "mode": "markers",
                  "name": "8",
                  "scene": "scene",
                  "showlegend": true,
                  "type": "scatter3d",
                  "x": [
                    0.8888888888888888,
                    0,
                    0.1111111111111111,
                    0.3333333333333333,
                    0,
                    0,
                    0
                  ],
                  "y": [
                    0.2,
                    0.4,
                    0,
                    0,
                    0.2,
                    0.2,
                    0.2
                  ],
                  "z": [
                    1,
                    0.3333333333333333,
                    0.26666666666666666,
                    0.26666666666666666,
                    0.26666666666666666,
                    0.26666666666666666,
                    0.26666666666666666
                  ]
                },
                {
                  "hovertemplate": "color=9<br>Total_Credit_Cards=%{x}<br>Total_visits_bank=%{y}<br>Total_visits_online=%{z}<extra></extra>",
                  "legendgroup": "9",
                  "marker": {
                    "color": "#FECB52",
                    "opacity": 1,
                    "size": 2,
                    "symbol": "circle"
                  },
                  "mode": "markers",
                  "name": "9",
                  "scene": "scene",
                  "showlegend": true,
                  "type": "scatter3d",
                  "x": [
                    0.2222222222222222,
                    0,
                    0.7777777777777778,
                    0.7777777777777778,
                    0.8888888888888888,
                    0.3333333333333333
                  ],
                  "y": [
                    0,
                    0,
                    0,
                    0.2,
                    0.2,
                    0.2
                  ],
                  "z": [
                    0.26666666666666666,
                    0.26666666666666666,
                    0.4666666666666667,
                    0.6,
                    0.7333333333333333,
                    0.3333333333333333
                  ]
                },
                {
                  "hovertemplate": "color=10<br>Total_Credit_Cards=%{x}<br>Total_visits_bank=%{y}<br>Total_visits_online=%{z}<extra></extra>",
                  "legendgroup": "10",
                  "marker": {
                    "color": "black",
                    "opacity": 1,
                    "size": 2,
                    "symbol": "circle"
                  },
                  "mode": "markers",
                  "name": "10",
                  "scene": "scene",
                  "showlegend": true,
                  "type": "scatter3d",
                  "x": [
                    0.1111111111111111,
                    0.1111111111111111,
                    0.3333333333333333,
                    1,
                    0,
                    0.1111111111111111,
                    0.3333333333333333
                  ],
                  "y": [
                    0,
                    0,
                    0.4,
                    0.2,
                    0.2,
                    0,
                    0.2
                  ],
                  "z": [
                    0.26666666666666666,
                    0.13333333333333333,
                    0.26666666666666666,
                    0.6666666666666666,
                    0.3333333333333333,
                    0.13333333333333333,
                    0.26666666666666666
                  ]
                },
                {
                  "hovertemplate": "color=11<br>Total_Credit_Cards=%{x}<br>Total_visits_bank=%{y}<br>Total_visits_online=%{z}<extra></extra>",
                  "legendgroup": "11",
                  "marker": {
                    "color": "#636EFA",
                    "opacity": 1,
                    "size": 2,
                    "symbol": "circle"
                  },
                  "mode": "markers",
                  "name": "11",
                  "scene": "scene",
                  "showlegend": true,
                  "type": "scatter3d",
                  "x": [
                    0,
                    0.1111111111111111,
                    0,
                    0.1111111111111111,
                    1
                  ],
                  "y": [
                    0.4,
                    0.2,
                    0.4,
                    0.4,
                    0.2
                  ],
                  "z": [
                    0.3333333333333333,
                    0.3333333333333333,
                    0.3333333333333333,
                    0.26666666666666666,
                    0.8
                  ]
                },
                {
                  "hovertemplate": "color=12<br>Total_Credit_Cards=%{x}<br>Total_visits_bank=%{y}<br>Total_visits_online=%{z}<extra></extra>",
                  "legendgroup": "12",
                  "marker": {
                    "color": "#EF553B",
                    "opacity": 1,
                    "size": 2,
                    "symbol": "circle"
                  },
                  "mode": "markers",
                  "name": "12",
                  "scene": "scene",
                  "showlegend": true,
                  "type": "scatter3d",
                  "x": [
                    0.1111111111111111,
                    0.3333333333333333,
                    0.2222222222222222,
                    1,
                    0.1111111111111111
                  ],
                  "y": [
                    0,
                    0.4,
                    0.2,
                    0.2,
                    0
                  ],
                  "z": [
                    0.2,
                    0.2,
                    0.26666666666666666,
                    0.5333333333333333,
                    0.2
                  ]
                },
                {
                  "hovertemplate": "color=13<br>Total_Credit_Cards=%{x}<br>Total_visits_bank=%{y}<br>Total_visits_online=%{z}<extra></extra>",
                  "legendgroup": "13",
                  "marker": {
                    "color": "#00CC96",
                    "opacity": 1,
                    "size": 2,
                    "symbol": "circle"
                  },
                  "mode": "markers",
                  "name": "13",
                  "scene": "scene",
                  "showlegend": true,
                  "type": "scatter3d",
                  "x": [
                    0.2222222222222222,
                    0.1111111111111111,
                    0.2222222222222222,
                    0.6666666666666666,
                    0.2222222222222222,
                    0
                  ],
                  "y": [
                    0,
                    0.4,
                    0.2,
                    0,
                    0,
                    0
                  ],
                  "z": [
                    0.3333333333333333,
                    0.26666666666666666,
                    0.3333333333333333,
                    0.5333333333333333,
                    0.26666666666666666,
                    0.13333333333333333
                  ]
                },
                {
                  "hovertemplate": "color=14<br>Total_Credit_Cards=%{x}<br>Total_visits_bank=%{y}<br>Total_visits_online=%{z}<extra></extra>",
                  "legendgroup": "14",
                  "marker": {
                    "color": "#AB63FA",
                    "opacity": 1,
                    "size": 2,
                    "symbol": "circle"
                  },
                  "mode": "markers",
                  "name": "14",
                  "scene": "scene",
                  "showlegend": true,
                  "type": "scatter3d",
                  "x": [
                    0,
                    0,
                    0.6666666666666666,
                    0.3333333333333333,
                    0.2222222222222222,
                    1,
                    1
                  ],
                  "y": [
                    0.2,
                    0,
                    0.2,
                    0,
                    0.4,
                    0,
                    0.2
                  ],
                  "z": [
                    0.13333333333333333,
                    0.3333333333333333,
                    0.4666666666666667,
                    0.3333333333333333,
                    0.13333333333333333,
                    0.6666666666666666,
                    0.6
                  ]
                },
                {
                  "hovertemplate": "color=15<br>Total_Credit_Cards=%{x}<br>Total_visits_bank=%{y}<br>Total_visits_online=%{z}<extra></extra>",
                  "legendgroup": "15",
                  "marker": {
                    "color": "#FFA15A",
                    "opacity": 1,
                    "size": 2,
                    "symbol": "circle"
                  },
                  "mode": "markers",
                  "name": "15",
                  "scene": "scene",
                  "showlegend": true,
                  "type": "scatter3d",
                  "x": [
                    0.2222222222222222,
                    0,
                    0.2222222222222222,
                    0.1111111111111111,
                    0.6666666666666666
                  ],
                  "y": [
                    0.2,
                    0,
                    0,
                    0,
                    0.2
                  ],
                  "z": [
                    0.26666666666666666,
                    0.3333333333333333,
                    0.6666666666666666,
                    0.2,
                    1
                  ]
                },
                {
                  "hovertemplate": "color=16<br>Total_Credit_Cards=%{x}<br>Total_visits_bank=%{y}<br>Total_visits_online=%{z}<extra></extra>",
                  "legendgroup": "16",
                  "marker": {
                    "color": "#19D3F3",
                    "opacity": 1,
                    "size": 2,
                    "symbol": "circle"
                  },
                  "mode": "markers",
                  "name": "16",
                  "scene": "scene",
                  "showlegend": true,
                  "type": "scatter3d",
                  "x": [
                    0.3333333333333333,
                    0,
                    1,
                    0.1111111111111111,
                    0.1111111111111111,
                    0.2222222222222222,
                    1
                  ],
                  "y": [
                    0.4,
                    0.2,
                    0.2,
                    0,
                    0,
                    0.2,
                    0.2
                  ],
                  "z": [
                    0.26666666666666666,
                    0.26666666666666666,
                    0.4666666666666667,
                    0.26666666666666666,
                    0.2,
                    0.3333333333333333,
                    0.5333333333333333
                  ]
                },
                {
                  "hovertemplate": "color=17<br>Total_Credit_Cards=%{x}<br>Total_visits_bank=%{y}<br>Total_visits_online=%{z}<extra></extra>",
                  "legendgroup": "17",
                  "marker": {
                    "color": "#FF6692",
                    "opacity": 1,
                    "size": 2,
                    "symbol": "circle"
                  },
                  "mode": "markers",
                  "name": "17",
                  "scene": "scene",
                  "showlegend": true,
                  "type": "scatter3d",
                  "x": [
                    0,
                    0.3333333333333333,
                    0,
                    0.7777777777777778,
                    0.3333333333333333,
                    0.2222222222222222
                  ],
                  "y": [
                    0.4,
                    0.4,
                    0.2,
                    0,
                    0.2,
                    0
                  ],
                  "z": [
                    0.13333333333333333,
                    0.3333333333333333,
                    0.26666666666666666,
                    1,
                    0.26666666666666666,
                    0.26666666666666666
                  ]
                },
                {
                  "hovertemplate": "color=18<br>Total_Credit_Cards=%{x}<br>Total_visits_bank=%{y}<br>Total_visits_online=%{z}<extra></extra>",
                  "legendgroup": "18",
                  "marker": {
                    "color": "#B6E880",
                    "opacity": 1,
                    "size": 2,
                    "symbol": "circle"
                  },
                  "mode": "markers",
                  "name": "18",
                  "scene": "scene",
                  "showlegend": true,
                  "type": "scatter3d",
                  "x": [
                    0.2222222222222222,
                    0.3333333333333333,
                    0.2222222222222222,
                    0.3333333333333333,
                    0.2222222222222222,
                    0
                  ],
                  "y": [
                    0,
                    0.2,
                    0.4,
                    0,
                    0.2,
                    0.4
                  ],
                  "z": [
                    0.06666666666666667,
                    0.26666666666666666,
                    0.13333333333333333,
                    0.13333333333333333,
                    0.3333333333333333,
                    0.13333333333333333
                  ]
                },
                {
                  "hovertemplate": "color=19<br>Total_Credit_Cards=%{x}<br>Total_visits_bank=%{y}<br>Total_visits_online=%{z}<extra></extra>",
                  "legendgroup": "19",
                  "marker": {
                    "color": "#FF97FF",
                    "opacity": 1,
                    "size": 2,
                    "symbol": "circle"
                  },
                  "mode": "markers",
                  "name": "19",
                  "scene": "scene",
                  "showlegend": true,
                  "type": "scatter3d",
                  "x": [
                    0,
                    0,
                    0,
                    0.1111111111111111,
                    0.2222222222222222,
                    0.1111111111111111,
                    0,
                    0.3333333333333333,
                    0.2222222222222222,
                    0.4444444444444444,
                    0.3333333333333333
                  ],
                  "y": [
                    0,
                    0.4,
                    0.2,
                    0.4,
                    0.2,
                    0.4,
                    0,
                    0.4,
                    0,
                    0,
                    0.2
                  ],
                  "z": [
                    0.3333333333333333,
                    0.13333333333333333,
                    0.3333333333333333,
                    0.13333333333333333,
                    0.26666666666666666,
                    0.26666666666666666,
                    0.13333333333333333,
                    0.2,
                    0.3333333333333333,
                    0.7333333333333333,
                    0.3333333333333333
                  ]
                },
                {
                  "hovertemplate": "color=20<br>Total_Credit_Cards=%{x}<br>Total_visits_bank=%{y}<br>Total_visits_online=%{z}<extra></extra>",
                  "legendgroup": "20",
                  "marker": {
                    "color": "#FECB52",
                    "opacity": 1,
                    "size": 2,
                    "symbol": "circle"
                  },
                  "mode": "markers",
                  "name": "20",
                  "scene": "scene",
                  "showlegend": true,
                  "type": "scatter3d",
                  "x": [
                    0.5555555555555556,
                    0.3333333333333333,
                    0.5555555555555556,
                    0.1111111111111111,
                    0.5555555555555556,
                    0.4444444444444444,
                    0.3333333333333333,
                    0.3333333333333333
                  ],
                  "y": [
                    0.6,
                    1,
                    0.4,
                    0.2,
                    0,
                    0.8,
                    0.4,
                    1
                  ],
                  "z": [
                    0.13333333333333333,
                    0,
                    0.06666666666666667,
                    0.26666666666666666,
                    0.8,
                    0.13333333333333333,
                    0,
                    0
                  ]
                },
                {
                  "hovertemplate": "color=21<br>Total_Credit_Cards=%{x}<br>Total_visits_bank=%{y}<br>Total_visits_online=%{z}<extra></extra>",
                  "legendgroup": "21",
                  "marker": {
                    "color": "black",
                    "opacity": 1,
                    "size": 2,
                    "symbol": "circle"
                  },
                  "mode": "markers",
                  "name": "21",
                  "scene": "scene",
                  "showlegend": true,
                  "type": "scatter3d",
                  "x": [
                    0.2222222222222222,
                    0,
                    0,
                    0.2222222222222222,
                    0,
                    0,
                    0
                  ],
                  "y": [
                    0.2,
                    0,
                    0.2,
                    0.4,
                    0,
                    0.2,
                    0.4
                  ],
                  "z": [
                    0.3333333333333333,
                    0.13333333333333333,
                    0.26666666666666666,
                    0.3333333333333333,
                    0.13333333333333333,
                    0.13333333333333333,
                    0.13333333333333333
                  ]
                },
                {
                  "hovertemplate": "color=22<br>Total_Credit_Cards=%{x}<br>Total_visits_bank=%{y}<br>Total_visits_online=%{z}<extra></extra>",
                  "legendgroup": "22",
                  "marker": {
                    "color": "#636EFA",
                    "opacity": 1,
                    "size": 2,
                    "symbol": "circle"
                  },
                  "mode": "markers",
                  "name": "22",
                  "scene": "scene",
                  "showlegend": true,
                  "type": "scatter3d",
                  "x": [
                    0.3333333333333333,
                    0.3333333333333333,
                    0.3333333333333333,
                    0.2222222222222222,
                    0.1111111111111111,
                    0
                  ],
                  "y": [
                    0.4,
                    0.2,
                    0.4,
                    0.4,
                    0,
                    0.4
                  ],
                  "z": [
                    0.26666666666666666,
                    0.26666666666666666,
                    0.13333333333333333,
                    0.13333333333333333,
                    0.26666666666666666,
                    0.13333333333333333
                  ]
                },
                {
                  "hovertemplate": "color=23<br>Total_Credit_Cards=%{x}<br>Total_visits_bank=%{y}<br>Total_visits_online=%{z}<extra></extra>",
                  "legendgroup": "23",
                  "marker": {
                    "color": "#EF553B",
                    "opacity": 1,
                    "size": 2,
                    "symbol": "circle"
                  },
                  "mode": "markers",
                  "name": "23",
                  "scene": "scene",
                  "showlegend": true,
                  "type": "scatter3d",
                  "x": [
                    0,
                    0.3333333333333333,
                    0.1111111111111111,
                    0.2222222222222222,
                    0
                  ],
                  "y": [
                    0,
                    0,
                    0,
                    0.2,
                    0.4
                  ],
                  "z": [
                    0.13333333333333333,
                    0.26666666666666666,
                    0.26666666666666666,
                    0.3333333333333333,
                    0.13333333333333333
                  ]
                },
                {
                  "hovertemplate": "color=24<br>Total_Credit_Cards=%{x}<br>Total_visits_bank=%{y}<br>Total_visits_online=%{z}<extra></extra>",
                  "legendgroup": "24",
                  "marker": {
                    "color": "#00CC96",
                    "opacity": 1,
                    "size": 2,
                    "symbol": "circle"
                  },
                  "mode": "markers",
                  "name": "24",
                  "scene": "scene",
                  "showlegend": true,
                  "type": "scatter3d",
                  "x": [
                    0.4444444444444444,
                    0.4444444444444444,
                    0.5555555555555556,
                    0.3333333333333333,
                    0.2222222222222222,
                    0.3333333333333333,
                    0.6666666666666666,
                    0.6666666666666666,
                    0.6666666666666666,
                    0.3333333333333333,
                    0.3333333333333333,
                    0.4444444444444444,
                    0.6666666666666666,
                    0.6666666666666666
                  ],
                  "y": [
                    0.4,
                    0.4,
                    1,
                    0.4,
                    0,
                    0.6,
                    1,
                    0.4,
                    0.4,
                    0.8,
                    0.6,
                    0.8,
                    0.6,
                    0.8
                  ],
                  "z": [
                    0.13333333333333333,
                    0.13333333333333333,
                    0,
                    0.13333333333333333,
                    0.13333333333333333,
                    0.13333333333333333,
                    0,
                    0,
                    0,
                    0.06666666666666667,
                    0,
                    0.13333333333333333,
                    0.13333333333333333,
                    0
                  ]
                },
                {
                  "hovertemplate": "color=25<br>Total_Credit_Cards=%{x}<br>Total_visits_bank=%{y}<br>Total_visits_online=%{z}<extra></extra>",
                  "legendgroup": "25",
                  "marker": {
                    "color": "#AB63FA",
                    "opacity": 1,
                    "size": 2,
                    "symbol": "circle"
                  },
                  "mode": "markers",
                  "name": "25",
                  "scene": "scene",
                  "showlegend": true,
                  "type": "scatter3d",
                  "x": [
                    0.3333333333333333,
                    0,
                    0.6666666666666666,
                    0.4444444444444444,
                    0.6666666666666666,
                    0.5555555555555556,
                    0.6666666666666666,
                    0.5555555555555556
                  ],
                  "y": [
                    0.2,
                    0.4,
                    1,
                    1,
                    0.4,
                    1,
                    0.6,
                    0.6
                  ],
                  "z": [
                    0.2,
                    0.26666666666666666,
                    0,
                    0.06666666666666667,
                    0,
                    0.13333333333333333,
                    0.06666666666666667,
                    0
                  ]
                },
                {
                  "hovertemplate": "color=26<br>Total_Credit_Cards=%{x}<br>Total_visits_bank=%{y}<br>Total_visits_online=%{z}<extra></extra>",
                  "legendgroup": "26",
                  "marker": {
                    "color": "#FFA15A",
                    "opacity": 1,
                    "size": 2,
                    "symbol": "circle"
                  },
                  "mode": "markers",
                  "name": "26",
                  "scene": "scene",
                  "showlegend": true,
                  "type": "scatter3d",
                  "x": [
                    0.3333333333333333,
                    0.3333333333333333,
                    0.6666666666666666,
                    0.3333333333333333,
                    0.3333333333333333,
                    0.3333333333333333,
                    0.5555555555555556,
                    0,
                    0.4444444444444444,
                    0.4444444444444444,
                    0.5555555555555556,
                    0.2222222222222222,
                    0.3333333333333333,
                    0,
                    0.5555555555555556,
                    0.3333333333333333,
                    0.6666666666666666,
                    0.6666666666666666
                  ],
                  "y": [
                    1,
                    0.8,
                    0.6,
                    1,
                    1,
                    1,
                    0.4,
                    0.4,
                    0.4,
                    0.4,
                    0.8,
                    0.4,
                    1,
                    0,
                    0.6,
                    1,
                    0.4,
                    0.4
                  ],
                  "z": [
                    0.06666666666666667,
                    0,
                    0.06666666666666667,
                    0.13333333333333333,
                    0.13333333333333333,
                    0.06666666666666667,
                    0.06666666666666667,
                    0.26666666666666666,
                    0,
                    0.13333333333333333,
                    0.13333333333333333,
                    0.2,
                    0,
                    0.2,
                    0.13333333333333333,
                    0,
                    0,
                    0
                  ]
                },
                {
                  "hovertemplate": "color=27<br>Total_Credit_Cards=%{x}<br>Total_visits_bank=%{y}<br>Total_visits_online=%{z}<extra></extra>",
                  "legendgroup": "27",
                  "marker": {
                    "color": "#19D3F3",
                    "opacity": 1,
                    "size": 2,
                    "symbol": "circle"
                  },
                  "mode": "markers",
                  "name": "27",
                  "scene": "scene",
                  "showlegend": true,
                  "type": "scatter3d",
                  "x": [
                    0,
                    0.6666666666666666,
                    0.4444444444444444,
                    0.3333333333333333,
                    0.3333333333333333,
                    0.1111111111111111,
                    0.5555555555555556,
                    0.5555555555555556,
                    0.3333333333333333
                  ],
                  "y": [
                    0.4,
                    0.8,
                    0.4,
                    0.4,
                    0.8,
                    0.2,
                    0.6,
                    0.6,
                    0.8
                  ],
                  "z": [
                    0.26666666666666666,
                    0.13333333333333333,
                    0.13333333333333333,
                    0.06666666666666667,
                    0.06666666666666667,
                    0.13333333333333333,
                    0.06666666666666667,
                    0.06666666666666667,
                    0.13333333333333333
                  ]
                },
                {
                  "hovertemplate": "color=28<br>Total_Credit_Cards=%{x}<br>Total_visits_bank=%{y}<br>Total_visits_online=%{z}<extra></extra>",
                  "legendgroup": "28",
                  "marker": {
                    "color": "#FF6692",
                    "opacity": 1,
                    "size": 2,
                    "symbol": "circle"
                  },
                  "mode": "markers",
                  "name": "28",
                  "scene": "scene",
                  "showlegend": true,
                  "type": "scatter3d",
                  "x": [
                    0.3333333333333333,
                    0.4444444444444444,
                    0.5555555555555556,
                    0.5555555555555556,
                    0.3333333333333333,
                    0.5555555555555556,
                    0.3333333333333333,
                    0.6666666666666666
                  ],
                  "y": [
                    0.8,
                    0.4,
                    0.6,
                    0.4,
                    0.4,
                    0.6,
                    0.2,
                    1
                  ],
                  "z": [
                    0.13333333333333333,
                    0.13333333333333333,
                    0.06666666666666667,
                    0.13333333333333333,
                    0,
                    0.06666666666666667,
                    0.2,
                    0.13333333333333333
                  ]
                },
                {
                  "hovertemplate": "color=29<br>Total_Credit_Cards=%{x}<br>Total_visits_bank=%{y}<br>Total_visits_online=%{z}<extra></extra>",
                  "legendgroup": "29",
                  "marker": {
                    "color": "#B6E880",
                    "opacity": 1,
                    "size": 2,
                    "symbol": "circle"
                  },
                  "mode": "markers",
                  "name": "29",
                  "scene": "scene",
                  "showlegend": true,
                  "type": "scatter3d",
                  "x": [
                    0.2222222222222222,
                    0.3333333333333333,
                    0.5555555555555556,
                    0.4444444444444444,
                    0.5555555555555556,
                    0.3333333333333333,
                    0.3333333333333333,
                    0.5555555555555556
                  ],
                  "y": [
                    0,
                    1,
                    0.6,
                    0.4,
                    0.8,
                    0.2,
                    1,
                    0.4
                  ],
                  "z": [
                    0.13333333333333333,
                    0,
                    0.06666666666666667,
                    0.13333333333333333,
                    0.06666666666666667,
                    0.2,
                    0,
                    0.13333333333333333
                  ]
                },
                {
                  "hovertemplate": "color=30<br>Total_Credit_Cards=%{x}<br>Total_visits_bank=%{y}<br>Total_visits_online=%{z}<extra></extra>",
                  "legendgroup": "30",
                  "marker": {
                    "color": "#FF97FF",
                    "opacity": 1,
                    "size": 2,
                    "symbol": "circle"
                  },
                  "mode": "markers",
                  "name": "30",
                  "scene": "scene",
                  "showlegend": true,
                  "type": "scatter3d",
                  "x": [
                    0.3333333333333333,
                    0.3333333333333333,
                    0.6666666666666666,
                    0.6666666666666666,
                    0.3333333333333333,
                    0.4444444444444444,
                    0.4444444444444444,
                    0.3333333333333333,
                    0.6666666666666666,
                    0.5555555555555556,
                    0.3333333333333333
                  ],
                  "y": [
                    1,
                    0.6,
                    1,
                    0.4,
                    0.2,
                    0.8,
                    0.8,
                    0.8,
                    0.6,
                    0.4,
                    0.8
                  ],
                  "z": [
                    0.06666666666666667,
                    0,
                    0.13333333333333333,
                    0.06666666666666667,
                    0.13333333333333333,
                    0.13333333333333333,
                    0.13333333333333333,
                    0,
                    0.06666666666666667,
                    0.13333333333333333,
                    0.13333333333333333
                  ]
                },
                {
                  "hovertemplate": "color=31<br>Total_Credit_Cards=%{x}<br>Total_visits_bank=%{y}<br>Total_visits_online=%{z}<extra></extra>",
                  "legendgroup": "31",
                  "marker": {
                    "color": "#FECB52",
                    "opacity": 1,
                    "size": 2,
                    "symbol": "circle"
                  },
                  "mode": "markers",
                  "name": "31",
                  "scene": "scene",
                  "showlegend": true,
                  "type": "scatter3d",
                  "x": [
                    0.4444444444444444,
                    0.5555555555555556,
                    0.3333333333333333,
                    0.3333333333333333,
                    0.5555555555555556,
                    0.6666666666666666,
                    0.5555555555555556,
                    0.4444444444444444,
                    0.3333333333333333,
                    0.3333333333333333
                  ],
                  "y": [
                    1,
                    0.4,
                    0.4,
                    1,
                    0.4,
                    1,
                    0.6,
                    1,
                    0.8,
                    0.2
                  ],
                  "z": [
                    0.06666666666666667,
                    0.06666666666666667,
                    0.06666666666666667,
                    0.13333333333333333,
                    0.06666666666666667,
                    0,
                    0.06666666666666667,
                    0.06666666666666667,
                    0.13333333333333333,
                    0.13333333333333333
                  ]
                },
                {
                  "hovertemplate": "color=32<br>Total_Credit_Cards=%{x}<br>Total_visits_bank=%{y}<br>Total_visits_online=%{z}<extra></extra>",
                  "legendgroup": "32",
                  "marker": {
                    "color": "black",
                    "opacity": 1,
                    "size": 2,
                    "symbol": "circle"
                  },
                  "mode": "markers",
                  "name": "32",
                  "scene": "scene",
                  "showlegend": true,
                  "type": "scatter3d",
                  "x": [
                    0.6666666666666666,
                    0.3333333333333333,
                    0.5555555555555556,
                    0.5555555555555556,
                    0.3333333333333333,
                    0.2222222222222222,
                    0.4444444444444444,
                    0.5555555555555556,
                    0.6666666666666666
                  ],
                  "y": [
                    0.6,
                    0.4,
                    0.6,
                    0.4,
                    0.2,
                    0,
                    0.8,
                    0.6,
                    0.8
                  ],
                  "z": [
                    0.13333333333333333,
                    0.06666666666666667,
                    0.13333333333333333,
                    0.06666666666666667,
                    0.13333333333333333,
                    0.13333333333333333,
                    0.13333333333333333,
                    0.13333333333333333,
                    0.13333333333333333
                  ]
                },
                {
                  "hovertemplate": "color=33<br>Total_Credit_Cards=%{x}<br>Total_visits_bank=%{y}<br>Total_visits_online=%{z}<extra></extra>",
                  "legendgroup": "33",
                  "marker": {
                    "color": "#636EFA",
                    "opacity": 1,
                    "size": 2,
                    "symbol": "circle"
                  },
                  "mode": "markers",
                  "name": "33",
                  "scene": "scene",
                  "showlegend": true,
                  "type": "scatter3d",
                  "x": [
                    0.3333333333333333,
                    0.6666666666666666,
                    0.5555555555555556,
                    0.4444444444444444,
                    0.5555555555555556,
                    0.6666666666666666,
                    0.5555555555555556,
                    0.4444444444444444,
                    0.5555555555555556,
                    0.4444444444444444,
                    0.6666666666666666,
                    0.4444444444444444
                  ],
                  "y": [
                    0.2,
                    1,
                    1,
                    1,
                    0.8,
                    0.8,
                    0.6,
                    0.4,
                    0.8,
                    0.6,
                    0.4,
                    0.4
                  ],
                  "z": [
                    0.13333333333333333,
                    0.13333333333333333,
                    0.06666666666666667,
                    0.06666666666666667,
                    0.13333333333333333,
                    0,
                    0,
                    0.13333333333333333,
                    0.13333333333333333,
                    0,
                    0,
                    0
                  ]
                },
                {
                  "hovertemplate": "color=34<br>Total_Credit_Cards=%{x}<br>Total_visits_bank=%{y}<br>Total_visits_online=%{z}<extra></extra>",
                  "legendgroup": "34",
                  "marker": {
                    "color": "#EF553B",
                    "opacity": 1,
                    "size": 2,
                    "symbol": "circle"
                  },
                  "mode": "markers",
                  "name": "34",
                  "scene": "scene",
                  "showlegend": true,
                  "type": "scatter3d",
                  "x": [
                    0.6666666666666666,
                    0.5555555555555556,
                    0.4444444444444444,
                    0.6666666666666666,
                    0.6666666666666666,
                    0.3333333333333333,
                    0.5555555555555556,
                    0.1111111111111111
                  ],
                  "y": [
                    0.6,
                    0.8,
                    0.4,
                    1,
                    0.8,
                    0.8,
                    1,
                    0.2
                  ],
                  "z": [
                    0.13333333333333333,
                    0,
                    0.13333333333333333,
                    0.13333333333333333,
                    0,
                    0.06666666666666667,
                    0.13333333333333333,
                    0.26666666666666666
                  ]
                },
                {
                  "hovertemplate": "color=35<br>Total_Credit_Cards=%{x}<br>Total_visits_bank=%{y}<br>Total_visits_online=%{z}<extra></extra>",
                  "legendgroup": "35",
                  "marker": {
                    "color": "#00CC96",
                    "opacity": 1,
                    "size": 2,
                    "symbol": "circle"
                  },
                  "mode": "markers",
                  "name": "35",
                  "scene": "scene",
                  "showlegend": true,
                  "type": "scatter3d",
                  "x": [
                    0.1111111111111111,
                    0.6666666666666666,
                    0.5555555555555556,
                    0.3333333333333333,
                    0.1111111111111111
                  ],
                  "y": [
                    0.2,
                    0.8,
                    1,
                    0.8,
                    0.2
                  ],
                  "z": [
                    0.13333333333333333,
                    0.13333333333333333,
                    0.13333333333333333,
                    0.13333333333333333,
                    0.26666666666666666
                  ]
                },
                {
                  "hovertemplate": "color=36<br>Total_Credit_Cards=%{x}<br>Total_visits_bank=%{y}<br>Total_visits_online=%{z}<extra></extra>",
                  "legendgroup": "36",
                  "marker": {
                    "color": "#AB63FA",
                    "opacity": 1,
                    "size": 2,
                    "symbol": "circle"
                  },
                  "mode": "markers",
                  "name": "36",
                  "scene": "scene",
                  "showlegend": true,
                  "type": "scatter3d",
                  "x": [
                    0.3333333333333333,
                    0.3333333333333333,
                    0.1111111111111111,
                    0.5555555555555556,
                    0.6666666666666666,
                    0.6666666666666666,
                    0.3333333333333333,
                    0.5555555555555556,
                    0.6666666666666666,
                    0.5555555555555556
                  ],
                  "y": [
                    0.6,
                    0.4,
                    0.2,
                    1,
                    0.8,
                    0.8,
                    0.6,
                    0.8,
                    0.8,
                    0.6
                  ],
                  "z": [
                    0,
                    0,
                    0.26666666666666666,
                    0.06666666666666667,
                    0.13333333333333333,
                    0.13333333333333333,
                    0.13333333333333333,
                    0,
                    0,
                    0
                  ]
                },
                {
                  "hovertemplate": "color=37<br>Total_Credit_Cards=%{x}<br>Total_visits_bank=%{y}<br>Total_visits_online=%{z}<extra></extra>",
                  "legendgroup": "37",
                  "marker": {
                    "color": "#FFA15A",
                    "opacity": 1,
                    "size": 2,
                    "symbol": "circle"
                  },
                  "mode": "markers",
                  "name": "37",
                  "scene": "scene",
                  "showlegend": true,
                  "type": "scatter3d",
                  "x": [
                    0.5555555555555556,
                    0.3333333333333333,
                    0.6666666666666666,
                    0.4444444444444444,
                    0.5555555555555556,
                    0.5555555555555556,
                    0.6666666666666666,
                    0.1111111111111111,
                    0.3333333333333333,
                    0.3333333333333333,
                    0.2222222222222222
                  ],
                  "y": [
                    1,
                    1,
                    0.8,
                    1,
                    0.8,
                    0.4,
                    0.4,
                    0.2,
                    0.8,
                    0.6,
                    0.4
                  ],
                  "z": [
                    0.13333333333333333,
                    0,
                    0,
                    0.13333333333333333,
                    0,
                    0.06666666666666667,
                    0.06666666666666667,
                    0.13333333333333333,
                    0.13333333333333333,
                    0.13333333333333333,
                    0.2
                  ]
                },
                {
                  "hovertemplate": "color=38<br>Total_Credit_Cards=%{x}<br>Total_visits_bank=%{y}<br>Total_visits_online=%{z}<extra></extra>",
                  "legendgroup": "38",
                  "marker": {
                    "color": "#19D3F3",
                    "opacity": 1,
                    "size": 2,
                    "symbol": "circle"
                  },
                  "mode": "markers",
                  "name": "38",
                  "scene": "scene",
                  "showlegend": true,
                  "type": "scatter3d",
                  "x": [
                    0.5555555555555556,
                    0.5555555555555556,
                    0.2222222222222222,
                    0.3333333333333333,
                    0.6666666666666666,
                    0.4444444444444444,
                    0.6666666666666666,
                    0.3333333333333333,
                    0.5555555555555556,
                    0.5555555555555556
                  ],
                  "y": [
                    0.4,
                    0.6,
                    0.4,
                    0.6,
                    0.4,
                    1,
                    0.8,
                    0.4,
                    0.8,
                    1
                  ],
                  "z": [
                    0.06666666666666667,
                    0.06666666666666667,
                    0.2,
                    0.13333333333333333,
                    0.06666666666666667,
                    0.06666666666666667,
                    0,
                    0,
                    0.13333333333333333,
                    0.06666666666666667
                  ]
                },
                {
                  "hovertemplate": "color=39<br>Total_Credit_Cards=%{x}<br>Total_visits_bank=%{y}<br>Total_visits_online=%{z}<extra></extra>",
                  "legendgroup": "39",
                  "marker": {
                    "color": "#FF6692",
                    "opacity": 1,
                    "size": 2,
                    "symbol": "circle"
                  },
                  "mode": "markers",
                  "name": "39",
                  "scene": "scene",
                  "showlegend": true,
                  "type": "scatter3d",
                  "x": [
                    0.2222222222222222,
                    0.6666666666666666,
                    0.6666666666666666,
                    0.3333333333333333,
                    0.3333333333333333,
                    0.3333333333333333,
                    0.5555555555555556
                  ],
                  "y": [
                    0.4,
                    0.6,
                    0.6,
                    0.8,
                    0.6,
                    0.6,
                    1
                  ],
                  "z": [
                    0.2,
                    0.06666666666666667,
                    0.06666666666666667,
                    0.13333333333333333,
                    0.06666666666666667,
                    0,
                    0.13333333333333333
                  ]
                },
                {
                  "hovertemplate": "color=40<br>Total_Credit_Cards=%{x}<br>Total_visits_bank=%{y}<br>Total_visits_online=%{z}<extra></extra>",
                  "legendgroup": "40",
                  "marker": {
                    "color": "#B6E880",
                    "opacity": 1,
                    "size": 2,
                    "symbol": "circle"
                  },
                  "mode": "markers",
                  "name": "40",
                  "scene": "scene",
                  "showlegend": true,
                  "type": "scatter3d",
                  "x": [
                    0.5555555555555556,
                    0.3333333333333333,
                    0.3333333333333333,
                    0.6666666666666666,
                    0.1111111111111111,
                    0.5555555555555556,
                    0,
                    0.4444444444444444
                  ],
                  "y": [
                    0.6,
                    1,
                    1,
                    1,
                    0,
                    0.8,
                    0,
                    0.8
                  ],
                  "z": [
                    0.06666666666666667,
                    0,
                    0,
                    0,
                    0.3333333333333333,
                    0.06666666666666667,
                    0.2,
                    0.06666666666666667
                  ]
                },
                {
                  "hovertemplate": "color=41<br>Total_Credit_Cards=%{x}<br>Total_visits_bank=%{y}<br>Total_visits_online=%{z}<extra></extra>",
                  "legendgroup": "41",
                  "marker": {
                    "color": "#FF97FF",
                    "opacity": 1,
                    "size": 2,
                    "symbol": "circle"
                  },
                  "mode": "markers",
                  "name": "41",
                  "scene": "scene",
                  "showlegend": true,
                  "type": "scatter3d",
                  "x": [
                    0.5555555555555556,
                    0.3333333333333333,
                    0.3333333333333333,
                    0.6666666666666666,
                    0.4444444444444444,
                    0.1111111111111111,
                    0.4444444444444444,
                    0.3333333333333333,
                    0.4444444444444444
                  ],
                  "y": [
                    0.8,
                    0.8,
                    1,
                    1,
                    0.4,
                    0,
                    0.4,
                    1,
                    0.4
                  ],
                  "z": [
                    0.06666666666666667,
                    0.06666666666666667,
                    0.13333333333333333,
                    0.13333333333333333,
                    0.13333333333333333,
                    0.3333333333333333,
                    0.06666666666666667,
                    0,
                    0.06666666666666667
                  ]
                },
                {
                  "hovertemplate": "color=42<br>Total_Credit_Cards=%{x}<br>Total_visits_bank=%{y}<br>Total_visits_online=%{z}<extra></extra>",
                  "legendgroup": "42",
                  "marker": {
                    "color": "#FECB52",
                    "opacity": 1,
                    "size": 2,
                    "symbol": "circle"
                  },
                  "mode": "markers",
                  "name": "42",
                  "scene": "scene",
                  "showlegend": true,
                  "type": "scatter3d",
                  "x": [
                    0.3333333333333333,
                    0.3333333333333333,
                    0.6666666666666666,
                    0.4444444444444444,
                    0.3333333333333333,
                    0.5555555555555556,
                    0.4444444444444444,
                    0.3333333333333333,
                    0.5555555555555556,
                    0.5555555555555556,
                    0.6666666666666666,
                    0.6666666666666666,
                    0.5555555555555556,
                    0.1111111111111111,
                    0.1111111111111111,
                    0.5555555555555556,
                    0.5555555555555556
                  ],
                  "y": [
                    0.4,
                    1,
                    0.4,
                    0.8,
                    0.8,
                    1,
                    0.4,
                    1,
                    1,
                    1,
                    0.4,
                    0.4,
                    0.6,
                    0,
                    0.4,
                    1,
                    0.8
                  ],
                  "z": [
                    0.06666666666666667,
                    0,
                    0,
                    0.06666666666666667,
                    0.06666666666666667,
                    0.13333333333333333,
                    0.13333333333333333,
                    0,
                    0,
                    0.06666666666666667,
                    0,
                    0.06666666666666667,
                    0.13333333333333333,
                    0.3333333333333333,
                    0.3333333333333333,
                    0.06666666666666667,
                    0.13333333333333333
                  ]
                },
                {
                  "hovertemplate": "color=43<br>Total_Credit_Cards=%{x}<br>Total_visits_bank=%{y}<br>Total_visits_online=%{z}<extra></extra>",
                  "legendgroup": "43",
                  "marker": {
                    "color": "black",
                    "opacity": 1,
                    "size": 2,
                    "symbol": "circle"
                  },
                  "mode": "markers",
                  "name": "43",
                  "scene": "scene",
                  "showlegend": true,
                  "type": "scatter3d",
                  "x": [
                    0.4444444444444444,
                    0.6666666666666666,
                    0.5555555555555556,
                    0.5555555555555556,
                    0.5555555555555556,
                    0.6666666666666666,
                    0.6666666666666666,
                    0.6666666666666666,
                    0,
                    0.4444444444444444,
                    0.5555555555555556,
                    0.6666666666666666,
                    0.5555555555555556,
                    0.5555555555555556,
                    0.5555555555555556,
                    0.4444444444444444,
                    0.3333333333333333
                  ],
                  "y": [
                    0.8,
                    0.4,
                    1,
                    0.4,
                    1,
                    0.6,
                    1,
                    1,
                    0,
                    0.4,
                    0.6,
                    0.4,
                    0.6,
                    0.6,
                    0.6,
                    1,
                    0.6
                  ],
                  "z": [
                    0.06666666666666667,
                    0,
                    0,
                    0.13333333333333333,
                    0,
                    0.13333333333333333,
                    0.13333333333333333,
                    0,
                    0.2,
                    0.13333333333333333,
                    0,
                    0.06666666666666667,
                    0.06666666666666667,
                    0.06666666666666667,
                    0.13333333333333333,
                    0.13333333333333333,
                    0
                  ]
                },
                {
                  "hovertemplate": "color=44<br>Total_Credit_Cards=%{x}<br>Total_visits_bank=%{y}<br>Total_visits_online=%{z}<extra></extra>",
                  "legendgroup": "44",
                  "marker": {
                    "color": "#636EFA",
                    "opacity": 1,
                    "size": 2,
                    "symbol": "circle"
                  },
                  "mode": "markers",
                  "name": "44",
                  "scene": "scene",
                  "showlegend": true,
                  "type": "scatter3d",
                  "x": [
                    0.3333333333333333,
                    0,
                    0.1111111111111111,
                    0.3333333333333333,
                    0.4444444444444444,
                    0.6666666666666666,
                    0.5555555555555556,
                    0
                  ],
                  "y": [
                    0.4,
                    0,
                    0.4,
                    0.6,
                    0.6,
                    0.6,
                    0.6,
                    0
                  ],
                  "z": [
                    0.06666666666666667,
                    0.2,
                    0.3333333333333333,
                    0.06666666666666667,
                    0,
                    0.06666666666666667,
                    0.06666666666666667,
                    0.2
                  ]
                },
                {
                  "hovertemplate": "color=45<br>Total_Credit_Cards=%{x}<br>Total_visits_bank=%{y}<br>Total_visits_online=%{z}<extra></extra>",
                  "legendgroup": "45",
                  "marker": {
                    "color": "#EF553B",
                    "opacity": 1,
                    "size": 2,
                    "symbol": "circle"
                  },
                  "mode": "markers",
                  "name": "45",
                  "scene": "scene",
                  "showlegend": true,
                  "type": "scatter3d",
                  "x": [
                    0.6666666666666666,
                    0.3333333333333333,
                    0.5555555555555556,
                    0,
                    0.3333333333333333
                  ],
                  "y": [
                    0.4,
                    1,
                    0.6,
                    0,
                    0.8
                  ],
                  "z": [
                    0,
                    0,
                    0.06666666666666667,
                    0.2,
                    0
                  ]
                },
                {
                  "hovertemplate": "color=46<br>Total_Credit_Cards=%{x}<br>Total_visits_bank=%{y}<br>Total_visits_online=%{z}<extra></extra>",
                  "legendgroup": "46",
                  "marker": {
                    "color": "#00CC96",
                    "opacity": 1,
                    "size": 2,
                    "symbol": "circle"
                  },
                  "mode": "markers",
                  "name": "46",
                  "scene": "scene",
                  "showlegend": true,
                  "type": "scatter3d",
                  "x": [
                    0.4444444444444444,
                    0.1111111111111111,
                    0.6666666666666666,
                    0.3333333333333333,
                    0.1111111111111111,
                    0.5555555555555556,
                    0.6666666666666666
                  ],
                  "y": [
                    1,
                    0.4,
                    1,
                    0.4,
                    0.2,
                    0.6,
                    0.8
                  ],
                  "z": [
                    0.13333333333333333,
                    0.2,
                    0,
                    0.06666666666666667,
                    0.13333333333333333,
                    0,
                    0.13333333333333333
                  ]
                },
                {
                  "hovertemplate": "color=47<br>Total_Credit_Cards=%{x}<br>Total_visits_bank=%{y}<br>Total_visits_online=%{z}<extra></extra>",
                  "legendgroup": "47",
                  "marker": {
                    "color": "#AB63FA",
                    "opacity": 1,
                    "size": 2,
                    "symbol": "circle"
                  },
                  "mode": "markers",
                  "name": "47",
                  "scene": "scene",
                  "showlegend": true,
                  "type": "scatter3d",
                  "x": [
                    0.1111111111111111,
                    0.3333333333333333,
                    0.3333333333333333,
                    0.6666666666666666,
                    0.5555555555555556,
                    0.6666666666666666
                  ],
                  "y": [
                    0.4,
                    0.6,
                    0.6,
                    0.6,
                    0.8,
                    0.6
                  ],
                  "z": [
                    0.2,
                    0,
                    0,
                    0.13333333333333333,
                    0.13333333333333333,
                    0.06666666666666667
                  ]
                },
                {
                  "hovertemplate": "color=48<br>Total_Credit_Cards=%{x}<br>Total_visits_bank=%{y}<br>Total_visits_online=%{z}<extra></extra>",
                  "legendgroup": "48",
                  "marker": {
                    "color": "#FFA15A",
                    "opacity": 1,
                    "size": 2,
                    "symbol": "circle"
                  },
                  "mode": "markers",
                  "name": "48",
                  "scene": "scene",
                  "showlegend": true,
                  "type": "scatter3d",
                  "x": [
                    0.5555555555555556,
                    0.3333333333333333,
                    0.5555555555555556,
                    0.1111111111111111,
                    0.4444444444444444,
                    0.6666666666666666
                  ],
                  "y": [
                    1,
                    0.8,
                    1,
                    0.4,
                    0.4,
                    0.6
                  ],
                  "z": [
                    0.13333333333333333,
                    0.13333333333333333,
                    0,
                    0.2,
                    0,
                    0.13333333333333333
                  ]
                },
                {
                  "hovertemplate": "color=49<br>Total_Credit_Cards=%{x}<br>Total_visits_bank=%{y}<br>Total_visits_online=%{z}<extra></extra>",
                  "legendgroup": "49",
                  "marker": {
                    "color": "#19D3F3",
                    "opacity": 1,
                    "size": 2,
                    "symbol": "circle"
                  },
                  "mode": "markers",
                  "name": "49",
                  "scene": "scene",
                  "showlegend": true,
                  "type": "scatter3d",
                  "x": [
                    0.4444444444444444,
                    0.1111111111111111,
                    0.5555555555555556,
                    0.6666666666666666,
                    0.5555555555555556,
                    0.4444444444444444,
                    0.3333333333333333,
                    0.3333333333333333
                  ],
                  "y": [
                    0.4,
                    0.4,
                    0.4,
                    1,
                    0.6,
                    0.4,
                    1,
                    0.6
                  ],
                  "z": [
                    0,
                    0.2,
                    0.06666666666666667,
                    0.13333333333333333,
                    0.06666666666666667,
                    0.13333333333333333,
                    0.06666666666666667,
                    0.13333333333333333
                  ]
                },
                {
                  "hovertemplate": "color=50<br>Total_Credit_Cards=%{x}<br>Total_visits_bank=%{y}<br>Total_visits_online=%{z}<extra></extra>",
                  "legendgroup": "50",
                  "marker": {
                    "color": "#FF6692",
                    "opacity": 1,
                    "size": 2,
                    "symbol": "circle"
                  },
                  "mode": "markers",
                  "name": "50",
                  "scene": "scene",
                  "showlegend": true,
                  "type": "scatter3d",
                  "x": [
                    0.5555555555555556,
                    0.1111111111111111,
                    0.6666666666666666,
                    0.5555555555555556,
                    0.4444444444444444,
                    0.6666666666666666,
                    0.4444444444444444,
                    0.3333333333333333
                  ],
                  "y": [
                    1,
                    0.4,
                    0.4,
                    1,
                    0.8,
                    0.8,
                    0.4,
                    0.8
                  ],
                  "z": [
                    0,
                    0.2,
                    0,
                    0.13333333333333333,
                    0.06666666666666667,
                    0,
                    0,
                    0.13333333333333333
                  ]
                },
                {
                  "hovertemplate": "color=51<br>Total_Credit_Cards=%{x}<br>Total_visits_bank=%{y}<br>Total_visits_online=%{z}<extra></extra>",
                  "legendgroup": "51",
                  "marker": {
                    "color": "#B6E880",
                    "opacity": 1,
                    "size": 2,
                    "symbol": "circle"
                  },
                  "mode": "markers",
                  "name": "51",
                  "scene": "scene",
                  "showlegend": true,
                  "type": "scatter3d",
                  "x": [
                    0.5555555555555556,
                    0.5555555555555556,
                    0.5555555555555556,
                    0.5555555555555556,
                    0.1111111111111111,
                    0.3333333333333333,
                    0.3333333333333333,
                    0.5555555555555556,
                    0.6666666666666666,
                    0.5555555555555556,
                    0.3333333333333333
                  ],
                  "y": [
                    1,
                    0.8,
                    0.8,
                    0.6,
                    0.4,
                    0.8,
                    0.6,
                    0.8,
                    1,
                    0.4,
                    0.4
                  ],
                  "z": [
                    0.06666666666666667,
                    0,
                    0,
                    0.13333333333333333,
                    0.2,
                    0.13333333333333333,
                    0,
                    0.13333333333333333,
                    0,
                    0.13333333333333333,
                    0
                  ]
                },
                {
                  "hovertemplate": "color=52<br>Total_Credit_Cards=%{x}<br>Total_visits_bank=%{y}<br>Total_visits_online=%{z}<extra></extra>",
                  "legendgroup": "52",
                  "marker": {
                    "color": "#FF97FF",
                    "opacity": 1,
                    "size": 2,
                    "symbol": "circle"
                  },
                  "mode": "markers",
                  "name": "52",
                  "scene": "scene",
                  "showlegend": true,
                  "type": "scatter3d",
                  "x": [
                    0.6666666666666666,
                    0.6666666666666666,
                    0.6666666666666666,
                    0.2222222222222222,
                    0.5555555555555556,
                    0.4444444444444444,
                    0.1111111111111111
                  ],
                  "y": [
                    0.6,
                    1,
                    1,
                    0,
                    0.6,
                    0.8,
                    0.4
                  ],
                  "z": [
                    0.13333333333333333,
                    0.13333333333333333,
                    0,
                    0.13333333333333333,
                    0.06666666666666667,
                    0.06666666666666667,
                    0.3333333333333333
                  ]
                },
                {
                  "hovertemplate": "color=53<br>Total_Credit_Cards=%{x}<br>Total_visits_bank=%{y}<br>Total_visits_online=%{z}<extra></extra>",
                  "legendgroup": "53",
                  "marker": {
                    "color": "#FECB52",
                    "opacity": 1,
                    "size": 2,
                    "symbol": "circle"
                  },
                  "mode": "markers",
                  "name": "53",
                  "scene": "scene",
                  "showlegend": true,
                  "type": "scatter3d",
                  "x": [
                    0.6666666666666666,
                    0.6666666666666666,
                    0.3333333333333333,
                    0.2222222222222222,
                    0.3333333333333333
                  ],
                  "y": [
                    0.4,
                    1,
                    0.6,
                    0,
                    1
                  ],
                  "z": [
                    0,
                    0,
                    0,
                    0.13333333333333333,
                    0
                  ]
                },
                {
                  "hovertemplate": "color=54<br>Total_Credit_Cards=%{x}<br>Total_visits_bank=%{y}<br>Total_visits_online=%{z}<extra></extra>",
                  "legendgroup": "54",
                  "marker": {
                    "color": "black",
                    "opacity": 1,
                    "size": 2,
                    "symbol": "circle"
                  },
                  "mode": "markers",
                  "name": "54",
                  "scene": "scene",
                  "showlegend": true,
                  "type": "scatter3d",
                  "x": [
                    0.3333333333333333,
                    0.3333333333333333,
                    0.4444444444444444,
                    0.3333333333333333,
                    0.3333333333333333,
                    0.1111111111111111
                  ],
                  "y": [
                    0.8,
                    0.8,
                    0.6,
                    0.6,
                    0.8,
                    0.4
                  ],
                  "z": [
                    0.06666666666666667,
                    0.13333333333333333,
                    0,
                    0.13333333333333333,
                    0,
                    0.3333333333333333
                  ]
                },
                {
                  "hovertemplate": "color=55<br>Total_Credit_Cards=%{x}<br>Total_visits_bank=%{y}<br>Total_visits_online=%{z}<extra></extra>",
                  "legendgroup": "55",
                  "marker": {
                    "color": "#636EFA",
                    "opacity": 1,
                    "size": 2,
                    "symbol": "circle"
                  },
                  "mode": "markers",
                  "name": "55",
                  "scene": "scene",
                  "showlegend": true,
                  "type": "scatter3d",
                  "x": [
                    0.5555555555555556,
                    0.6666666666666666,
                    0.6666666666666666,
                    0.5555555555555556,
                    0.3333333333333333,
                    0.3333333333333333,
                    0.5555555555555556,
                    0.5555555555555556,
                    0.4444444444444444,
                    0.3333333333333333,
                    0.3333333333333333
                  ],
                  "y": [
                    1,
                    0.4,
                    0.8,
                    1,
                    0.8,
                    0.6,
                    0.8,
                    0.8,
                    1,
                    0.6,
                    0.4
                  ],
                  "z": [
                    0.06666666666666667,
                    0.06666666666666667,
                    0.13333333333333333,
                    0.13333333333333333,
                    0,
                    0.06666666666666667,
                    0,
                    0.13333333333333333,
                    0.06666666666666667,
                    0,
                    0
                  ]
                },
                {
                  "hovertemplate": "color=56<br>Total_Credit_Cards=%{x}<br>Total_visits_bank=%{y}<br>Total_visits_online=%{z}<extra></extra>",
                  "legendgroup": "56",
                  "marker": {
                    "color": "#EF553B",
                    "opacity": 1,
                    "size": 2,
                    "symbol": "circle"
                  },
                  "mode": "markers",
                  "name": "56",
                  "scene": "scene",
                  "showlegend": true,
                  "type": "scatter3d",
                  "x": [
                    0.3333333333333333,
                    0.6666666666666666,
                    0.4444444444444444,
                    0.3333333333333333,
                    0.5555555555555556,
                    0.5555555555555556,
                    0.3333333333333333
                  ],
                  "y": [
                    1,
                    0.4,
                    0.4,
                    0.6,
                    1,
                    1,
                    0.4
                  ],
                  "z": [
                    0.06666666666666667,
                    0.06666666666666667,
                    0,
                    0.13333333333333333,
                    0.13333333333333333,
                    0.13333333333333333,
                    0.06666666666666667
                  ]
                },
                {
                  "hovertemplate": "color=57<br>Total_Credit_Cards=%{x}<br>Total_visits_bank=%{y}<br>Total_visits_online=%{z}<extra></extra>",
                  "legendgroup": "57",
                  "marker": {
                    "color": "#00CC96",
                    "opacity": 1,
                    "size": 2,
                    "symbol": "circle"
                  },
                  "mode": "markers",
                  "name": "57",
                  "scene": "scene",
                  "showlegend": true,
                  "type": "scatter3d",
                  "x": [
                    0.5555555555555556,
                    0.5555555555555556,
                    0.5555555555555556,
                    0.3333333333333333,
                    0.4444444444444444,
                    0.4444444444444444,
                    0.4444444444444444,
                    0.5555555555555556,
                    0.6666666666666666,
                    0.6666666666666666,
                    0.5555555555555556,
                    0.4444444444444444,
                    0.4444444444444444
                  ],
                  "y": [
                    1,
                    1,
                    1,
                    1,
                    0.8,
                    0.8,
                    0.8,
                    1,
                    0.8,
                    1,
                    1,
                    0.6,
                    0.8
                  ],
                  "z": [
                    0.13333333333333333,
                    0.13333333333333333,
                    0.06666666666666667,
                    0,
                    0.06666666666666667,
                    0.06666666666666667,
                    0.06666666666666667,
                    0,
                    0,
                    0.13333333333333333,
                    0.13333333333333333,
                    0,
                    0.13333333333333333
                  ]
                },
                {
                  "hovertemplate": "color=58<br>Total_Credit_Cards=%{x}<br>Total_visits_bank=%{y}<br>Total_visits_online=%{z}<extra></extra>",
                  "legendgroup": "58",
                  "marker": {
                    "color": "#AB63FA",
                    "opacity": 1,
                    "size": 2,
                    "symbol": "circle"
                  },
                  "mode": "markers",
                  "name": "58",
                  "scene": "scene",
                  "showlegend": true,
                  "type": "scatter3d",
                  "x": [
                    0.3333333333333333,
                    0.6666666666666666,
                    0.6666666666666666,
                    0.6666666666666666,
                    0.3333333333333333,
                    0.3333333333333333,
                    0.3333333333333333,
                    0.6666666666666666
                  ],
                  "y": [
                    0.4,
                    1,
                    0.8,
                    0.8,
                    0.8,
                    1,
                    1,
                    0.6
                  ],
                  "z": [
                    0,
                    0.13333333333333333,
                    0.13333333333333333,
                    0,
                    0.06666666666666667,
                    0,
                    0,
                    0.06666666666666667
                  ]
                },
                {
                  "hovertemplate": "color=59<br>Total_Credit_Cards=%{x}<br>Total_visits_bank=%{y}<br>Total_visits_online=%{z}<extra></extra>",
                  "legendgroup": "59",
                  "marker": {
                    "color": "#FFA15A",
                    "opacity": 1,
                    "size": 2,
                    "symbol": "circle"
                  },
                  "mode": "markers",
                  "name": "59",
                  "scene": "scene",
                  "showlegend": true,
                  "type": "scatter3d",
                  "x": [
                    0.3333333333333333,
                    0.3333333333333333,
                    0.3333333333333333,
                    0.5555555555555556,
                    0.6666666666666666,
                    0.6666666666666666
                  ],
                  "y": [
                    0.6,
                    0.6,
                    1,
                    0.8,
                    0.6,
                    0.8
                  ],
                  "z": [
                    0.13333333333333333,
                    0.06666666666666667,
                    0,
                    0,
                    0.13333333333333333,
                    0
                  ]
                },
                {
                  "hovertemplate": "color=60<br>Total_Credit_Cards=%{x}<br>Total_visits_bank=%{y}<br>Total_visits_online=%{z}<extra></extra>",
                  "legendgroup": "60",
                  "marker": {
                    "color": "#19D3F3",
                    "opacity": 1,
                    "size": 2,
                    "symbol": "circle"
                  },
                  "mode": "markers",
                  "name": "60",
                  "scene": "scene",
                  "showlegend": true,
                  "type": "scatter3d",
                  "x": [
                    0.5555555555555556,
                    0.5555555555555556,
                    0.6666666666666666,
                    0.4444444444444444,
                    0.5555555555555556,
                    0.4444444444444444,
                    0.5555555555555556,
                    0.5555555555555556,
                    0.5555555555555556,
                    0.6666666666666666
                  ],
                  "y": [
                    0.6,
                    1,
                    0.8,
                    0.4,
                    1,
                    0.6,
                    1,
                    0.8,
                    0.6,
                    0.6
                  ],
                  "z": [
                    0.06666666666666667,
                    0.13333333333333333,
                    0,
                    0.06666666666666667,
                    0.13333333333333333,
                    0,
                    0,
                    0.13333333333333333,
                    0.13333333333333333,
                    0.13333333333333333
                  ]
                },
                {
                  "hovertemplate": "color=61<br>Total_Credit_Cards=%{x}<br>Total_visits_bank=%{y}<br>Total_visits_online=%{z}<extra></extra>",
                  "legendgroup": "61",
                  "marker": {
                    "color": "#FF6692",
                    "opacity": 1,
                    "size": 2,
                    "symbol": "circle"
                  },
                  "mode": "markers",
                  "name": "61",
                  "scene": "scene",
                  "showlegend": true,
                  "type": "scatter3d",
                  "x": [
                    0.3333333333333333,
                    0.3333333333333333,
                    0.3333333333333333,
                    0.3333333333333333,
                    0.5555555555555556,
                    0.3333333333333333,
                    0.4444444444444444
                  ],
                  "y": [
                    0.6,
                    0.8,
                    0.6,
                    0.6,
                    0.4,
                    0.8,
                    0.4
                  ],
                  "z": [
                    0.13333333333333333,
                    0,
                    0.06666666666666667,
                    0.13333333333333333,
                    0.13333333333333333,
                    0.13333333333333333,
                    0
                  ]
                }
              ],
              "layout": {
                "height": 900,
                "legend": {
                  "orientation": "h",
                  "title": {
                    "text": "color"
                  },
                  "tracegroupgap": 0,
                  "x": 0.1,
                  "xanchor": "left",
                  "y": 0.04,
                  "yanchor": "bottom"
                },
                "margin": {
                  "b": 0,
                  "l": 0,
                  "r": 0,
                  "t": 0
                },
                "scene": {
                  "camera": {
                    "center": {
                      "x": 0,
                      "y": 0,
                      "z": -0.2
                    },
                    "eye": {
                      "x": 1.5,
                      "y": 1.5,
                      "z": 0.5
                    },
                    "up": {
                      "x": 0,
                      "y": 0,
                      "z": 1
                    }
                  },
                  "domain": {
                    "x": [
                      0,
                      1
                    ],
                    "y": [
                      0,
                      1
                    ]
                  },
                  "xaxis": {
                    "backgroundcolor": "white",
                    "color": "black",
                    "gridcolor": "#f0f0f0",
                    "tickfont": {
                      "size": 10
                    },
                    "title": {
                      "font": {
                        "size": 10
                      },
                      "text": "Total_Credit_Cards"
                    }
                  },
                  "yaxis": {
                    "backgroundcolor": "white",
                    "color": "black",
                    "gridcolor": "#f0f0f0",
                    "tickfont": {
                      "size": 10
                    },
                    "title": {
                      "font": {
                        "size": 10
                      },
                      "text": "Total_visits_bank"
                    }
                  },
                  "zaxis": {
                    "backgroundcolor": "lightgrey",
                    "color": "black",
                    "gridcolor": "#f0f0f0",
                    "tickfont": {
                      "size": 10
                    },
                    "title": {
                      "font": {
                        "size": 10
                      },
                      "text": "Total_visits_online"
                    }
                  }
                },
                "showlegend": true,
                "template": {
                  "data": {
                    "bar": [
                      {
                        "error_x": {
                          "color": "#2a3f5f"
                        },
                        "error_y": {
                          "color": "#2a3f5f"
                        },
                        "marker": {
                          "line": {
                            "color": "#E5ECF6",
                            "width": 0.5
                          },
                          "pattern": {
                            "fillmode": "overlay",
                            "size": 10,
                            "solidity": 0.2
                          }
                        },
                        "type": "bar"
                      }
                    ],
                    "barpolar": [
                      {
                        "marker": {
                          "line": {
                            "color": "#E5ECF6",
                            "width": 0.5
                          },
                          "pattern": {
                            "fillmode": "overlay",
                            "size": 10,
                            "solidity": 0.2
                          }
                        },
                        "type": "barpolar"
                      }
                    ],
                    "carpet": [
                      {
                        "aaxis": {
                          "endlinecolor": "#2a3f5f",
                          "gridcolor": "white",
                          "linecolor": "white",
                          "minorgridcolor": "white",
                          "startlinecolor": "#2a3f5f"
                        },
                        "baxis": {
                          "endlinecolor": "#2a3f5f",
                          "gridcolor": "white",
                          "linecolor": "white",
                          "minorgridcolor": "white",
                          "startlinecolor": "#2a3f5f"
                        },
                        "type": "carpet"
                      }
                    ],
                    "choropleth": [
                      {
                        "colorbar": {
                          "outlinewidth": 0,
                          "ticks": ""
                        },
                        "type": "choropleth"
                      }
                    ],
                    "contour": [
                      {
                        "colorbar": {
                          "outlinewidth": 0,
                          "ticks": ""
                        },
                        "colorscale": [
                          [
                            0,
                            "#0d0887"
                          ],
                          [
                            0.1111111111111111,
                            "#46039f"
                          ],
                          [
                            0.2222222222222222,
                            "#7201a8"
                          ],
                          [
                            0.3333333333333333,
                            "#9c179e"
                          ],
                          [
                            0.4444444444444444,
                            "#bd3786"
                          ],
                          [
                            0.5555555555555556,
                            "#d8576b"
                          ],
                          [
                            0.6666666666666666,
                            "#ed7953"
                          ],
                          [
                            0.7777777777777778,
                            "#fb9f3a"
                          ],
                          [
                            0.8888888888888888,
                            "#fdca26"
                          ],
                          [
                            1,
                            "#f0f921"
                          ]
                        ],
                        "type": "contour"
                      }
                    ],
                    "contourcarpet": [
                      {
                        "colorbar": {
                          "outlinewidth": 0,
                          "ticks": ""
                        },
                        "type": "contourcarpet"
                      }
                    ],
                    "heatmap": [
                      {
                        "colorbar": {
                          "outlinewidth": 0,
                          "ticks": ""
                        },
                        "colorscale": [
                          [
                            0,
                            "#0d0887"
                          ],
                          [
                            0.1111111111111111,
                            "#46039f"
                          ],
                          [
                            0.2222222222222222,
                            "#7201a8"
                          ],
                          [
                            0.3333333333333333,
                            "#9c179e"
                          ],
                          [
                            0.4444444444444444,
                            "#bd3786"
                          ],
                          [
                            0.5555555555555556,
                            "#d8576b"
                          ],
                          [
                            0.6666666666666666,
                            "#ed7953"
                          ],
                          [
                            0.7777777777777778,
                            "#fb9f3a"
                          ],
                          [
                            0.8888888888888888,
                            "#fdca26"
                          ],
                          [
                            1,
                            "#f0f921"
                          ]
                        ],
                        "type": "heatmap"
                      }
                    ],
                    "heatmapgl": [
                      {
                        "colorbar": {
                          "outlinewidth": 0,
                          "ticks": ""
                        },
                        "colorscale": [
                          [
                            0,
                            "#0d0887"
                          ],
                          [
                            0.1111111111111111,
                            "#46039f"
                          ],
                          [
                            0.2222222222222222,
                            "#7201a8"
                          ],
                          [
                            0.3333333333333333,
                            "#9c179e"
                          ],
                          [
                            0.4444444444444444,
                            "#bd3786"
                          ],
                          [
                            0.5555555555555556,
                            "#d8576b"
                          ],
                          [
                            0.6666666666666666,
                            "#ed7953"
                          ],
                          [
                            0.7777777777777778,
                            "#fb9f3a"
                          ],
                          [
                            0.8888888888888888,
                            "#fdca26"
                          ],
                          [
                            1,
                            "#f0f921"
                          ]
                        ],
                        "type": "heatmapgl"
                      }
                    ],
                    "histogram": [
                      {
                        "marker": {
                          "pattern": {
                            "fillmode": "overlay",
                            "size": 10,
                            "solidity": 0.2
                          }
                        },
                        "type": "histogram"
                      }
                    ],
                    "histogram2d": [
                      {
                        "colorbar": {
                          "outlinewidth": 0,
                          "ticks": ""
                        },
                        "colorscale": [
                          [
                            0,
                            "#0d0887"
                          ],
                          [
                            0.1111111111111111,
                            "#46039f"
                          ],
                          [
                            0.2222222222222222,
                            "#7201a8"
                          ],
                          [
                            0.3333333333333333,
                            "#9c179e"
                          ],
                          [
                            0.4444444444444444,
                            "#bd3786"
                          ],
                          [
                            0.5555555555555556,
                            "#d8576b"
                          ],
                          [
                            0.6666666666666666,
                            "#ed7953"
                          ],
                          [
                            0.7777777777777778,
                            "#fb9f3a"
                          ],
                          [
                            0.8888888888888888,
                            "#fdca26"
                          ],
                          [
                            1,
                            "#f0f921"
                          ]
                        ],
                        "type": "histogram2d"
                      }
                    ],
                    "histogram2dcontour": [
                      {
                        "colorbar": {
                          "outlinewidth": 0,
                          "ticks": ""
                        },
                        "colorscale": [
                          [
                            0,
                            "#0d0887"
                          ],
                          [
                            0.1111111111111111,
                            "#46039f"
                          ],
                          [
                            0.2222222222222222,
                            "#7201a8"
                          ],
                          [
                            0.3333333333333333,
                            "#9c179e"
                          ],
                          [
                            0.4444444444444444,
                            "#bd3786"
                          ],
                          [
                            0.5555555555555556,
                            "#d8576b"
                          ],
                          [
                            0.6666666666666666,
                            "#ed7953"
                          ],
                          [
                            0.7777777777777778,
                            "#fb9f3a"
                          ],
                          [
                            0.8888888888888888,
                            "#fdca26"
                          ],
                          [
                            1,
                            "#f0f921"
                          ]
                        ],
                        "type": "histogram2dcontour"
                      }
                    ],
                    "mesh3d": [
                      {
                        "colorbar": {
                          "outlinewidth": 0,
                          "ticks": ""
                        },
                        "type": "mesh3d"
                      }
                    ],
                    "parcoords": [
                      {
                        "line": {
                          "colorbar": {
                            "outlinewidth": 0,
                            "ticks": ""
                          }
                        },
                        "type": "parcoords"
                      }
                    ],
                    "pie": [
                      {
                        "automargin": true,
                        "type": "pie"
                      }
                    ],
                    "scatter": [
                      {
                        "marker": {
                          "colorbar": {
                            "outlinewidth": 0,
                            "ticks": ""
                          }
                        },
                        "type": "scatter"
                      }
                    ],
                    "scatter3d": [
                      {
                        "line": {
                          "colorbar": {
                            "outlinewidth": 0,
                            "ticks": ""
                          }
                        },
                        "marker": {
                          "colorbar": {
                            "outlinewidth": 0,
                            "ticks": ""
                          }
                        },
                        "type": "scatter3d"
                      }
                    ],
                    "scattercarpet": [
                      {
                        "marker": {
                          "colorbar": {
                            "outlinewidth": 0,
                            "ticks": ""
                          }
                        },
                        "type": "scattercarpet"
                      }
                    ],
                    "scattergeo": [
                      {
                        "marker": {
                          "colorbar": {
                            "outlinewidth": 0,
                            "ticks": ""
                          }
                        },
                        "type": "scattergeo"
                      }
                    ],
                    "scattergl": [
                      {
                        "marker": {
                          "colorbar": {
                            "outlinewidth": 0,
                            "ticks": ""
                          }
                        },
                        "type": "scattergl"
                      }
                    ],
                    "scattermapbox": [
                      {
                        "marker": {
                          "colorbar": {
                            "outlinewidth": 0,
                            "ticks": ""
                          }
                        },
                        "type": "scattermapbox"
                      }
                    ],
                    "scatterpolar": [
                      {
                        "marker": {
                          "colorbar": {
                            "outlinewidth": 0,
                            "ticks": ""
                          }
                        },
                        "type": "scatterpolar"
                      }
                    ],
                    "scatterpolargl": [
                      {
                        "marker": {
                          "colorbar": {
                            "outlinewidth": 0,
                            "ticks": ""
                          }
                        },
                        "type": "scatterpolargl"
                      }
                    ],
                    "scatterternary": [
                      {
                        "marker": {
                          "colorbar": {
                            "outlinewidth": 0,
                            "ticks": ""
                          }
                        },
                        "type": "scatterternary"
                      }
                    ],
                    "surface": [
                      {
                        "colorbar": {
                          "outlinewidth": 0,
                          "ticks": ""
                        },
                        "colorscale": [
                          [
                            0,
                            "#0d0887"
                          ],
                          [
                            0.1111111111111111,
                            "#46039f"
                          ],
                          [
                            0.2222222222222222,
                            "#7201a8"
                          ],
                          [
                            0.3333333333333333,
                            "#9c179e"
                          ],
                          [
                            0.4444444444444444,
                            "#bd3786"
                          ],
                          [
                            0.5555555555555556,
                            "#d8576b"
                          ],
                          [
                            0.6666666666666666,
                            "#ed7953"
                          ],
                          [
                            0.7777777777777778,
                            "#fb9f3a"
                          ],
                          [
                            0.8888888888888888,
                            "#fdca26"
                          ],
                          [
                            1,
                            "#f0f921"
                          ]
                        ],
                        "type": "surface"
                      }
                    ],
                    "table": [
                      {
                        "cells": {
                          "fill": {
                            "color": "#EBF0F8"
                          },
                          "line": {
                            "color": "white"
                          }
                        },
                        "header": {
                          "fill": {
                            "color": "#C8D4E3"
                          },
                          "line": {
                            "color": "white"
                          }
                        },
                        "type": "table"
                      }
                    ]
                  },
                  "layout": {
                    "annotationdefaults": {
                      "arrowcolor": "#2a3f5f",
                      "arrowhead": 0,
                      "arrowwidth": 1
                    },
                    "autotypenumbers": "strict",
                    "coloraxis": {
                      "colorbar": {
                        "outlinewidth": 0,
                        "ticks": ""
                      }
                    },
                    "colorscale": {
                      "diverging": [
                        [
                          0,
                          "#8e0152"
                        ],
                        [
                          0.1,
                          "#c51b7d"
                        ],
                        [
                          0.2,
                          "#de77ae"
                        ],
                        [
                          0.3,
                          "#f1b6da"
                        ],
                        [
                          0.4,
                          "#fde0ef"
                        ],
                        [
                          0.5,
                          "#f7f7f7"
                        ],
                        [
                          0.6,
                          "#e6f5d0"
                        ],
                        [
                          0.7,
                          "#b8e186"
                        ],
                        [
                          0.8,
                          "#7fbc41"
                        ],
                        [
                          0.9,
                          "#4d9221"
                        ],
                        [
                          1,
                          "#276419"
                        ]
                      ],
                      "sequential": [
                        [
                          0,
                          "#0d0887"
                        ],
                        [
                          0.1111111111111111,
                          "#46039f"
                        ],
                        [
                          0.2222222222222222,
                          "#7201a8"
                        ],
                        [
                          0.3333333333333333,
                          "#9c179e"
                        ],
                        [
                          0.4444444444444444,
                          "#bd3786"
                        ],
                        [
                          0.5555555555555556,
                          "#d8576b"
                        ],
                        [
                          0.6666666666666666,
                          "#ed7953"
                        ],
                        [
                          0.7777777777777778,
                          "#fb9f3a"
                        ],
                        [
                          0.8888888888888888,
                          "#fdca26"
                        ],
                        [
                          1,
                          "#f0f921"
                        ]
                      ],
                      "sequentialminus": [
                        [
                          0,
                          "#0d0887"
                        ],
                        [
                          0.1111111111111111,
                          "#46039f"
                        ],
                        [
                          0.2222222222222222,
                          "#7201a8"
                        ],
                        [
                          0.3333333333333333,
                          "#9c179e"
                        ],
                        [
                          0.4444444444444444,
                          "#bd3786"
                        ],
                        [
                          0.5555555555555556,
                          "#d8576b"
                        ],
                        [
                          0.6666666666666666,
                          "#ed7953"
                        ],
                        [
                          0.7777777777777778,
                          "#fb9f3a"
                        ],
                        [
                          0.8888888888888888,
                          "#fdca26"
                        ],
                        [
                          1,
                          "#f0f921"
                        ]
                      ]
                    },
                    "colorway": [
                      "#636efa",
                      "#EF553B",
                      "#00cc96",
                      "#ab63fa",
                      "#FFA15A",
                      "#19d3f3",
                      "#FF6692",
                      "#B6E880",
                      "#FF97FF",
                      "#FECB52"
                    ],
                    "font": {
                      "color": "#2a3f5f"
                    },
                    "geo": {
                      "bgcolor": "white",
                      "lakecolor": "white",
                      "landcolor": "#E5ECF6",
                      "showlakes": true,
                      "showland": true,
                      "subunitcolor": "white"
                    },
                    "hoverlabel": {
                      "align": "left"
                    },
                    "hovermode": "closest",
                    "mapbox": {
                      "style": "light"
                    },
                    "paper_bgcolor": "white",
                    "plot_bgcolor": "#E5ECF6",
                    "polar": {
                      "angularaxis": {
                        "gridcolor": "white",
                        "linecolor": "white",
                        "ticks": ""
                      },
                      "bgcolor": "#E5ECF6",
                      "radialaxis": {
                        "gridcolor": "white",
                        "linecolor": "white",
                        "ticks": ""
                      }
                    },
                    "scene": {
                      "xaxis": {
                        "backgroundcolor": "#E5ECF6",
                        "gridcolor": "white",
                        "gridwidth": 2,
                        "linecolor": "white",
                        "showbackground": true,
                        "ticks": "",
                        "zerolinecolor": "white"
                      },
                      "yaxis": {
                        "backgroundcolor": "#E5ECF6",
                        "gridcolor": "white",
                        "gridwidth": 2,
                        "linecolor": "white",
                        "showbackground": true,
                        "ticks": "",
                        "zerolinecolor": "white"
                      },
                      "zaxis": {
                        "backgroundcolor": "#E5ECF6",
                        "gridcolor": "white",
                        "gridwidth": 2,
                        "linecolor": "white",
                        "showbackground": true,
                        "ticks": "",
                        "zerolinecolor": "white"
                      }
                    },
                    "shapedefaults": {
                      "line": {
                        "color": "#2a3f5f"
                      }
                    },
                    "ternary": {
                      "aaxis": {
                        "gridcolor": "white",
                        "linecolor": "white",
                        "ticks": ""
                      },
                      "baxis": {
                        "gridcolor": "white",
                        "linecolor": "white",
                        "ticks": ""
                      },
                      "bgcolor": "#E5ECF6",
                      "caxis": {
                        "gridcolor": "white",
                        "linecolor": "white",
                        "ticks": ""
                      }
                    },
                    "title": {
                      "x": 0.05
                    },
                    "xaxis": {
                      "automargin": true,
                      "gridcolor": "white",
                      "linecolor": "white",
                      "ticks": "",
                      "title": {
                        "standoff": 15
                      },
                      "zerolinecolor": "white",
                      "zerolinewidth": 2
                    },
                    "yaxis": {
                      "automargin": true,
                      "gridcolor": "white",
                      "linecolor": "white",
                      "ticks": "",
                      "title": {
                        "standoff": 15
                      },
                      "zerolinecolor": "white",
                      "zerolinewidth": 2
                    }
                  }
                },
                "width": 900
              }
            }
          },
          "metadata": {}
        }
      ],
      "metadata": {}
    },
    {
      "cell_type": "code",
      "execution_count": 109,
      "source": [
        "silhoutte_value = metrics.silhouette_score(X_scaled, model65.labels_, metric='euclidean')\r\n",
        "silhoutte_value \r\n"
      ],
      "outputs": [
        {
          "output_type": "execute_result",
          "data": {
            "text/plain": [
              "0.6332043486256013"
            ]
          },
          "metadata": {},
          "execution_count": 109
        }
      ],
      "metadata": {}
    },
    {
      "cell_type": "code",
      "execution_count": 112,
      "source": [
        "def plot_silhouette(data, \r\n",
        "                    labels,\r\n",
        "                   ylabel = 'Clústeres',\r\n",
        "                   xlabel = \"Silhouette coefficient\",\r\n",
        "                   title = 'Silhouette Plot'):\r\n",
        "    '''\r\n",
        "    Graficar la silueta de los clusters\r\n",
        "    \r\n",
        "    Parametros\r\n",
        "    ----------\r\n",
        "    data : np.array\r\n",
        "        El arreglo con los datos\r\n",
        "    labels : np.array\r\n",
        "        El arreglo con las etiquetas correspondientes\r\n",
        "    ylabel  string\r\n",
        "        La etiqueta del eje y\r\n",
        "    xlabel : string\r\n",
        "        La etiqueta del eje x\r\n",
        "    title : string\r\n",
        "        El titulo de la gráfica        \r\n",
        "    '''\r\n",
        "    cluster_labels = np.unique(labels)\r\n",
        "    print(cluster_labels)\r\n",
        "    n_clusters = cluster_labels.shape[0]\r\n",
        "    silhouette_vals = silhouette_samples(data,\r\n",
        "                                        labels,\r\n",
        "                                        metric='euclidean')\r\n",
        "    y_ax_lower, y_ax_upper = 0, 0\r\n",
        "    yticks = []\r\n",
        "    for i, c in enumerate(cluster_labels):\r\n",
        "        c_silhouette_vals = silhouette_vals[labels == c]\r\n",
        "        c_silhouette_vals.sort()\r\n",
        "        y_ax_upper += len(c_silhouette_vals)\r\n",
        "        color = cm.jet(float(i) / n_clusters)\r\n",
        "        plt.barh(range(y_ax_lower, y_ax_upper),\r\n",
        "                        c_silhouette_vals,\r\n",
        "                        height=1.0,\r\n",
        "                        edgecolor='none',\r\n",
        "                        color=color)\r\n",
        "        yticks.append((y_ax_lower + y_ax_upper) / 2.)\r\n",
        "        y_ax_lower += len(c_silhouette_vals)\r\n",
        "    silhouette_avg = np.mean(silhouette_vals)\r\n",
        "    plt.axvline(silhouette_avg,\r\n",
        "                color=\"red\",\r\n",
        "                linestyle=\"--\")\r\n",
        "    plt.yticks(yticks, cluster_labels+1)\r\n",
        "    plt.ylabel(ylabel)\r\n",
        "    plt.xlabel(xlabel)\r\n",
        "    plt.title(title)\r\n",
        "    plt.show()\r\n",
        "\r\n",
        "plot_silhouette(data = X_scaled, \r\n",
        "                labels = model65.labels_, \r\n",
        "                ylabel = 'Clustering with four clusters')"
      ],
      "outputs": [
        {
          "output_type": "stream",
          "name": "stdout",
          "text": [
            "[-1  0  1  2  3  4  5  6  7  8  9 10 11 12 13 14 15 16 17 18 19 20 21 22\n",
            " 23 24 25 26 27 28 29 30 31 32 33 34 35 36 37 38 39 40 41 42 43 44 45 46\n",
            " 47 48 49 50 51 52 53 54 55 56 57 58 59 60 61]\n"
          ]
        },
        {
          "output_type": "display_data",
          "data": {
            "image/png": "[encoded data removed]",
            "text/plain": [
              "<Figure size 576x396 with 1 Axes>"
            ]
          },
          "metadata": {}
        }
      ],
      "metadata": {}
    }
  ]
}