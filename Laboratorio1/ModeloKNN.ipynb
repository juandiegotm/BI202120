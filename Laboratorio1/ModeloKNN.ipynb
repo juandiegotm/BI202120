{
 "cells": [
  {
   "cell_type": "code",
   "execution_count": 127,
   "metadata": {},
   "outputs": [],
   "source": [
    "#Laboratorio 1 \n",
    "#KNN"
   ]
  },
  {
   "cell_type": "code",
   "execution_count": 128,
   "metadata": {},
   "outputs": [],
   "source": [
    "#Preparacion Datos"
   ]
  },
  {
   "cell_type": "code",
   "execution_count": 176,
   "metadata": {},
   "outputs": [],
   "source": [
    "# Importar librerias\n",
    "import pandas as pd\n",
    "pd.set_option('display.max_columns', 25) # Número máximo de columnas a mostrar\n",
    "pd.set_option('display.max_rows', 50) # Numero máximo de filas a mostar\n",
    "import numpy as np\n",
    "np.random.seed(3301)\n",
    "import pandas as pd\n",
    "# Para preparar los datos\n",
    "from sklearn.preprocessing import LabelEncoder\n",
    "# Para realizar la separación del conjunto de aprendizaje en entrenamiento y test.\n",
    "from sklearn.model_selection import train_test_split\n",
    "\n",
    "#KNN\n",
    "from sklearn.neighbors import KNeighborsClassifier\n",
    "\n",
    "# Para evaluar el modelo\n",
    "from sklearn.metrics import confusion_matrix, classification_report, precision_score, recall_score, f1_score, accuracy_score\n",
    "from sklearn.metrics import plot_confusion_matrix\n",
    "# Para búsqueda de hiperparámetros\n",
    "from sklearn.model_selection import GridSearchCV\n",
    "# Para la validación cruzada\n",
    "from sklearn.model_selection import KFold \n",
    "#Librerías para la visualización\n",
    "import matplotlib as mplt\n",
    "import matplotlib.pyplot as plt\n",
    "# Seaborn\n",
    "import seaborn as sns \n",
    "from sklearn import tree"
   ]
  },
  {
   "cell_type": "code",
   "execution_count": 177,
   "metadata": {},
   "outputs": [],
   "source": [
    "# Ubicacion de la base de datos\n",
    "db_location = \"SaludAlpes_diagnosticos_dataset.csv\"\n",
    "# Leer los datos\n",
    "df_health = pd.read_csv(db_location, delimiter=\";\")"
   ]
  },
  {
   "cell_type": "markdown",
   "metadata": {},
   "source": [
    "**Corregir valores**"
   ]
  },
  {
   "cell_type": "code",
   "execution_count": 178,
   "metadata": {},
   "outputs": [],
   "source": [
    "#Pregnancies; Eliminar \"-\"\n",
    "df_health[\"Pregnancies\"] = [s.replace(\"-\", \"0\") for s in df_health[\"Pregnancies\"]]\n",
    "df_health['Pregnancies'] = df_health['Pregnancies'].astype(int)"
   ]
  },
  {
   "cell_type": "code",
   "execution_count": 179,
   "metadata": {},
   "outputs": [],
   "source": [
    "#Glucosa: Eliminar \"-\" y 0\n",
    "df_health[\"Glucose\"] = [s.replace(\"-\", \"122\") for s in df_health[\"Glucose\"]]\n",
    "def change_zeros_Glucose (row):\n",
    "    if row['Glucose'] == '0' :\n",
    "        return 122\n",
    "    if row['Glucose'] == 0 :\n",
    "        return 122\n",
    "    return row['Glucose']\n",
    "df_health['Glucose']= df_health.apply(lambda row:change_zeros_Glucose(row),axis=1)\n",
    "df_health['Glucose'] = df_health['Glucose'].astype(int)\n"
   ]
  },
  {
   "cell_type": "code",
   "execution_count": 180,
   "metadata": {},
   "outputs": [],
   "source": [
    "#Blood pressure\n",
    "df_health[\"BloodPressure\"] = [s.replace(\"-\", \"72\") for s in df_health[\"BloodPressure\"]]\n",
    "def change_zeros_BloodPressure (row):\n",
    "    if row['BloodPressure'] == '0' :\n",
    "        return 72\n",
    "    if row['BloodPressure'] == 0 :\n",
    "        return 72\n",
    "    return row['BloodPressure']\n",
    "df_health['BloodPressure']= df_health.apply(lambda row:change_zeros_BloodPressure(row),axis=1)\n",
    "df_health['BloodPressure'] = df_health['BloodPressure'].astype(int)"
   ]
  },
  {
   "cell_type": "code",
   "execution_count": 181,
   "metadata": {},
   "outputs": [],
   "source": [
    "#Skin Thickness\n",
    "df_health[\"SkinThickness\"] = [s.replace(\"-\", \"21\") for s in df_health[\"SkinThickness\"]]\n",
    "df_health['SkinThickness'] = df_health['SkinThickness'].astype(int)"
   ]
  },
  {
   "cell_type": "code",
   "execution_count": 182,
   "metadata": {},
   "outputs": [],
   "source": [
    "#Insulina\n",
    "df_health[\"Insulin\"] = [s.replace(\"-\", \"80\") for s in df_health[\"Insulin\"]]\n",
    "df_health['Insulin'] = df_health['Insulin'].astype(int)"
   ]
  },
  {
   "cell_type": "code",
   "execution_count": 183,
   "metadata": {},
   "outputs": [],
   "source": [
    "#Diabetis pedigree function\n",
    "df_health[\"DiabetesPedigreeFunction\"] = [s.replace(\"-\", \"432\") for s in df_health[\"DiabetesPedigreeFunction\"]]\n",
    "df_health['DiabetesPedigreeFunction'] = df_health['DiabetesPedigreeFunction'].astype(int)"
   ]
  },
  {
   "cell_type": "code",
   "execution_count": 184,
   "metadata": {},
   "outputs": [],
   "source": [
    "#Cambiar las edades que no tienen sentido\n",
    "df_health['Age'].replace({450:33,3256:33},inplace = True)"
   ]
  },
  {
   "cell_type": "code",
   "execution_count": 185,
   "metadata": {},
   "outputs": [],
   "source": [
    "#En BMI no hay que modificar entradas porque no hay erroes"
   ]
  },
  {
   "cell_type": "code",
   "execution_count": 186,
   "metadata": {},
   "outputs": [
    {
     "data": {
      "text/plain": [
       "0    499\n",
       "1    268\n",
       "-      1\n",
       "Name: Outcome, dtype: int64"
      ]
     },
     "execution_count": 186,
     "metadata": {},
     "output_type": "execute_result"
    }
   ],
   "source": [
    "#Mirar resultados del outcome\n",
    "df_health['Outcome'].value_counts()"
   ]
  },
  {
   "cell_type": "code",
   "execution_count": 187,
   "metadata": {},
   "outputs": [
    {
     "data": {
      "image/png": "[encoded data removed]",
      "text/plain": [
       "<Figure size 432x288 with 1 Axes>"
      ]
     },
     "metadata": {
      "needs_background": "light"
     },
     "output_type": "display_data"
    }
   ],
   "source": [
    "ax = sns.countplot(x='Outcome', data=df_health)"
   ]
  },
  {
   "cell_type": "code",
   "execution_count": 188,
   "metadata": {},
   "outputs": [],
   "source": [
    "#Eliminar fila de '-'\n",
    "df_health= df_health[df_health['Outcome']!='-']\n",
    "df_health['Outcome'] = df_health['Outcome'].astype(int)"
   ]
  },
  {
   "cell_type": "code",
   "execution_count": 189,
   "metadata": {},
   "outputs": [
    {
     "data": {
      "text/html": [
       "<div>\n",
       "<style scoped>\n",
       "    .dataframe tbody tr th:only-of-type {\n",
       "        vertical-align: middle;\n",
       "    }\n",
       "\n",
       "    .dataframe tbody tr th {\n",
       "        vertical-align: top;\n",
       "    }\n",
       "\n",
       "    .dataframe thead th {\n",
       "        text-align: right;\n",
       "    }\n",
       "</style>\n",
       "<table border=\"1\" class=\"dataframe\">\n",
       "  <thead>\n",
       "    <tr style=\"text-align: right;\">\n",
       "      <th></th>\n",
       "      <th>Pregnancies</th>\n",
       "      <th>Glucose</th>\n",
       "      <th>BloodPressure</th>\n",
       "      <th>SkinThickness</th>\n",
       "      <th>Insulin</th>\n",
       "      <th>BMI</th>\n",
       "      <th>DiabetesPedigreeFunction</th>\n",
       "      <th>Age</th>\n",
       "      <th>Outcome</th>\n",
       "    </tr>\n",
       "  </thead>\n",
       "  <tbody>\n",
       "    <tr>\n",
       "      <th>0</th>\n",
       "      <td>6</td>\n",
       "      <td>148</td>\n",
       "      <td>72</td>\n",
       "      <td>35</td>\n",
       "      <td>0</td>\n",
       "      <td>336</td>\n",
       "      <td>627</td>\n",
       "      <td>50</td>\n",
       "      <td>1</td>\n",
       "    </tr>\n",
       "    <tr>\n",
       "      <th>1</th>\n",
       "      <td>1</td>\n",
       "      <td>85</td>\n",
       "      <td>66</td>\n",
       "      <td>29</td>\n",
       "      <td>0</td>\n",
       "      <td>266</td>\n",
       "      <td>351</td>\n",
       "      <td>31</td>\n",
       "      <td>0</td>\n",
       "    </tr>\n",
       "    <tr>\n",
       "      <th>2</th>\n",
       "      <td>8</td>\n",
       "      <td>183</td>\n",
       "      <td>64</td>\n",
       "      <td>0</td>\n",
       "      <td>0</td>\n",
       "      <td>233</td>\n",
       "      <td>672</td>\n",
       "      <td>32</td>\n",
       "      <td>1</td>\n",
       "    </tr>\n",
       "    <tr>\n",
       "      <th>3</th>\n",
       "      <td>1</td>\n",
       "      <td>89</td>\n",
       "      <td>66</td>\n",
       "      <td>23</td>\n",
       "      <td>94</td>\n",
       "      <td>281</td>\n",
       "      <td>167</td>\n",
       "      <td>21</td>\n",
       "      <td>0</td>\n",
       "    </tr>\n",
       "    <tr>\n",
       "      <th>4</th>\n",
       "      <td>0</td>\n",
       "      <td>137</td>\n",
       "      <td>40</td>\n",
       "      <td>35</td>\n",
       "      <td>168</td>\n",
       "      <td>431</td>\n",
       "      <td>2288</td>\n",
       "      <td>33</td>\n",
       "      <td>1</td>\n",
       "    </tr>\n",
       "  </tbody>\n",
       "</table>\n",
       "</div>"
      ],
      "text/plain": [
       "   Pregnancies  Glucose  BloodPressure  SkinThickness  Insulin  BMI  \\\n",
       "0            6      148             72             35        0  336   \n",
       "1            1       85             66             29        0  266   \n",
       "2            8      183             64              0        0  233   \n",
       "3            1       89             66             23       94  281   \n",
       "4            0      137             40             35      168  431   \n",
       "\n",
       "   DiabetesPedigreeFunction  Age  Outcome  \n",
       "0                       627   50        1  \n",
       "1                       351   31        0  \n",
       "2                       672   32        1  \n",
       "3                       167   21        0  \n",
       "4                      2288   33        1  "
      ]
     },
     "execution_count": 189,
     "metadata": {},
     "output_type": "execute_result"
    }
   ],
   "source": [
    "#Elminar columnas inaportantes\n",
    "df_health_Modeling=df_health\n",
    "df_health_Modeling=df_health_Modeling.drop(['City','Hair color'], axis=1)\n",
    "df_health_Modeling.head()"
   ]
  },
  {
   "cell_type": "markdown",
   "metadata": {},
   "source": [
    "## **Construccion Modelo KNN**"
   ]
  },
  {
   "cell_type": "code",
   "execution_count": 190,
   "metadata": {},
   "outputs": [],
   "source": [
    "#Variable Objetivo: Outcome\n",
    "Y = df_health_Modeling['Outcome']"
   ]
  },
  {
   "cell_type": "code",
   "execution_count": 191,
   "metadata": {},
   "outputs": [],
   "source": [
    "# Eliminar variable Outcome del conjunto de datos\n",
    "X = df_health_Modeling.drop(['Outcome'], axis=1)"
   ]
  },
  {
   "cell_type": "code",
   "execution_count": 192,
   "metadata": {},
   "outputs": [],
   "source": [
    "# Dividir los datos en entrenamiento y test\n",
    "X_train, X_test, Y_train, Y_test = train_test_split(X, Y, test_size=0.2, random_state=0)"
   ]
  },
  {
   "cell_type": "markdown",
   "metadata": {},
   "source": [
    "**KNN**"
   ]
  },
  {
   "cell_type": "code",
   "execution_count": 193,
   "metadata": {},
   "outputs": [],
   "source": [
    "neigh = KNeighborsClassifier(n_neighbors=4) #\n",
    "neigh = neigh.fit(X_train, Y_train) #Encaja el clasificador de los K vecinos mas cercanos"
   ]
  },
  {
   "cell_type": "code",
   "execution_count": 194,
   "metadata": {},
   "outputs": [],
   "source": [
    "#Prediccion \n",
    "y_pred = neigh.predict(X_test)"
   ]
  },
  {
   "cell_type": "code",
   "execution_count": 195,
   "metadata": {},
   "outputs": [
    {
     "data": {
      "text/plain": [
       "array([[94, 14],\n",
       "       [35, 11]])"
      ]
     },
     "execution_count": 195,
     "metadata": {},
     "output_type": "execute_result"
    }
   ],
   "source": [
    "#Matriz confusion\n",
    "confusion_matrix(Y_test, y_pred)"
   ]
  },
  {
   "cell_type": "code",
   "execution_count": 196,
   "metadata": {},
   "outputs": [
    {
     "data": {
      "image/png": "[encoded data removed]",
      "text/plain": [
       "<Figure size 432x288 with 2 Axes>"
      ]
     },
     "metadata": {
      "needs_background": "light"
     },
     "output_type": "display_data"
    }
   ],
   "source": [
    "#Matriz confusion\n",
    "plot_confusion_matrix(neigh, X_test, Y_test)  \n",
    "plt.show()"
   ]
  },
  {
   "cell_type": "markdown",
   "metadata": {},
   "source": [
    "- Verdaderos Positivos: 82\n",
    "- Falsos negativos: 26\n",
    "- Falsos positivos: 25\n",
    "- Verdaderos negativos: 21"
   ]
  },
  {
   "cell_type": "code",
   "execution_count": 197,
   "metadata": {},
   "outputs": [
    {
     "name": "stdout",
     "output_type": "stream",
     "text": [
      "              precision    recall  f1-score   support\n",
      "\n",
      "           0       0.73      0.87      0.79       108\n",
      "           1       0.44      0.24      0.31        46\n",
      "\n",
      "    accuracy                           0.68       154\n",
      "   macro avg       0.58      0.55      0.55       154\n",
      "weighted avg       0.64      0.68      0.65       154\n",
      "\n"
     ]
    }
   ],
   "source": [
    "#Reporte Clasificacion\n",
    "print(classification_report(Y_test, y_pred))"
   ]
  },
  {
   "cell_type": "code",
   "execution_count": 198,
   "metadata": {},
   "outputs": [
    {
     "name": "stdout",
     "output_type": "stream",
     "text": [
      "Exactitud: 0.68\n",
      "Recall: 0.2391304347826087\n",
      "Precisión: 0.44\n",
      "Puntuación F1: 0.3098591549295775\n"
     ]
    }
   ],
   "source": [
    "print('Exactitud: %.2f' % accuracy_score(Y_test, y_pred))\n",
    "print(\"Recall: {}\".format(recall_score(Y_test,y_pred)))\n",
    "print(\"Precisión: {}\".format(precision_score(Y_test,y_pred)))\n",
    "print(\"Puntuación F1: {}\".format(f1_score(Y_test,y_pred)))"
   ]
  },
  {
   "cell_type": "markdown",
   "metadata": {},
   "source": [
    "- Exactitud: Porcentaje de predicciones correctas\n",
    "- Recall: Porcentaje de aciertos de positivos. Que proporcion de los positivos reales fue identificada correctamente\n",
    "- Precision: Porcentaje de positivos (falsos y verdaderos) que fue identificado correctamente\n",
    "- F1: Balance entre precision y recall"
   ]
  },
  {
   "cell_type": "code",
   "execution_count": 199,
   "metadata": {},
   "outputs": [
    {
     "name": "stdout",
     "output_type": "stream",
     "text": [
      "     Pregnancies   Glucose  BloodPressure  SkinThickness   Insulin       BMI  \\\n",
      "0       0.352941  0.670968       0.489796       0.353535  0.000000  0.500745   \n",
      "1       0.058824  0.264516       0.428571       0.292929  0.000000  0.396423   \n",
      "2       0.470588  0.896774       0.408163       0.000000  0.000000  0.347243   \n",
      "3       0.058824  0.290323       0.428571       0.232323  0.111111  0.418778   \n",
      "4       0.000000  0.600000       0.163265       0.353535  0.198582  0.642325   \n",
      "..           ...       ...            ...            ...       ...       ...   \n",
      "763     0.588235  0.367742       0.530612       0.484848  0.212766  0.490313   \n",
      "764     0.117647  0.503226       0.469388       0.272727  0.000000  0.548435   \n",
      "765     0.294118  0.496774       0.489796       0.232323  0.132388  0.390462   \n",
      "766     0.058824  0.529032       0.367347       0.000000  0.000000  0.448584   \n",
      "767     0.058824  0.316129       0.469388       0.313131  0.000000  0.453055   \n",
      "\n",
      "     DiabetesPedigreeFunction       Age  Outcome  \n",
      "0                    0.268900  0.483333      1.0  \n",
      "1                    0.150344  0.166667      0.0  \n",
      "2                    0.288230  0.183333      1.0  \n",
      "3                    0.071306  0.000000      0.0  \n",
      "4                    0.982388  0.200000      1.0  \n",
      "..                        ...       ...      ...  \n",
      "763                  0.073024  0.700000      0.0  \n",
      "764                  0.014175  0.100000      0.0  \n",
      "765                  0.104811  0.150000      0.0  \n",
      "766                  0.149485  0.433333      1.0  \n",
      "767                  0.134880  0.033333      0.0  \n",
      "\n",
      "[767 rows x 9 columns]\n"
     ]
    }
   ],
   "source": [
    "#Prueba de KNN con datos Normalizados\n",
    "df_health_pru = df_health_Modeling.copy()\n",
    "df_health_pru\n",
    "normalized_df=(df_health_pru-df_health_pru.min())/(df_health_pru.max()-df_health_pru.min())\n",
    "\n",
    "print(normalized_df)"
   ]
  },
  {
   "cell_type": "code",
   "execution_count": 200,
   "metadata": {},
   "outputs": [
    {
     "data": {
      "text/html": [
       "<div>\n",
       "<style scoped>\n",
       "    .dataframe tbody tr th:only-of-type {\n",
       "        vertical-align: middle;\n",
       "    }\n",
       "\n",
       "    .dataframe tbody tr th {\n",
       "        vertical-align: top;\n",
       "    }\n",
       "\n",
       "    .dataframe thead th {\n",
       "        text-align: right;\n",
       "    }\n",
       "</style>\n",
       "<table border=\"1\" class=\"dataframe\">\n",
       "  <thead>\n",
       "    <tr style=\"text-align: right;\">\n",
       "      <th></th>\n",
       "      <th>Pregnancies</th>\n",
       "      <th>Glucose</th>\n",
       "      <th>BloodPressure</th>\n",
       "      <th>SkinThickness</th>\n",
       "      <th>Insulin</th>\n",
       "      <th>BMI</th>\n",
       "      <th>DiabetesPedigreeFunction</th>\n",
       "      <th>Age</th>\n",
       "      <th>Outcome</th>\n",
       "    </tr>\n",
       "  </thead>\n",
       "  <tbody>\n",
       "    <tr>\n",
       "      <th>count</th>\n",
       "      <td>767.000000</td>\n",
       "      <td>767.000000</td>\n",
       "      <td>767.000000</td>\n",
       "      <td>767.000000</td>\n",
       "      <td>767.000000</td>\n",
       "      <td>767.000000</td>\n",
       "      <td>767.000000</td>\n",
       "      <td>767.000000</td>\n",
       "      <td>767.000000</td>\n",
       "    </tr>\n",
       "    <tr>\n",
       "      <th>mean</th>\n",
       "      <td>0.225861</td>\n",
       "      <td>0.501401</td>\n",
       "      <td>0.493694</td>\n",
       "      <td>0.207709</td>\n",
       "      <td>0.094449</td>\n",
       "      <td>0.431699</td>\n",
       "      <td>0.185307</td>\n",
       "      <td>0.204346</td>\n",
       "      <td>0.349413</td>\n",
       "    </tr>\n",
       "    <tr>\n",
       "      <th>std</th>\n",
       "      <td>0.198143</td>\n",
       "      <td>0.196424</td>\n",
       "      <td>0.123508</td>\n",
       "      <td>0.161064</td>\n",
       "      <td>0.136268</td>\n",
       "      <td>0.174040</td>\n",
       "      <td>0.144392</td>\n",
       "      <td>0.195783</td>\n",
       "      <td>0.477096</td>\n",
       "    </tr>\n",
       "    <tr>\n",
       "      <th>min</th>\n",
       "      <td>0.000000</td>\n",
       "      <td>0.000000</td>\n",
       "      <td>0.000000</td>\n",
       "      <td>0.000000</td>\n",
       "      <td>0.000000</td>\n",
       "      <td>0.000000</td>\n",
       "      <td>0.000000</td>\n",
       "      <td>0.000000</td>\n",
       "      <td>0.000000</td>\n",
       "    </tr>\n",
       "    <tr>\n",
       "      <th>25%</th>\n",
       "      <td>0.058824</td>\n",
       "      <td>0.358065</td>\n",
       "      <td>0.408163</td>\n",
       "      <td>0.000000</td>\n",
       "      <td>0.000000</td>\n",
       "      <td>0.374814</td>\n",
       "      <td>0.087844</td>\n",
       "      <td>0.050000</td>\n",
       "      <td>0.000000</td>\n",
       "    </tr>\n",
       "    <tr>\n",
       "      <th>50%</th>\n",
       "      <td>0.176471</td>\n",
       "      <td>0.470968</td>\n",
       "      <td>0.489796</td>\n",
       "      <td>0.232323</td>\n",
       "      <td>0.037825</td>\n",
       "      <td>0.460507</td>\n",
       "      <td>0.144330</td>\n",
       "      <td>0.133333</td>\n",
       "      <td>0.000000</td>\n",
       "    </tr>\n",
       "    <tr>\n",
       "      <th>75%</th>\n",
       "      <td>0.352941</td>\n",
       "      <td>0.622581</td>\n",
       "      <td>0.571429</td>\n",
       "      <td>0.323232</td>\n",
       "      <td>0.150709</td>\n",
       "      <td>0.535022</td>\n",
       "      <td>0.253866</td>\n",
       "      <td>0.333333</td>\n",
       "      <td>1.000000</td>\n",
       "    </tr>\n",
       "    <tr>\n",
       "      <th>max</th>\n",
       "      <td>1.000000</td>\n",
       "      <td>1.000000</td>\n",
       "      <td>1.000000</td>\n",
       "      <td>1.000000</td>\n",
       "      <td>1.000000</td>\n",
       "      <td>1.000000</td>\n",
       "      <td>1.000000</td>\n",
       "      <td>1.000000</td>\n",
       "      <td>1.000000</td>\n",
       "    </tr>\n",
       "  </tbody>\n",
       "</table>\n",
       "</div>"
      ],
      "text/plain": [
       "       Pregnancies     Glucose  BloodPressure  SkinThickness     Insulin  \\\n",
       "count   767.000000  767.000000     767.000000     767.000000  767.000000   \n",
       "mean      0.225861    0.501401       0.493694       0.207709    0.094449   \n",
       "std       0.198143    0.196424       0.123508       0.161064    0.136268   \n",
       "min       0.000000    0.000000       0.000000       0.000000    0.000000   \n",
       "25%       0.058824    0.358065       0.408163       0.000000    0.000000   \n",
       "50%       0.176471    0.470968       0.489796       0.232323    0.037825   \n",
       "75%       0.352941    0.622581       0.571429       0.323232    0.150709   \n",
       "max       1.000000    1.000000       1.000000       1.000000    1.000000   \n",
       "\n",
       "              BMI  DiabetesPedigreeFunction         Age     Outcome  \n",
       "count  767.000000                767.000000  767.000000  767.000000  \n",
       "mean     0.431699                  0.185307    0.204346    0.349413  \n",
       "std      0.174040                  0.144392    0.195783    0.477096  \n",
       "min      0.000000                  0.000000    0.000000    0.000000  \n",
       "25%      0.374814                  0.087844    0.050000    0.000000  \n",
       "50%      0.460507                  0.144330    0.133333    0.000000  \n",
       "75%      0.535022                  0.253866    0.333333    1.000000  \n",
       "max      1.000000                  1.000000    1.000000    1.000000  "
      ]
     },
     "execution_count": 200,
     "metadata": {},
     "output_type": "execute_result"
    }
   ],
   "source": [
    "normalized_df.describe()"
   ]
  },
  {
   "cell_type": "code",
   "execution_count": 201,
   "metadata": {},
   "outputs": [],
   "source": [
    "Yn = normalized_df['Outcome']\n",
    "\n",
    "Xn = normalized_df.drop(['Outcome'], axis=1)"
   ]
  },
  {
   "cell_type": "code",
   "execution_count": 202,
   "metadata": {},
   "outputs": [
    {
     "name": "stdout",
     "output_type": "stream",
     "text": [
      "Exactitud: 0.81\n",
      "Recall: 0.5434782608695652\n",
      "Precisión: 0.7575757575757576\n",
      "Puntuación F1: 0.6329113924050633\n"
     ]
    }
   ],
   "source": [
    "#KNN con Datos Normalizados\n",
    "X_train_n, X_test_n, Y_train_n, Y_test_n = train_test_split(Xn, Yn, test_size=0.2, random_state=0)\n",
    "neigh_norm = KNeighborsClassifier(n_neighbors=10) #10 Vecinos\n",
    "neigh_norm = neigh_norm.fit(X_train_n, Y_train_n) \n",
    "y_pred_n = neigh_norm.predict(X_test_n) \n",
    "print('Exactitud: %.2f' % accuracy_score(Y_test_n, y_pred_n))\n",
    "print(\"Recall: {}\".format(recall_score(Y_test_n,y_pred_n)))\n",
    "print(\"Precisión: {}\".format(precision_score(Y_test_n,y_pred_n)))\n",
    "print(\"Puntuación F1: {}\".format(f1_score(Y_test_n,y_pred_n)))\n"
   ]
  },
  {
   "cell_type": "code",
   "execution_count": 203,
   "metadata": {},
   "outputs": [
    {
     "data": {
      "image/png": "[encoded data removed]",
      "text/plain": [
       "<Figure size 432x288 with 2 Axes>"
      ]
     },
     "metadata": {
      "needs_background": "light"
     },
     "output_type": "display_data"
    }
   ],
   "source": [
    "plot_confusion_matrix(neigh_norm, X_test_n, Y_test_n)  \n",
    "plt.show()"
   ]
  },
  {
   "cell_type": "markdown",
   "metadata": {},
   "source": [
    "Aca podemos ver que cuando normalizamos los datos y utilizamos 10 vecinos, el modelo arroja muchos mejores resultados. El numero de verdaderos positivos es 100, mucho mayor a los modelos anteriores. Ademas de eso, la precision y la exactitud tienen valores de 0.81 y 0.75 respectivamente"
   ]
  },
  {
   "cell_type": "code",
   "execution_count": 204,
   "metadata": {},
   "outputs": [
    {
     "name": "stdout",
     "output_type": "stream",
     "text": [
      "Exactitud: 0.79\n",
      "Recall: 0.46846846846846846\n",
      "Precisión: 0.8888888888888888\n",
      "Puntuación F1: 0.6135693215339232\n"
     ]
    }
   ],
   "source": [
    "#Estadisticas con los datos de entrenamiento\n",
    "y_pred = neigh.predict(X_train)\n",
    "print('Exactitud: %.2f' % accuracy_score(Y_train, y_pred))\n",
    "print(\"Recall: {}\".format(recall_score(Y_train,y_pred)))\n",
    "print(\"Precisión: {}\".format(precision_score(Y_train,y_pred)))\n",
    "print(\"Puntuación F1: {}\".format(f1_score(Y_train,y_pred)))"
   ]
  },
  {
   "cell_type": "markdown",
   "metadata": {},
   "source": [
    "## **Escoger Mejores Hiperparametros**"
   ]
  },
  {
   "cell_type": "code",
   "execution_count": 205,
   "metadata": {},
   "outputs": [],
   "source": [
    "# Parametros a modificar: \n",
    "#Numero de vecinos: de 0 a 11\n",
    "n_neighbors = list(range(1,12))\n",
    "n_odd_neighbors = list(filter(lambda x: (x % 2 != 0), n_neighbors))\n",
    "\n",
    "#Funcioon de distancia: Manhatan o Euclidena\n",
    "p=[1,2] "
   ]
  },
  {
   "cell_type": "code",
   "execution_count": 206,
   "metadata": {},
   "outputs": [
    {
     "data": {
      "text/plain": [
       "{'n_neighbors': [1, 2, 3, 4, 5, 6, 7, 8, 9, 10, 11], 'p': [1, 2]}"
      ]
     },
     "execution_count": 206,
     "metadata": {},
     "output_type": "execute_result"
    }
   ],
   "source": [
    "#Diccionario de hiperparametros\n",
    "hiperparametros = dict(n_neighbors=n_neighbors,p=p)\n",
    "hiperparametros"
   ]
  },
  {
   "cell_type": "code",
   "execution_count": 207,
   "metadata": {},
   "outputs": [],
   "source": [
    "#KNN modificado\n",
    "knn_hiper = KNeighborsClassifier()"
   ]
  },
  {
   "cell_type": "markdown",
   "metadata": {},
   "source": [
    "Se aplica GridSearch, lo cual implementa un \"fit\", \"score\" y \"predict\" utilizando los distintos parametros que estann en el diccionatio. Realiza un modelo con parametros \"cross\" validados para encontrar el modelo que arroje los mejores resultados"
   ]
  },
  {
   "cell_type": "code",
   "execution_count": 208,
   "metadata": {},
   "outputs": [],
   "source": [
    "#Grid\n",
    "knn_grid = GridSearchCV(knn_hiper, hiperparametros, cv=10)"
   ]
  },
  {
   "cell_type": "code",
   "execution_count": 209,
   "metadata": {},
   "outputs": [
    {
     "data": {
      "text/plain": [
       "GridSearchCV(cv=10, estimator=KNeighborsClassifier(),\n",
       "             param_grid={'n_neighbors': [1, 2, 3, 4, 5, 6, 7, 8, 9, 10, 11],\n",
       "                         'p': [1, 2]})"
      ]
     },
     "execution_count": 209,
     "metadata": {},
     "output_type": "execute_result"
    }
   ],
   "source": [
    "knn_grid.fit(X_train, Y_train)"
   ]
  },
  {
   "cell_type": "code",
   "execution_count": 210,
   "metadata": {},
   "outputs": [
    {
     "name": "stdout",
     "output_type": "stream",
     "text": [
      "Best p: 2\n",
      "Best n_neighbors: 7\n"
     ]
    }
   ],
   "source": [
    "#Valor de los hiperparametros con los mejores resultados\n",
    "print('Best p:', knn_grid.best_estimator_.get_params()['p'])\n",
    "print('Best n_neighbors:', knn_grid.best_estimator_.get_params()['n_neighbors'])"
   ]
  },
  {
   "cell_type": "code",
   "execution_count": 211,
   "metadata": {},
   "outputs": [
    {
     "data": {
      "text/plain": [
       "{'algorithm': 'auto',\n",
       " 'leaf_size': 30,\n",
       " 'metric': 'minkowski',\n",
       " 'metric_params': None,\n",
       " 'n_jobs': None,\n",
       " 'n_neighbors': 7,\n",
       " 'p': 2,\n",
       " 'weights': 'uniform'}"
      ]
     },
     "execution_count": 211,
     "metadata": {},
     "output_type": "execute_result"
    }
   ],
   "source": [
    "knn_grid.best_estimator_.get_params()"
   ]
  },
  {
   "cell_type": "markdown",
   "metadata": {},
   "source": [
    "Con eso podemos concluir que la mejor medida de distancia es la Minkowski y que el numero optimo de vecinos es 7"
   ]
  },
  {
   "cell_type": "markdown",
   "metadata": {},
   "source": [
    "### *Mejor Modelo*"
   ]
  },
  {
   "cell_type": "code",
   "execution_count": 212,
   "metadata": {},
   "outputs": [],
   "source": [
    "# Mejor modelo.\n",
    "mejor_neigh = knn_grid.best_estimator_"
   ]
  },
  {
   "cell_type": "code",
   "execution_count": 213,
   "metadata": {},
   "outputs": [
    {
     "name": "stdout",
     "output_type": "stream",
     "text": [
      "Exactitud sobre entrenamiento: 0.78\n",
      "Exactitud sobre test: 0.69\n"
     ]
    }
   ],
   "source": [
    "#Probar el modelo con los datos de prueba\n",
    "y_pred_train = mejor_neigh.predict(X_train)\n",
    "y_pred_test = mejor_neigh.predict(X_test)\n",
    "print('Exactitud sobre entrenamiento: %.2f' % accuracy_score(Y_train, y_pred_train))\n",
    "print('Exactitud sobre test: %.2f' % accuracy_score(Y_test, y_pred_test))"
   ]
  },
  {
   "cell_type": "code",
   "execution_count": null,
   "metadata": {},
   "outputs": [],
   "source": []
  },
  {
   "cell_type": "code",
   "execution_count": 214,
   "metadata": {},
   "outputs": [
    {
     "name": "stdout",
     "output_type": "stream",
     "text": [
      "Exactitud: 0.79\n",
      "Recall: 0.46846846846846846\n",
      "Precisión: 0.8888888888888888\n",
      "Puntuación F1: 0.6135693215339232\n"
     ]
    }
   ],
   "source": [
    "print('Exactitud: %.2f' % accuracy_score(Y_train, y_pred))\n",
    "print(\"Recall: {}\".format(recall_score(Y_train,y_pred)))\n",
    "print(\"Precisión: {}\".format(precision_score(Y_train,y_pred)))\n",
    "print(\"Puntuación F1: {}\".format(f1_score(Y_train,y_pred)))"
   ]
  },
  {
   "cell_type": "code",
   "execution_count": 215,
   "metadata": {},
   "outputs": [
    {
     "data": {
      "image/png": "[encoded data removed]",
      "text/plain": [
       "<Figure size 432x288 with 2 Axes>"
      ]
     },
     "metadata": {
      "needs_background": "light"
     },
     "output_type": "display_data"
    }
   ],
   "source": [
    "plot_confusion_matrix(mejor_neigh, X_test, Y_test)  \n",
    "plt.show()"
   ]
  },
  {
   "cell_type": "markdown",
   "metadata": {},
   "source": [
    "Aca podemos tuvimos un modelo con una exactitud de 0.79 y una precision de 0.88 . Ademas de eso, un recall bajo y una puntuacion F1 de 71."
   ]
  },
  {
   "cell_type": "markdown",
   "metadata": {},
   "source": [
    "## Busqueda de Hiperparametros con datos normalizados"
   ]
  },
  {
   "cell_type": "code",
   "execution_count": 222,
   "metadata": {},
   "outputs": [
    {
     "data": {
      "text/plain": [
       "GridSearchCV(cv=10, estimator=KNeighborsClassifier(),\n",
       "             param_grid={'n_neighbors': [1, 2, 3, 4, 5, 6, 7, 8, 9, 10, 11],\n",
       "                         'p': [1, 2]})"
      ]
     },
     "execution_count": 222,
     "metadata": {},
     "output_type": "execute_result"
    }
   ],
   "source": [
    "#Creacion Modelo\n",
    "knn_hiper_norm = KNeighborsClassifier()\n",
    "knn_grid_norm = GridSearchCV(knn_hiper_norm, hiperparametros, cv=10)\n",
    "knn_grid_norm.fit(X_train_n, Y_train_n)"
   ]
  },
  {
   "cell_type": "code",
   "execution_count": 223,
   "metadata": {},
   "outputs": [
    {
     "name": "stdout",
     "output_type": "stream",
     "text": [
      "Best p: 2\n",
      "Best n_neighbors: 4\n"
     ]
    }
   ],
   "source": [
    "#Valor de los hiperparametros con los mejores resultados\n",
    "print('Best p:', knn_grid_norm.best_estimator_.get_params()['p'])\n",
    "print('Best n_neighbors:', knn_grid_norm.best_estimator_.get_params()['n_neighbors'])"
   ]
  },
  {
   "cell_type": "code",
   "execution_count": 224,
   "metadata": {},
   "outputs": [],
   "source": [
    "mejor_neigh_norm = knn_grid_norm.best_estimator_"
   ]
  },
  {
   "cell_type": "code",
   "execution_count": 225,
   "metadata": {},
   "outputs": [
    {
     "name": "stdout",
     "output_type": "stream",
     "text": [
      "Exactitud sobre entrenamiento: 0.80\n",
      "Exactitud sobre test: 0.77\n"
     ]
    }
   ],
   "source": [
    "#Probar el modelo con los datos de prueba normalizados\n",
    "y_pred_train_n = mejor_neigh_norm.predict(X_train_n)\n",
    "y_pred_test_n = mejor_neigh_norm.predict(X_test_n)\n",
    "print('Exactitud sobre entrenamiento: %.2f' % accuracy_score(Y_train_n, y_pred_train_n))\n",
    "print('Exactitud sobre test: %.2f' % accuracy_score(Y_test_n, y_pred_test_n))"
   ]
  },
  {
   "cell_type": "code",
   "execution_count": 226,
   "metadata": {},
   "outputs": [
    {
     "data": {
      "image/png": "[encoded data removed]",
      "text/plain": [
       "<Figure size 432x288 with 2 Axes>"
      ]
     },
     "metadata": {
      "needs_background": "light"
     },
     "output_type": "display_data"
    }
   ],
   "source": [
    "plot_confusion_matrix(mejor_neigh_norm, X_test_n, Y_test_n)  \n",
    "plt.show()"
   ]
  },
  {
   "cell_type": "markdown",
   "metadata": {},
   "source": [
    "Conclusión: El mejor modelo ocurre cuando normalizamos los datos y utilizamos 4 k-vecinos y la medida de distancia minkowski"
   ]
  },
  {
   "cell_type": "code",
   "execution_count": null,
   "metadata": {},
   "outputs": [],
   "source": []
  }
 ],
 "metadata": {
  "kernelspec": {
   "display_name": "Python 3",
   "language": "python",
   "name": "python3"
  },
  "language_info": {
   "codemirror_mode": {
    "name": "ipython",
    "version": 3
   },
   "file_extension": ".py",
   "mimetype": "text/x-python",
   "name": "python",
   "nbconvert_exporter": "python",
   "pygments_lexer": "ipython3",
   "version": "3.7.6"
  }
 },
 "nbformat": 4,
 "nbformat_minor": 4
}
